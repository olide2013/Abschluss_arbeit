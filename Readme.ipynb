{
 "cells": [
  {
   "cell_type": "markdown",
   "id": "bb1900ed-d393-4ef4-b02b-21b8b9532f59",
   "metadata": {},
   "source": [
    "## In diesem Experiment wurden zwei Datensätze, der Chicago Vendor, Contract, and Payments Dataset sowie Philadelphia’s Initial Release of City Payments Data, verwendet, um verschiedene Methoden der Datenvorverarbeitung zu testen. Die Ergebnisse der durchgeführten Experimente wurden dabei in den Dateien „onehotencoding“, „experimen.csv“ und „BAE.csv“ dokumentiert."
   ]
  },
  {
   "cell_type": "markdown",
   "id": "8d917c30-e75f-4b0b-8c7d-bda90c293414",
   "metadata": {},
   "source": [
    "## Dabei wurde der Chicago-Datensatz speziell unter dem Namen „label_encoded_table.csv“ weiterverarbeitet, während der Philadelphia-Datensatz als „new_philiData1.csv“ bezeichnet wurde."
   ]
  },
  {
   "cell_type": "markdown",
   "id": "0ea687bb-4b13-48aa-abde-95d9b42a436f",
   "metadata": {},
   "source": [
    
   ]
  },
  {
   "cell_type": "markdown",
   "id": "1596051d-0934-415f-b8c4-5788f38a06dd",
   "metadata": {},
   "source": [
    "## Alle experimentellen Codes für die vier Baseline-Modelle, einschließlich CTGAN, WGAN sowie für globale und lokale Anomalien, befinden sich im Ordner Verzeichnissen „chicago dataset“ und „philadelphia dataset“.\n",
    "\n",
    "## Im Ordner „philadelphia dataset“ gibt es außerdem einen Unterordner „letzte ergebnis plot“, in dem sich einige Plots befinden, die für die Evaluationssektion Ihrer Arbeit erstellt wurden.\n",
    "\n",
    "\n",
    "\n",
    "\n",
    "\n",
    "\n"
   ]
  },
  {
   "cell_type": "code",
   "execution_count": null,
   "id": "9c4eaf21-fa73-46f7-af15-5f175df0ee85",
   "metadata": {},
   "outputs": [],
   "source": []
  }
 ],
 "metadata": {
  "kernelspec": {
   "display_name": "Python 3 (ipykernel)",
   "language": "python",
   "name": "python3"
  },
  "language_info": {
   "codemirror_mode": {
    "name": "ipython",
    "version": 3
   },
   "file_extension": ".py",
   "mimetype": "text/x-python",
   "name": "python",
   "nbconvert_exporter": "python",
   "pygments_lexer": "ipython3",
   "version": "3.12.4"
  }
 },
 "nbformat": 4,
 "nbformat_minor": 5
}
