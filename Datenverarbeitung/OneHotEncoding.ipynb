{
 "cells": [
  {
   "cell_type": "code",
   "execution_count": null,
   "id": "04d8e316-0757-43f2-b416-b3998f589cfa",
   "metadata": {},
   "outputs": [],
   "source": []
  },
  {
   "cell_type": "markdown",
   "id": "ad496142-6815-4ad1-9ac0-2b15cb390269",
   "metadata": {},
   "source": [
    "## One Hot Encoding"
   ]
  },
  {
   "cell_type": "code",
   "execution_count": null,
   "id": "40d083d3-794e-4623-a804-a0bec90cd507",
   "metadata": {},
   "outputs": [],
   "source": []
  },
  {
   "cell_type": "code",
   "execution_count": 1,
   "id": "83f5794a-81c5-4baf-927c-a176a7fb74ec",
   "metadata": {},
   "outputs": [],
   "source": [
    "import numpy as np\n",
    "import pandas as pd \n",
    "from sklearn.preprocessing import OneHotEncoder"
   ]
  },
  {
   "cell_type": "code",
   "execution_count": null,
   "id": "447bd502-db39-46ac-b531-5a65a994284d",
   "metadata": {},
   "outputs": [],
   "source": []
  },
  {
   "cell_type": "code",
   "execution_count": 2,
   "id": "0c0a27f1-607c-4e49-918f-74946b4c7fbc",
   "metadata": {},
   "outputs": [
    {
     "data": {
      "text/html": [
       "<div>\n",
       "<style scoped>\n",
       "    .dataframe tbody tr th:only-of-type {\n",
       "        vertical-align: middle;\n",
       "    }\n",
       "\n",
       "    .dataframe tbody tr th {\n",
       "        vertical-align: top;\n",
       "    }\n",
       "\n",
       "    .dataframe thead th {\n",
       "        text-align: right;\n",
       "    }\n",
       "</style>\n",
       "<table border=\"1\" class=\"dataframe\">\n",
       "  <thead>\n",
       "    <tr style=\"text-align: right;\">\n",
       "      <th></th>\n",
       "      <th>VOUCHER NUMBER</th>\n",
       "      <th>AMOUNT</th>\n",
       "      <th>CHECK DATE</th>\n",
       "      <th>DEPARTMENT NAME</th>\n",
       "      <th>CONTRACT NUMBER</th>\n",
       "      <th>VENDOR NAME</th>\n",
       "      <th>CASHED</th>\n",
       "    </tr>\n",
       "  </thead>\n",
       "  <tbody>\n",
       "    <tr>\n",
       "      <th>0</th>\n",
       "      <td>PV27242780609</td>\n",
       "      <td>4260645.83</td>\n",
       "      <td>06/18/2024</td>\n",
       "      <td>DEPARTMENT OF HEALTH</td>\n",
       "      <td>DV</td>\n",
       "      <td>USI INSURANCE SERVICES LLC.</td>\n",
       "      <td>False</td>\n",
       "    </tr>\n",
       "    <tr>\n",
       "      <th>1</th>\n",
       "      <td>PV27232768083</td>\n",
       "      <td>94.55</td>\n",
       "      <td>12/29/2023</td>\n",
       "      <td>DEPT OF AVIATION</td>\n",
       "      <td>DV</td>\n",
       "      <td>PEARL KOCUR</td>\n",
       "      <td>False</td>\n",
       "    </tr>\n",
       "    <tr>\n",
       "      <th>2</th>\n",
       "      <td>CVIP232100094</td>\n",
       "      <td>152170.84</td>\n",
       "      <td>06/08/2023</td>\n",
       "      <td>DEPARTMENT OF HOUSING</td>\n",
       "      <td>190668</td>\n",
       "      <td>LAWYERS COMMITTEE FOR BETTER HOUSING</td>\n",
       "      <td>True</td>\n",
       "    </tr>\n",
       "    <tr>\n",
       "      <th>3</th>\n",
       "      <td>PVCI23CI705786</td>\n",
       "      <td>63250.00</td>\n",
       "      <td>2021</td>\n",
       "      <td>DEPT OF FAMILY AND SUPPORT SERVICES</td>\n",
       "      <td>117293</td>\n",
       "      <td>YOUNG MEN'S EDUCATIONAL NETWORK</td>\n",
       "      <td>True</td>\n",
       "    </tr>\n",
       "    <tr>\n",
       "      <th>4</th>\n",
       "      <td>PVCI23CI705786</td>\n",
       "      <td>38554.81</td>\n",
       "      <td>2021</td>\n",
       "      <td>CHICAGO DEPARTMENT OF TRANSPORTATION</td>\n",
       "      <td>124392</td>\n",
       "      <td>TRAVELERS &amp; IMMIGRANTS AID'S HEARTLAND ALLIANC...</td>\n",
       "      <td>True</td>\n",
       "    </tr>\n",
       "  </tbody>\n",
       "</table>\n",
       "</div>"
      ],
      "text/plain": [
       "   VOUCHER NUMBER      AMOUNT  CHECK DATE  \\\n",
       "0   PV27242780609  4260645.83  06/18/2024   \n",
       "1   PV27232768083       94.55  12/29/2023   \n",
       "2   CVIP232100094   152170.84  06/08/2023   \n",
       "3  PVCI23CI705786    63250.00        2021   \n",
       "4  PVCI23CI705786    38554.81        2021   \n",
       "\n",
       "                        DEPARTMENT NAME CONTRACT NUMBER  \\\n",
       "0                  DEPARTMENT OF HEALTH              DV   \n",
       "1                      DEPT OF AVIATION              DV   \n",
       "2                 DEPARTMENT OF HOUSING          190668   \n",
       "3   DEPT OF FAMILY AND SUPPORT SERVICES          117293   \n",
       "4  CHICAGO DEPARTMENT OF TRANSPORTATION          124392   \n",
       "\n",
       "                                         VENDOR NAME  CASHED  \n",
       "0                        USI INSURANCE SERVICES LLC.   False  \n",
       "1                                        PEARL KOCUR   False  \n",
       "2               LAWYERS COMMITTEE FOR BETTER HOUSING    True  \n",
       "3                    YOUNG MEN'S EDUCATIONAL NETWORK    True  \n",
       "4  TRAVELERS & IMMIGRANTS AID'S HEARTLAND ALLIANC...    True  "
      ]
     },
     "execution_count": 2,
     "metadata": {},
     "output_type": "execute_result"
    }
   ],
   "source": [
    "df_main = pd.read_csv(r'C:\\Users\\Nutzer\\Desktop\\BAExperiment\\new_table.csv')\n",
    "\n",
    "df_main.head()"
   ]
  },
  {
   "cell_type": "code",
   "execution_count": null,
   "id": "04276458-d1b0-426f-9a94-c5d7a4df2b31",
   "metadata": {},
   "outputs": [],
   "source": []
  },
  {
   "cell_type": "code",
   "execution_count": 3,
   "id": "e4a04b09-b3ed-4598-aab9-e2787843e78b",
   "metadata": {},
   "outputs": [],
   "source": [
    "ohe= OneHotEncoder()"
   ]
  },
  {
   "cell_type": "code",
   "execution_count": 4,
   "id": "e7b4809c-9fcf-4bb3-b699-d584ff49ca06",
   "metadata": {},
   "outputs": [
    {
     "name": "stdout",
     "output_type": "stream",
     "text": [
      "OneHotEncoder()\n"
     ]
    }
   ],
   "source": [
    "print(ohe)"
   ]
  },
  {
   "cell_type": "code",
   "execution_count": null,
   "id": "da5ecfe8-bd97-47e2-ac97-2c2d7396ffbc",
   "metadata": {},
   "outputs": [],
   "source": []
  },
  {
   "cell_type": "code",
   "execution_count": 10,
   "id": "fddfdfaa-e53a-4c4d-ae59-aa830dd0b337",
   "metadata": {},
   "outputs": [
    {
     "name": "stdout",
     "output_type": "stream",
     "text": [
      "Sparse matrix shape: (379899, 242416)\n",
      "Sparse matrix type: <class 'scipy.sparse._csr.csr_matrix'>\n"
     ]
    }
   ],
   "source": [
    "import pandas as pd\n",
    "from sklearn.preprocessing import OneHotEncoder\n",
    "\n",
    "# Load the CSV file\n",
    "df = pd.read_csv(r'C:\\Users\\Nutzer\\Desktop\\BAExperiment\\new_table.csv')\n",
    "\n",
    "# Initialize OneHotEncoder with sparse_output=True (for newer versions of scikit-learn)\n",
    "ohe = OneHotEncoder(sparse_output=True)\n",
    "\n",
    "# Fit and transform the relevant columns in the DataFrame\n",
    "# Replace 'CASHED', 'VOUCHER NUMBER', 'DEPARTMENT NAME' with your actual column names\n",
    "encoded_sparse = ohe.fit_transform(df[[\"CASHED\", \"VOUCHER NUMBER\", \"DEPARTMENT NAME\"]])\n",
    "\n",
    "# Now encoded_sparse is a sparse matrix\n",
    "# Print the sparse matrix information\n",
    "print(f\"Sparse matrix shape: {encoded_sparse.shape}\")\n",
    "print(f\"Sparse matrix type: {type(encoded_sparse)}\")\n",
    "\n"
   ]
  },
  {
   "cell_type": "code",
   "execution_count": null,
   "id": "6f6c45e8-4dfe-47dd-85e0-e86ab65d54fa",
   "metadata": {},
   "outputs": [],
   "source": []
  },
  {
   "cell_type": "code",
   "execution_count": 6,
   "id": "5e9e7ef7-a2a7-45c1-a42f-31fe03c33fff",
   "metadata": {},
   "outputs": [],
   "source": [
    "df = pd.read_csv(r'C:\\Users\\Nutzer\\Desktop\\BAExperiment\\new_table.csv')\n"
   ]
  },
  {
   "cell_type": "code",
   "execution_count": null,
   "id": "0df0c912-87c9-4296-88b7-4c3bd2826315",
   "metadata": {},
   "outputs": [],
   "source": []
  },
  {
   "cell_type": "code",
   "execution_count": 12,
   "id": "53d7a750-4576-4867-8c23-782bcbdb4c17",
   "metadata": {},
   "outputs": [
    {
     "data": {
      "text/plain": [
       "array(['PV27242780609', 'PV27232768083', 'CVIP232100094', ...,\n",
       "       'PV27222763096', 'PV27222702155', 'PVRF212204731'], dtype=object)"
      ]
     },
     "execution_count": 12,
     "metadata": {},
     "output_type": "execute_result"
    }
   ],
   "source": [
    "df[\"VOUCHER NUMBER\"].unique()"
   ]
  },
  {
   "cell_type": "code",
   "execution_count": null,
   "id": "597bcc26-f711-4c1b-8ea2-22eae66c08f6",
   "metadata": {},
   "outputs": [],
   "source": []
  },
  {
   "cell_type": "code",
   "execution_count": 13,
   "id": "e354f1c2-7c58-4cc5-b17b-458851d19b73",
   "metadata": {
    "scrolled": true
   },
   "outputs": [
    {
     "data": {
      "text/plain": [
       "array(['DEPARTMENT OF HEALTH', 'DEPT OF AVIATION',\n",
       "       'DEPARTMENT OF HOUSING', 'DEPT OF FAMILY AND SUPPORT SERVICES',\n",
       "       'CHICAGO DEPARTMENT OF TRANSPORTATION',\n",
       "       'DEPARTMENT OF WATER MANAGEMENT', 'DEPT OF GENERAL SERVICES',\n",
       "       'DEPARTMENT OF ENVIROMENT', 'DEPT OF FLEET MGMT',\n",
       "       'DEPARTMENT OF BUILDINGS',\n",
       "       'DEPARTMENT OF CHILDREN AND YOUTH SERVICES',\n",
       "       'DEPT OF BUSINESS AFFAIRS & CONSUMER PROTECTION',\n",
       "       'DEPARTMENT OF FINANCE', 'OFFICE FOR PEOPLE WITH DISABILITIES',\n",
       "       'OFFICE OF EMERGENCY COMMUNICATION',\n",
       "       'DEPARTMENT OF CULTURAL AFFAIRS', 'DEPT OF PLANNING & DEVELOPMENT',\n",
       "       'PLANNING & DEVELOPMENT', 'FIRE DEPARTMENT',\n",
       "       'DEPARTMENT OF PERSONNEL', 'DEPT OF STREETS & SANITATION',\n",
       "       'DEPARTMENT OF LAW',\n",
       "       'DEPARTMENT OF CULTURAL AFFAIRS AND SPECIAL EVENTS',\n",
       "       'DEPT OF BUSINESS & INFORMATION SERVICES',\n",
       "       'DEPARTMENT OF HUMAN SERVICES',\n",
       "       'OFFICE OF PUBLIC SAFETY ADMINISTRATION', 'DEPARTMENT OF POLICE',\n",
       "       'CHICAGO PUBLIC LIBRARY',\n",
       "       'DEPT OF ASSETS INFORMATION AND SERVICES',\n",
       "       'DEPT OF PROCUREMENT SERVICES', 'DEPT OF LAW',\n",
       "       'OFFICE OF THE MAYOR', 'OFFICE OF BUDGET & MANAGEMENT',\n",
       "       'DEPARTMENT OF REVENUE', 'CITY CLERK', 'OFFICE OF COMPLIANCE',\n",
       "       'OHARE MODERNIZATION PROJECT', 'DEPARTMENT OF HUMAN RESOURCES',\n",
       "       'OFFICE OF SPECIAL EVENTS', 'DEPT OF INNOVATION & TECHNOLOGY',\n",
       "       'COMM ON ANIMAL CARE & CONTROL',\n",
       "       'DEPT OF FLEET AND FACILITY MANAGEMENT',\n",
       "       'COMMISSION ON HUMAN RELATIONS', 'CITY TREASURER',\n",
       "       'DEPT OF ZONING & LAND USE PLANNING',\n",
       "       'MAYORS OFFICE OF WORKFORCE DEVELOPMENT',\n",
       "       'INDEPENDENT POLICE REVIEW AUTHORITY', 'DEPT ON AGING',\n",
       "       'GRAPHICS & REPRODUCTION CTR',\n",
       "       'DEPARTMENT OF CONSTRUCTION AND PERMITS', 'CITYWIDE/MULTIPLE',\n",
       "       'DEPT OF CONSUMER SERVICES', 'OFFICE OF CABLE COMMUNICATION ADM',\n",
       "       'ADMINISTRATIVE ADJUDICATION', 'FINANCE GENERAL',\n",
       "       'DEPT OF TECHNOLOGY & INNOVATION', 'DEPARTMENT OF ZONING',\n",
       "       'DEPARTMENT OF ADMINISTRATIVE HEARINGS', 'POLICE BOARD',\n",
       "       'BOARD OF ETHICS', 'OFFICE OF INSPECTOR GENERAL',\n",
       "       'LIC COMM & LOCAL LIQ CTRL COMM'], dtype=object)"
      ]
     },
     "execution_count": 13,
     "metadata": {},
     "output_type": "execute_result"
    }
   ],
   "source": [
    "df[\"DEPARTMENT NAME\"].unique()"
   ]
  },
  {
   "cell_type": "code",
   "execution_count": null,
   "id": "f85888ac-06a2-481d-9e0b-ebc916bc448d",
   "metadata": {},
   "outputs": [],
   "source": []
  },
  {
   "cell_type": "code",
   "execution_count": null,
   "id": "f79d46c4-5e39-4c02-aa12-8cb10727e9aa",
   "metadata": {},
   "outputs": [],
   "source": []
  },
  {
   "cell_type": "code",
   "execution_count": 14,
   "id": "3392865a-715e-4c0c-a2b8-e53c49411d23",
   "metadata": {},
   "outputs": [
    {
     "data": {
      "text/plain": [
       "array([False,  True])"
      ]
     },
     "execution_count": 14,
     "metadata": {},
     "output_type": "execute_result"
    }
   ],
   "source": [
    "df[\"CASHED\"].unique()"
   ]
  },
  {
   "cell_type": "code",
   "execution_count": null,
   "id": "df40331c-2156-4b23-97c2-c966cb421dcf",
   "metadata": {},
   "outputs": [],
   "source": []
  },
  {
   "cell_type": "code",
   "execution_count": 17,
   "id": "014513e6-c4c1-43bf-9dde-9fc7f9b4af3a",
   "metadata": {},
   "outputs": [
    {
     "data": {
      "text/plain": [
       "array([[1., 0.],\n",
       "       [1., 0.],\n",
       "       [0., 1.],\n",
       "       ...,\n",
       "       [0., 1.],\n",
       "       [0., 1.],\n",
       "       [0., 1.]])"
      ]
     },
     "execution_count": 17,
     "metadata": {},
     "output_type": "execute_result"
    }
   ],
   "source": [
    "ohe.fit_transform(df[[\"CASHED\" ]]).toarray()"
   ]
  },
  {
   "cell_type": "code",
   "execution_count": null,
   "id": "7f70ccf9-bd7a-49d8-a942-4b0da927ff2a",
   "metadata": {},
   "outputs": [],
   "source": []
  },
  {
   "cell_type": "code",
   "execution_count": 21,
   "id": "5b0ff886-9887-4919-8802-05876a1b1726",
   "metadata": {},
   "outputs": [],
   "source": [
    "feature_arry= ohe.fit_transform(df[[\"CASHED\"]]).toarray()"
   ]
  },
  {
   "cell_type": "code",
   "execution_count": null,
   "id": "264d960c-eeda-402e-9654-791b2e33aa54",
   "metadata": {},
   "outputs": [],
   "source": []
  },
  {
   "cell_type": "code",
   "execution_count": 19,
   "id": "32cb2a0b-aa1e-42d9-b911-b0c91941b7b3",
   "metadata": {},
   "outputs": [
    {
     "data": {
      "text/plain": [
       "[array([False,  True])]"
      ]
     },
     "execution_count": 19,
     "metadata": {},
     "output_type": "execute_result"
    }
   ],
   "source": [
    "ohe.categories_"
   ]
  },
  {
   "cell_type": "code",
   "execution_count": null,
   "id": "9bc2aad7-aaf8-4ce1-a741-e3628e289d2a",
   "metadata": {},
   "outputs": [],
   "source": []
  },
  {
   "cell_type": "code",
   "execution_count": 23,
   "id": "327b1f35-15cd-4e73-a756-1b43e16d5669",
   "metadata": {},
   "outputs": [],
   "source": [
    "feature_labels= ohe.categories_"
   ]
  },
  {
   "cell_type": "code",
   "execution_count": 24,
   "id": "af015c94-4bee-452f-9089-4bd3bb795d74",
   "metadata": {},
   "outputs": [
    {
     "data": {
      "text/plain": [
       "array([False,  True])"
      ]
     },
     "execution_count": 24,
     "metadata": {},
     "output_type": "execute_result"
    }
   ],
   "source": [
    "np.array(feature_labels).ravel()"
   ]
  },
  {
   "cell_type": "code",
   "execution_count": 25,
   "id": "86bc58e6-1a66-4a1a-a7c5-7deb159716ba",
   "metadata": {},
   "outputs": [
    {
     "data": {
      "text/html": [
       "<div>\n",
       "<style scoped>\n",
       "    .dataframe tbody tr th:only-of-type {\n",
       "        vertical-align: middle;\n",
       "    }\n",
       "\n",
       "    .dataframe tbody tr th {\n",
       "        vertical-align: top;\n",
       "    }\n",
       "\n",
       "    .dataframe thead tr th {\n",
       "        text-align: left;\n",
       "    }\n",
       "</style>\n",
       "<table border=\"1\" class=\"dataframe\">\n",
       "  <thead>\n",
       "    <tr>\n",
       "      <th></th>\n",
       "      <th>False</th>\n",
       "      <th>True</th>\n",
       "    </tr>\n",
       "  </thead>\n",
       "  <tbody>\n",
       "    <tr>\n",
       "      <th>0</th>\n",
       "      <td>1.0</td>\n",
       "      <td>0.0</td>\n",
       "    </tr>\n",
       "    <tr>\n",
       "      <th>1</th>\n",
       "      <td>1.0</td>\n",
       "      <td>0.0</td>\n",
       "    </tr>\n",
       "    <tr>\n",
       "      <th>2</th>\n",
       "      <td>0.0</td>\n",
       "      <td>1.0</td>\n",
       "    </tr>\n",
       "    <tr>\n",
       "      <th>3</th>\n",
       "      <td>0.0</td>\n",
       "      <td>1.0</td>\n",
       "    </tr>\n",
       "    <tr>\n",
       "      <th>4</th>\n",
       "      <td>0.0</td>\n",
       "      <td>1.0</td>\n",
       "    </tr>\n",
       "    <tr>\n",
       "      <th>...</th>\n",
       "      <td>...</td>\n",
       "      <td>...</td>\n",
       "    </tr>\n",
       "    <tr>\n",
       "      <th>379894</th>\n",
       "      <td>0.0</td>\n",
       "      <td>1.0</td>\n",
       "    </tr>\n",
       "    <tr>\n",
       "      <th>379895</th>\n",
       "      <td>0.0</td>\n",
       "      <td>1.0</td>\n",
       "    </tr>\n",
       "    <tr>\n",
       "      <th>379896</th>\n",
       "      <td>0.0</td>\n",
       "      <td>1.0</td>\n",
       "    </tr>\n",
       "    <tr>\n",
       "      <th>379897</th>\n",
       "      <td>0.0</td>\n",
       "      <td>1.0</td>\n",
       "    </tr>\n",
       "    <tr>\n",
       "      <th>379898</th>\n",
       "      <td>0.0</td>\n",
       "      <td>1.0</td>\n",
       "    </tr>\n",
       "  </tbody>\n",
       "</table>\n",
       "<p>379899 rows × 2 columns</p>\n",
       "</div>"
      ],
      "text/plain": [
       "       False True \n",
       "0        1.0   0.0\n",
       "1        1.0   0.0\n",
       "2        0.0   1.0\n",
       "3        0.0   1.0\n",
       "4        0.0   1.0\n",
       "...      ...   ...\n",
       "379894   0.0   1.0\n",
       "379895   0.0   1.0\n",
       "379896   0.0   1.0\n",
       "379897   0.0   1.0\n",
       "379898   0.0   1.0\n",
       "\n",
       "[379899 rows x 2 columns]"
      ]
     },
     "execution_count": 25,
     "metadata": {},
     "output_type": "execute_result"
    }
   ],
   "source": [
    "pd.DataFrame(feature_arry, columns=feature_labels)"
   ]
  },
  {
   "cell_type": "code",
   "execution_count": null,
   "id": "56f955d7-d5db-47e7-84a8-e9d9d65332d1",
   "metadata": {},
   "outputs": [],
   "source": []
  },
  {
   "cell_type": "code",
   "execution_count": null,
   "id": "73e984d7-cb31-4be5-8ee3-242a5e8f8226",
   "metadata": {},
   "outputs": [],
   "source": []
  },
  {
   "cell_type": "code",
   "execution_count": 30,
   "id": "526b6707-5ad6-481f-9e0f-02cec4cd2c36",
   "metadata": {},
   "outputs": [
    {
     "name": "stdout",
     "output_type": "stream",
     "text": [
      "File saved successfully at: C:\\Users\\Nutzer\\Desktop\\BAExperiment\\encoded_table.csv\n"
     ]
    }
   ],
   "source": [
    "import pandas as pd\n",
    "import numpy as np\n",
    "from sklearn.preprocessing import OneHotEncoder\n",
    "\n",
    "# Step 1: Load dataset from CSV\n",
    "df = pd.read_csv(r'C:\\Users\\Nutzer\\Desktop\\BAExperiment\\new_table.csv')  # Replace with the actual path to your CSV file\n",
    "\n",
    "# Step 2: Replace NaN values in the 'CASHED' column (you can use True or False)\n",
    "df['CASHED'] = df['CASHED'].fillna(False)\n",
    "\n",
    "# Step 3: Initialize OneHotEncoder\n",
    "ohe = OneHotEncoder()\n",
    "\n",
    "# Step 4: Apply OneHotEncoder to the 'CASHED' column\n",
    "feature_array = ohe.fit_transform(df[['CASHED']]).toarray()\n",
    "\n",
    "# Step 5: Convert the one-hot encoded array to a DataFrame with appropriate column names\n",
    "feature_df = pd.DataFrame(feature_array, columns=ohe.categories_[0])\n",
    "\n",
    "# Step 6: Concatenate the original DataFrame with the one-hot encoded DataFrame\n",
    "df_combined = pd.concat([df.reset_index(drop=True), feature_df.reset_index(drop=True)], axis=1)\n",
    "\n",
    "# Step 7: Save the combined DataFrame as a CSV file\n",
    "output_path = r'C:\\Users\\Nutzer\\Desktop\\BAExperiment\\encoded_table.csv'  # Specify where you want to save the file\n",
    "df_combined.to_csv(output_path, index=False)  # Save as CSV without the index column\n",
    "\n",
    "print(f\"File saved successfully at: {output_path}\")\n"
   ]
  },
  {
   "cell_type": "code",
   "execution_count": null,
   "id": "fe4bf3d0-bc3e-4e3e-a1c9-f00c982ee1a9",
   "metadata": {},
   "outputs": [],
   "source": []
  },
  {
   "cell_type": "markdown",
   "id": "1c9e3597-3fba-4312-b994-378bb4265e6e",
   "metadata": {},
   "source": [
    "## zweite Catagorie encoden"
   ]
  },
  {
   "cell_type": "code",
   "execution_count": null,
   "id": "4c4dfc50-261f-47ea-aa92-37e0b49e98a7",
   "metadata": {},
   "outputs": [],
   "source": []
  },
  {
   "cell_type": "code",
   "execution_count": 31,
   "id": "9473b3be-c2c0-4631-82c7-53f4ce4e2b07",
   "metadata": {},
   "outputs": [],
   "source": [
    "df = pd.read_csv(r'C:\\Users\\Nutzer\\Desktop\\BAExperiment\\encoded_table.csv')\n"
   ]
  },
  {
   "cell_type": "code",
   "execution_count": null,
   "id": "9825afb3-3466-4505-9c4d-b44ddcb181d0",
   "metadata": {},
   "outputs": [],
   "source": []
  },
  {
   "cell_type": "code",
   "execution_count": null,
   "id": "49e44c7b-625c-4730-b409-44fa48f8c19d",
   "metadata": {},
   "outputs": [],
   "source": []
  },
  {
   "cell_type": "code",
   "execution_count": null,
   "id": "58e986be-a98e-451c-88cd-ecfd795b9372",
   "metadata": {},
   "outputs": [],
   "source": []
  },
  {
   "cell_type": "code",
   "execution_count": 33,
   "id": "dc8b4dc3-90ce-48d1-8563-3be537312a43",
   "metadata": {},
   "outputs": [
    {
     "name": "stdout",
     "output_type": "stream",
     "text": [
      "Sparse matrix shape: (379899, 242352)\n",
      "Non-zero elements: 379899\n"
     ]
    }
   ],
   "source": [
    "import pandas as pd\n",
    "from sklearn.preprocessing import OneHotEncoder\n",
    "\n",
    "# Step 1: Load dataset\n",
    "df = pd.read_csv(r'C:\\Users\\Nutzer\\Desktop\\BAExperiment\\encoded_table.csv')\n",
    "\n",
    "# Step 2: Initialize OneHotEncoder with sparse_output=True (which is default for newer versions)\n",
    "ohe = OneHotEncoder(sparse_output=True)\n",
    "\n",
    "# Step 3: Apply OneHotEncoder to the 'VOUCHER NUMBER' column\n",
    "encoded_sparse = ohe.fit_transform(df[[\"VOUCHER NUMBER\"]])\n",
    "\n",
    "# Step 4: Use the sparse matrix directly or save it\n",
    "print(f\"Sparse matrix shape: {encoded_sparse.shape}\")\n",
    "print(f\"Non-zero elements: {encoded_sparse.nnz}\")\n"
   ]
  },
  {
   "cell_type": "code",
   "execution_count": null,
   "id": "d6632056-aa27-4045-bc29-cad881ae0627",
   "metadata": {},
   "outputs": [],
   "source": []
  },
  {
   "cell_type": "code",
   "execution_count": 34,
   "id": "29473e5b-8055-4d5e-a9b5-e3a5bdd5c74c",
   "metadata": {},
   "outputs": [
    {
     "name": "stdout",
     "output_type": "stream",
     "text": [
      "   VOUCHER NUMBER  VOUCHER NUMBER_FREQ\n",
      "0   PV27242780609             0.000003\n",
      "1   PV27232768083             0.000003\n",
      "2   CVIP232100094             0.000003\n",
      "3  PVCI23CI705786             0.053959\n",
      "4  PVCI23CI705786             0.053959\n"
     ]
    }
   ],
   "source": [
    "# Frequency encoding for high cardinality columns like 'VOUCHER NUMBER'\n",
    "df['VOUCHER NUMBER_FREQ'] = df['VOUCHER NUMBER'].map(df['VOUCHER NUMBER'].value_counts(normalize=True))\n",
    "\n",
    "print(df[['VOUCHER NUMBER', 'VOUCHER NUMBER_FREQ']].head())\n"
   ]
  },
  {
   "cell_type": "code",
   "execution_count": null,
   "id": "b0394958-f403-44d3-856e-2074882db015",
   "metadata": {},
   "outputs": [],
   "source": []
  },
  {
   "cell_type": "code",
   "execution_count": null,
   "id": "369b150e-e5bc-4c50-952c-2993c9592f30",
   "metadata": {},
   "outputs": [],
   "source": []
  },
  {
   "cell_type": "code",
   "execution_count": 38,
   "id": "7f4ec434-188f-47e9-a1ed-efcb3d0e6a10",
   "metadata": {},
   "outputs": [
    {
     "name": "stdout",
     "output_type": "stream",
     "text": [
      "                        DEPARTMENT NAME  DEPARTMENT NAME_FREQ\n",
      "0                  DEPARTMENT OF HEALTH              0.141327\n",
      "1                      DEPT OF AVIATION              0.139263\n",
      "2                 DEPARTMENT OF HOUSING              0.013609\n",
      "3   DEPT OF FAMILY AND SUPPORT SERVICES              0.198629\n",
      "4  CHICAGO DEPARTMENT OF TRANSPORTATION              0.127026\n"
     ]
    }
   ],
   "source": [
    "# Frequency encoding for high cardinality columns like 'VOUCHER NUMBER'\n",
    "df['DEPARTMENT NAME_FREQ'] = df['DEPARTMENT NAME'].map(df['DEPARTMENT NAME'].value_counts(normalize=True))\n",
    "\n",
    "print(df[['DEPARTMENT NAME', 'DEPARTMENT NAME_FREQ']].head())"
   ]
  },
  {
   "cell_type": "code",
   "execution_count": null,
   "id": "93fc8e74-984c-4852-90cf-32a1b883c503",
   "metadata": {},
   "outputs": [],
   "source": []
  },
  {
   "cell_type": "code",
   "execution_count": null,
   "id": "343d2043-264e-4e16-ae90-d3c8e23b330b",
   "metadata": {},
   "outputs": [],
   "source": []
  },
  {
   "cell_type": "code",
   "execution_count": null,
   "id": "74b4124f-2257-4508-ac56-b9f077eeba49",
   "metadata": {},
   "outputs": [],
   "source": []
  },
  {
   "cell_type": "code",
   "execution_count": null,
   "id": "d34b1ad2-72a5-43d3-bbd1-d53a5c59f92a",
   "metadata": {},
   "outputs": [],
   "source": []
  },
  {
   "cell_type": "code",
   "execution_count": null,
   "id": "bc21b245-ac2e-4955-a676-24839882d933",
   "metadata": {},
   "outputs": [],
   "source": []
  },
  {
   "cell_type": "code",
   "execution_count": null,
   "id": "8d6ce74e-83f7-40b5-8acc-f343f815c255",
   "metadata": {},
   "outputs": [],
   "source": []
  },
  {
   "cell_type": "markdown",
   "id": "faca6069-1293-4867-8448-bb178b0c97c4",
   "metadata": {},
   "source": [
    "##  Label Encoding"
   ]
  },
  {
   "cell_type": "code",
   "execution_count": 35,
   "id": "639dc806-62d8-4e3f-8ea4-98f6e9b3f099",
   "metadata": {},
   "outputs": [
    {
     "name": "stdout",
     "output_type": "stream",
     "text": [
      "   VOUCHER NUMBER  VOUCHER_NUMBER_ENCODED\n",
      "0   PV27242780609                   89193\n",
      "1   PV27232768083                   75363\n",
      "2   CVIP232100094                    7410\n",
      "3  PVCI23CI705786                  208890\n",
      "4  PVCI23CI705786                  208890\n"
     ]
    }
   ],
   "source": [
    "from sklearn.preprocessing import LabelEncoder\n",
    "\n",
    "# Initialize LabelEncoder\n",
    "le = LabelEncoder()\n",
    "\n",
    "# Apply LabelEncoder to the 'VOUCHER NUMBER' column\n",
    "df['VOUCHER_NUMBER_ENCODED'] = le.fit_transform(df['VOUCHER NUMBER'])\n",
    "\n",
    "print(df[['VOUCHER NUMBER', 'VOUCHER_NUMBER_ENCODED']].head())\n"
   ]
  },
  {
   "cell_type": "code",
   "execution_count": null,
   "id": "b8135684-714a-47e3-be42-c6719470de9c",
   "metadata": {},
   "outputs": [],
   "source": []
  },
  {
   "cell_type": "code",
   "execution_count": null,
   "id": "eb82774e-002b-48ca-a026-a65d344b6b30",
   "metadata": {},
   "outputs": [],
   "source": []
  },
  {
   "cell_type": "code",
   "execution_count": 37,
   "id": "fbab4288-d3f6-4dfc-8f0b-62b5b8b25447",
   "metadata": {},
   "outputs": [
    {
     "name": "stdout",
     "output_type": "stream",
     "text": [
      "CSV file saved successfully at: C:\\Users\\Nutzer\\Desktop\\BAExperiment\\label_encoded_table.csv\n"
     ]
    }
   ],
   "source": [
    "import pandas as pd\n",
    "from sklearn.preprocessing import LabelEncoder\n",
    "from sklearn.model_selection import train_test_split  # Example import for data splitting\n",
    "\n",
    "# Set random seed\n",
    "random_seed = 42\n",
    "\n",
    "# Step 1: Load dataset\n",
    "df = pd.read_csv(r'C:\\Users\\Nutzer\\Desktop\\BAExperiment\\encoded_table.csv')\n",
    "\n",
    "# Step 2: Initialize LabelEncoder\n",
    "le_voucher = LabelEncoder()\n",
    "le_department = LabelEncoder()\n",
    "\n",
    "# Step 3: Apply LabelEncoder to the 'VOUCHER NUMBER' column\n",
    "df['VOUCHER_NUMBER_ENCODED'] = le_voucher.fit_transform(df['VOUCHER NUMBER'])\n",
    "\n",
    "# Step 4: Apply LabelEncoder to the 'DEPARTMENT NAME' column\n",
    "df['DEPARTMENT_NAME_ENCODED'] = le_department.fit_transform(df['DEPARTMENT NAME'])\n",
    "\n",
    "# Example of using the random seed in train_test_split (if needed)\n",
    "# Split data into train and test sets\n",
    "train_df, test_df = train_test_split(df, test_size=0.2, random_state=random_seed)\n",
    "\n",
    "# Save the DataFrame with the label encoded columns to a CSV file\n",
    "output_path = r'C:\\Users\\Nutzer\\Desktop\\BAExperiment\\label_encoded_table.csv'  # Specify the output path\n",
    "df.to_csv(output_path, index=False)  # Save to CSV without the index\n",
    "\n",
    "print(f\"CSV file saved successfully at: {output_path}\")\n"
   ]
  },
  {
   "cell_type": "code",
   "execution_count": null,
   "id": "8861905e-ddda-4760-aa7b-3247f79b11fe",
   "metadata": {},
   "outputs": [],
   "source": []
  },
  {
   "cell_type": "code",
   "execution_count": null,
   "id": "779d29e1-ec25-4b55-969b-8b8f308bcdd6",
   "metadata": {},
   "outputs": [],
   "source": []
  },
  {
   "cell_type": "markdown",
   "id": "1fdb2520-5d9c-4046-9f89-c6a7f03d2968",
   "metadata": {},
   "source": [
    "##  Zweite Dataset\n"
   ]
  },
  {
   "cell_type": "code",
   "execution_count": null,
   "id": "5fab9573-2cd6-4743-94b2-f651c813fefa",
   "metadata": {},
   "outputs": [],
   "source": []
  },
  {
   "cell_type": "code",
   "execution_count": 1,
   "id": "bfaeb247-ff11-4122-99c2-fdc4cb28bddd",
   "metadata": {},
   "outputs": [],
   "source": [
    "import numpy as np\n",
    "import pandas as pd \n",
    "from sklearn.preprocessing import OneHotEncoder"
   ]
  },
  {
   "cell_type": "code",
   "execution_count": null,
   "id": "d08e0427-3d99-4cb3-af3f-95771e6cc819",
   "metadata": {},
   "outputs": [],
   "source": []
  },
  {
   "cell_type": "code",
   "execution_count": 2,
   "id": "e3de5683-5a34-4580-b137-0d18c56cb5fd",
   "metadata": {},
   "outputs": [
    {
     "data": {
      "text/html": [
       "<div>\n",
       "<style scoped>\n",
       "    .dataframe tbody tr th:only-of-type {\n",
       "        vertical-align: middle;\n",
       "    }\n",
       "\n",
       "    .dataframe tbody tr th {\n",
       "        vertical-align: top;\n",
       "    }\n",
       "\n",
       "    .dataframe thead th {\n",
       "        text-align: right;\n",
       "    }\n",
       "</style>\n",
       "<table border=\"1\" class=\"dataframe\">\n",
       "  <thead>\n",
       "    <tr style=\"text-align: right;\">\n",
       "      <th></th>\n",
       "      <th>fy</th>\n",
       "      <th>fm</th>\n",
       "      <th>check_date</th>\n",
       "      <th>document_no</th>\n",
       "      <th>dept</th>\n",
       "      <th>department_title</th>\n",
       "      <th>char_</th>\n",
       "      <th>character_title</th>\n",
       "      <th>sub_obj</th>\n",
       "      <th>sub_obj_title</th>\n",
       "      <th>vendor_name</th>\n",
       "      <th>doc_ref_no_prefix</th>\n",
       "      <th>doc_ref_no_prefix_definition</th>\n",
       "      <th>contract_number</th>\n",
       "      <th>contract_description</th>\n",
       "      <th>transaction_amount</th>\n",
       "    </tr>\n",
       "  </thead>\n",
       "  <tbody>\n",
       "    <tr>\n",
       "      <th>0</th>\n",
       "      <td>2017</td>\n",
       "      <td>10</td>\n",
       "      <td>2017-04-12</td>\n",
       "      <td>CHEK17119771</td>\n",
       "      <td>42</td>\n",
       "      <td>42 COMMERCE</td>\n",
       "      <td>2</td>\n",
       "      <td>02 PURCHASE OF SERVICES</td>\n",
       "      <td>231</td>\n",
       "      <td>OVERTIME MEALS 0231</td>\n",
       "      <td>EAT AT JOE'S</td>\n",
       "      <td>PVXX</td>\n",
       "      <td>payment voucher</td>\n",
       "      <td>NaN</td>\n",
       "      <td>NaN</td>\n",
       "      <td>66.82</td>\n",
       "    </tr>\n",
       "    <tr>\n",
       "      <th>1</th>\n",
       "      <td>2017</td>\n",
       "      <td>12</td>\n",
       "      <td>2017-06-09</td>\n",
       "      <td>ACHD17177233</td>\n",
       "      <td>26</td>\n",
       "      <td>26 LICENSES &amp; INSPECTIONS</td>\n",
       "      <td>2</td>\n",
       "      <td>02 PURCHASE OF SERVICES</td>\n",
       "      <td>211</td>\n",
       "      <td>TRANSPORTATION 0211</td>\n",
       "      <td>L &amp; I Â TRAVEL IMPREST FUND</td>\n",
       "      <td>PVXX</td>\n",
       "      <td>payment voucher</td>\n",
       "      <td>NaN</td>\n",
       "      <td>NaN</td>\n",
       "      <td>127.33</td>\n",
       "    </tr>\n",
       "    <tr>\n",
       "      <th>2</th>\n",
       "      <td>2017</td>\n",
       "      <td>5</td>\n",
       "      <td>2016-11-25</td>\n",
       "      <td>CHEK17063736</td>\n",
       "      <td>44</td>\n",
       "      <td>44 LAW</td>\n",
       "      <td>2</td>\n",
       "      <td>02 PURCHASE OF SERVICES</td>\n",
       "      <td>258</td>\n",
       "      <td>COURT REPORTERS 0258</td>\n",
       "      <td>MARLENE BELL REPORTING, INC.</td>\n",
       "      <td>PVXX</td>\n",
       "      <td>payment voucher</td>\n",
       "      <td>NaN</td>\n",
       "      <td>NaN</td>\n",
       "      <td>454.20</td>\n",
       "    </tr>\n",
       "    <tr>\n",
       "      <th>3</th>\n",
       "      <td>2017</td>\n",
       "      <td>1</td>\n",
       "      <td>2016-07-07</td>\n",
       "      <td>CHEK17000247</td>\n",
       "      <td>11</td>\n",
       "      <td>11 POLICE</td>\n",
       "      <td>2</td>\n",
       "      <td>02 PURCHASE OF SERVICES</td>\n",
       "      <td>260</td>\n",
       "      <td>REPAIR AND MAINTENANCE CHARGES 0260</td>\n",
       "      <td>RICOH AMERICAS CORPORATION</td>\n",
       "      <td>VCXX</td>\n",
       "      <td>procurement</td>\n",
       "      <td>NaN</td>\n",
       "      <td>NaN</td>\n",
       "      <td>50.00</td>\n",
       "    </tr>\n",
       "    <tr>\n",
       "      <th>4</th>\n",
       "      <td>2017</td>\n",
       "      <td>1</td>\n",
       "      <td>2016-07-08</td>\n",
       "      <td>ACHD17000233</td>\n",
       "      <td>23</td>\n",
       "      <td>23 PRISONS</td>\n",
       "      <td>3</td>\n",
       "      <td>03 MATERIALS AND SUPPLIES</td>\n",
       "      <td>313</td>\n",
       "      <td>FOOD 0313</td>\n",
       "      <td>PHILADELPHIA PRISONS</td>\n",
       "      <td>PCXX</td>\n",
       "      <td>petty cash</td>\n",
       "      <td>NaN</td>\n",
       "      <td>NaN</td>\n",
       "      <td>71.92</td>\n",
       "    </tr>\n",
       "  </tbody>\n",
       "</table>\n",
       "</div>"
      ],
      "text/plain": [
       "     fy  fm  check_date   document_no  dept           department_title  char_  \\\n",
       "0  2017  10  2017-04-12  CHEK17119771    42                42 COMMERCE      2   \n",
       "1  2017  12  2017-06-09  ACHD17177233    26  26 LICENSES & INSPECTIONS      2   \n",
       "2  2017   5  2016-11-25  CHEK17063736    44                     44 LAW      2   \n",
       "3  2017   1  2016-07-07  CHEK17000247    11                  11 POLICE      2   \n",
       "4  2017   1  2016-07-08  ACHD17000233    23                 23 PRISONS      3   \n",
       "\n",
       "             character_title sub_obj                        sub_obj_title  \\\n",
       "0    02 PURCHASE OF SERVICES     231                  OVERTIME MEALS 0231   \n",
       "1    02 PURCHASE OF SERVICES     211                  TRANSPORTATION 0211   \n",
       "2    02 PURCHASE OF SERVICES     258                 COURT REPORTERS 0258   \n",
       "3    02 PURCHASE OF SERVICES     260  REPAIR AND MAINTENANCE CHARGES 0260   \n",
       "4  03 MATERIALS AND SUPPLIES     313                            FOOD 0313   \n",
       "\n",
       "                    vendor_name doc_ref_no_prefix  \\\n",
       "0                  EAT AT JOE'S              PVXX   \n",
       "1   L & I Â TRAVEL IMPREST FUND              PVXX   \n",
       "2  MARLENE BELL REPORTING, INC.              PVXX   \n",
       "3    RICOH AMERICAS CORPORATION              VCXX   \n",
       "4          PHILADELPHIA PRISONS              PCXX   \n",
       "\n",
       "  doc_ref_no_prefix_definition contract_number contract_description  \\\n",
       "0              payment voucher             NaN                  NaN   \n",
       "1              payment voucher             NaN                  NaN   \n",
       "2              payment voucher             NaN                  NaN   \n",
       "3                  procurement             NaN                  NaN   \n",
       "4                   petty cash             NaN                  NaN   \n",
       "\n",
       "   transaction_amount  \n",
       "0               66.82  \n",
       "1              127.33  \n",
       "2              454.20  \n",
       "3               50.00  \n",
       "4               71.92  "
      ]
     },
     "execution_count": 2,
     "metadata": {},
     "output_type": "execute_result"
    }
   ],
   "source": [
    "df_main = pd.read_csv(r'C:\\Users\\Nutzer\\Desktop\\BAExperiment\\city_payments_fy2017.csv')\n",
    "\n",
    "df_main.head()"
   ]
  },
  {
   "cell_type": "code",
   "execution_count": null,
   "id": "011bc26b-8cad-44d4-a027-f4b6eed59164",
   "metadata": {},
   "outputs": [],
   "source": []
  },
  {
   "cell_type": "code",
   "execution_count": 3,
   "id": "478a415e-ef21-465d-8146-fb67d1a9f800",
   "metadata": {},
   "outputs": [],
   "source": [
    "ohe= OneHotEncoder()"
   ]
  },
  {
   "cell_type": "code",
   "execution_count": 4,
   "id": "8321d1ff-fb84-4e94-9e23-d6a6763afe8c",
   "metadata": {},
   "outputs": [
    {
     "name": "stdout",
     "output_type": "stream",
     "text": [
      "OneHotEncoder()\n"
     ]
    }
   ],
   "source": [
    "print(ohe)"
   ]
  },
  {
   "cell_type": "code",
   "execution_count": null,
   "id": "dfbff69b-4e18-4d3c-afb4-b7f2051c923e",
   "metadata": {},
   "outputs": [],
   "source": []
  },
  {
   "cell_type": "code",
   "execution_count": 10,
   "id": "924ec314-ead2-4db1-ba6f-107d06fb9b3b",
   "metadata": {},
   "outputs": [],
   "source": [
    "df = pd.read_csv(r'C:\\Users\\Nutzer\\Desktop\\BAExperiment\\city_payments_fy2017.csv')"
   ]
  },
  {
   "cell_type": "code",
   "execution_count": null,
   "id": "694fb778-2519-49cf-8b93-f4b6b0488d29",
   "metadata": {},
   "outputs": [],
   "source": []
  },
  {
   "cell_type": "code",
   "execution_count": 12,
   "id": "f03d64ac-1f14-4684-99b3-bbe97c9c93c1",
   "metadata": {},
   "outputs": [
    {
     "data": {
      "text/plain": [
       "array([nan, '150234', '150159', ..., '1720535', '1720368', '1720630'],\n",
       "      dtype=object)"
      ]
     },
     "execution_count": 12,
     "metadata": {},
     "output_type": "execute_result"
    }
   ],
   "source": [
    "df[\"contract_number\"].unique()"
   ]
  },
  {
   "cell_type": "code",
   "execution_count": null,
   "id": "1e1a5530-cd9f-4324-853f-893757682da6",
   "metadata": {},
   "outputs": [],
   "source": []
  },
  {
   "cell_type": "code",
   "execution_count": 13,
   "id": "10f5cb90-0b5a-4a92-8ed6-00ffbdaa79fd",
   "metadata": {},
   "outputs": [
    {
     "data": {
      "text/plain": [
       "array([nan, 'Supplies for Child Care Room', 'Iron Pipe', ...,\n",
       "       'Early Intervention Serv', 'MH Crisis Response Center',\n",
       "       'Trauma Education Program'], dtype=object)"
      ]
     },
     "execution_count": 13,
     "metadata": {},
     "output_type": "execute_result"
    }
   ],
   "source": [
    "df[\"contract_description\"].unique()"
   ]
  },
  {
   "cell_type": "code",
   "execution_count": null,
   "id": "577a6634-15df-4fb6-842b-35ef255813a0",
   "metadata": {},
   "outputs": [],
   "source": []
  },
  {
   "cell_type": "code",
   "execution_count": 14,
   "id": "04e13258-3919-4074-aa76-89197ad26531",
   "metadata": {},
   "outputs": [
    {
     "data": {
      "text/plain": [
       "array(['payment voucher', 'procurement', 'petty cash',\n",
       "       'professional services', 'auto parts', 'library books',\n",
       "       'court appointed attorneys', 'American Express travel vouchers',\n",
       "       'reimbursable expense vouchers for City employees',\n",
       "       'monthly rent and quarterly MH/MR', 'funeral directors', nan],\n",
       "      dtype=object)"
      ]
     },
     "execution_count": 14,
     "metadata": {},
     "output_type": "execute_result"
    }
   ],
   "source": [
    "df[\"doc_ref_no_prefix_definition\"].unique()"
   ]
  },
  {
   "cell_type": "code",
   "execution_count": null,
   "id": "4d9258b8-0c3c-456a-96de-6134f2f58e77",
   "metadata": {},
   "outputs": [],
   "source": []
  },
  {
   "cell_type": "code",
   "execution_count": 16,
   "id": "476ac9db-d065-4f13-a49d-1fa7797c87e7",
   "metadata": {},
   "outputs": [
    {
     "data": {
      "text/plain": [
       "array(['PVXX', 'VCXX', 'PCXX', 'PVMD', 'PVFM', 'PVFL', 'PVAT', 'PVTR',\n",
       "       'RPXX', 'PVOS', 'PVFD', nan], dtype=object)"
      ]
     },
     "execution_count": 16,
     "metadata": {},
     "output_type": "execute_result"
    }
   ],
   "source": [
    "df[\"doc_ref_no_prefix\"].unique()"
   ]
  },
  {
   "cell_type": "code",
   "execution_count": null,
   "id": "0e63a461-2dfd-4e11-87b7-8d85e52c0d39",
   "metadata": {},
   "outputs": [],
   "source": []
  },
  {
   "cell_type": "code",
   "execution_count": 17,
   "id": "82e86046-9556-489f-a482-5a531fb7d223",
   "metadata": {
    "scrolled": true
   },
   "outputs": [
    {
     "data": {
      "text/plain": [
       "array(['231', '211', '258', '260', '313', '317', '285', '325', '323',\n",
       "       '253', '328', '250', '256', '306', '290', '322', '335', '251',\n",
       "       '307', '0604P', '255', '428', '201', '280', '210', '305', '314',\n",
       "       '266', '420', '405', '430', '304', '312', '06IBP', '612', '0636P',\n",
       "       '240', '264', '310', '324', '209', '259', '0612P', '212', '0605P',\n",
       "       '311', '230', '308', '636', '674', '604', '605', '0611P', '309',\n",
       "       '318', '680', '205', '345', '427', '202', '0610P', '614', '699',\n",
       "       '424', '262', '316', '220', '401', '517', '410', '695', '320',\n",
       "       '705', '221', '326', '216', '601', '630', '658', '652', '215',\n",
       "       '418', '417', '0641P', '286', '0606P', '411', '681', '0664P',\n",
       "       '301', '672', '300', '419', '617', '302', '506', '640', '330',\n",
       "       '643', '412', '400', '0672P', '299', '660', '421', '257', '284',\n",
       "       '701', '702', '281', '252', '654', '0662P', '403', '0671P', '638',\n",
       "       '295', '0608P', '342', '282', '631', '340', '0699P', '664', '222',\n",
       "       '665', '0660P', '423', '650', '254', '671', '613', '673', '0646P',\n",
       "       '0640P', '426', '0670P', '609', '678', '610', '642', '606', '261',\n",
       "       '505', '0630P', '632', '646', '608', '611', '670', '620', '0676P',\n",
       "       '0665P', '703', '0639P', '0617P', '677', '622', '0638P', '303',\n",
       "       '639', '0618P', '655', '298', '618', '675', '319', '0631P', '500',\n",
       "       '0601P', '653', '0673P', '0678P', '0632P', '06IA', '676', '644',\n",
       "       '661', '200', '0677P', '06IAP', '603', '0607P', '0661P', '0625P',\n",
       "       '626', '0643P', '0603P', '277', '602', '0695P', '623', '399',\n",
       "       '625', '0614P', '0602P', '616', '0696P', '321', '329', '662',\n",
       "       '265', '615', '504', '645', '213', '283', '0642P', '425', '637',\n",
       "       '635', '607', '440', '499', '704', '683', '600'], dtype=object)"
      ]
     },
     "execution_count": 17,
     "metadata": {},
     "output_type": "execute_result"
    }
   ],
   "source": [
    "df[\"sub_obj\"].unique()"
   ]
  },
  {
   "cell_type": "code",
   "execution_count": null,
   "id": "9366b7c6-e1ca-4426-be8e-249761cb4aed",
   "metadata": {},
   "outputs": [],
   "source": []
  },
  {
   "cell_type": "code",
   "execution_count": 18,
   "id": "ac6d711d-7f8e-4ee9-b253-319f717a9144",
   "metadata": {},
   "outputs": [
    {
     "data": {
      "text/plain": [
       "array([   66.82,   127.33,   454.2 , ...,  1111.6 , 28295.13, 57874.4 ])"
      ]
     },
     "execution_count": 18,
     "metadata": {},
     "output_type": "execute_result"
    }
   ],
   "source": [
    "df[\"transaction_amount\"].unique()"
   ]
  },
  {
   "cell_type": "code",
   "execution_count": null,
   "id": "f7827c60-e2fa-424b-b48e-a5dcc6f6d843",
   "metadata": {},
   "outputs": [],
   "source": []
  },
  {
   "cell_type": "code",
   "execution_count": 20,
   "id": "6945d0a8-50ce-4641-b1f1-865f38a29e67",
   "metadata": {},
   "outputs": [
    {
     "data": {
      "text/plain": [
       "array([2, 3, 6, 4, 5, 7], dtype=int64)"
      ]
     },
     "execution_count": 20,
     "metadata": {},
     "output_type": "execute_result"
    }
   ],
   "source": [
    "df[\"char_\"].unique()"
   ]
  },
  {
   "cell_type": "code",
   "execution_count": null,
   "id": "07cc7dfc-e535-4455-b00c-f369468aa171",
   "metadata": {},
   "outputs": [],
   "source": []
  },
  {
   "cell_type": "code",
   "execution_count": 21,
   "id": "6319378f-029a-4fea-8185-f3fb58b199a5",
   "metadata": {},
   "outputs": [
    {
     "data": {
      "text/plain": [
       "array([42, 26, 44, 11, 23, 22, 28, 48, 10, 68, 25, 24, 12, 52, 14, 16, 69,\n",
       "       63, 13,  8, 36, 35,  1, 31,  4, 56, 38,  6, 53, 70, 73, 20, 61, 45,\n",
       "       15, 37, 51,  5, 41, 65, 59, 30,  3, 40, 54, 49, 58, 34, 47, 46, 55,\n",
       "       27, 17, 66, 67, 62, 50, 18], dtype=int64)"
      ]
     },
     "execution_count": 21,
     "metadata": {},
     "output_type": "execute_result"
    }
   ],
   "source": [
    "df[\"dept\"].unique()"
   ]
  },
  {
   "cell_type": "code",
   "execution_count": null,
   "id": "4989cafb-8f98-4f05-8a73-2e3d39553fb4",
   "metadata": {},
   "outputs": [],
   "source": []
  },
  {
   "cell_type": "code",
   "execution_count": 22,
   "id": "e0ee1ebe-130a-409c-a8f6-c8cfd1ed39f0",
   "metadata": {},
   "outputs": [
    {
     "data": {
      "text/plain": [
       "array(['CHEK17119771', 'ACHD17177233', 'CHEK17063736', ...,\n",
       "       'CHEK17114422', 'CHEK17114423', 'CHEK17114424'], dtype=object)"
      ]
     },
     "execution_count": 22,
     "metadata": {},
     "output_type": "execute_result"
    }
   ],
   "source": [
    "df[\"document_no\"].unique()"
   ]
  },
  {
   "cell_type": "code",
   "execution_count": null,
   "id": "c3b69fc9-14ef-4e2e-8557-f59487b95a85",
   "metadata": {},
   "outputs": [],
   "source": []
  },
  {
   "cell_type": "code",
   "execution_count": 23,
   "id": "b6bdf95c-a743-447d-8d62-9c1c59443dbf",
   "metadata": {},
   "outputs": [
    {
     "data": {
      "text/plain": [
       "array([10, 12,  5,  1,  2, 11,  3,  4,  6,  7,  8,  9], dtype=int64)"
      ]
     },
     "execution_count": 23,
     "metadata": {},
     "output_type": "execute_result"
    }
   ],
   "source": [
    "df[\"fm\"].unique()"
   ]
  },
  {
   "cell_type": "code",
   "execution_count": null,
   "id": "7d434554-f5db-418e-98fd-cf698e12ad9d",
   "metadata": {},
   "outputs": [],
   "source": []
  },
  {
   "cell_type": "code",
   "execution_count": 24,
   "id": "2ba85949-285c-44c2-807d-b7e139472bed",
   "metadata": {},
   "outputs": [
    {
     "data": {
      "text/plain": [
       "array([2017], dtype=int64)"
      ]
     },
     "execution_count": 24,
     "metadata": {},
     "output_type": "execute_result"
    }
   ],
   "source": [
    "df[\"fy\"].unique()"
   ]
  },
  {
   "cell_type": "code",
   "execution_count": null,
   "id": "b8370375-3257-4ac8-a9cb-c369a3da29d0",
   "metadata": {},
   "outputs": [],
   "source": []
  },
  {
   "cell_type": "code",
   "execution_count": 25,
   "id": "0ea5049b-ca2b-4e24-9a21-9a12e3e842f2",
   "metadata": {
    "scrolled": true
   },
   "outputs": [
    {
     "data": {
      "text/plain": [
       "array(['42 COMMERCE', '26 LICENSES & INSPECTIONS', '44 LAW', '11 POLICE',\n",
       "       '23 PRISONS', '22 HUMAN SERVICES', '28 WATER',\n",
       "       '48 MAYOR-OFFICE OF THE INSPECTOR GENERAL', '10 MANAGING DIRECTOR',\n",
       "       '68 REGISTER OF WILLS', '25 FLEET MANAGEMENT',\n",
       "       '24 OFFICE OF SUPPORTIVE HOUSING', '12 STREETS', '52 FREE LIBRARY',\n",
       "       '14 HEALTH', '16 RECREATION', '69 DISTRICT ATTORNEY',\n",
       "       '63 BOARD OF REVISION OF TAXES', '13 FIRE',\n",
       "       \"08 MAYOR'S OFFICE-COMMUNITY SERVICES\", '36 REVENUE',\n",
       "       '35 DIRECTOR OF FINANCE', '01 CITY COUNCIL', '31 RECORDS',\n",
       "       '04 MDO-OFFICE OF TECHNOLOGY', '56 PERSONNEL', '38 PROCUREMENT',\n",
       "       '06 OFFICE OF HOUSING', '53 BOARD OF PENSIONS', '70 SHERIFF',\n",
       "       '73 CITY COMMISSIONERS', '20 PUBLIC PROPERTY',\n",
       "       '61 CITY CONTROLLER', '45 BOARD OF ETHICS',\n",
       "       '15 OFFICE OF BH/MR SERVICES', '37 SINKING FUND COMMISSION',\n",
       "       '51 CITY PLANNING COMMISSION', \"05 MAYOR'S OFFICE\",\n",
       "       '41 CITY REPRESENTATIVE',\n",
       "       '65 MAYOR-OFFICE OF THE CHIEF ADM OFFICER',\n",
       "       '59 OFFICE OF PROPERTY ASSESSMENTS', '30 ZONING BOARD',\n",
       "       \"03 MAYOR'S OFFICE-LABOR RELATIONS\", '40 CITY TREASURER',\n",
       "       '54 COMMISSION ON HUMAN RELATIONS',\n",
       "       '49 MAYOR-OFFICE OF SUSTAINABILITY', '58 OFFICE OF ARTS & CULTURE',\n",
       "       '34 ART MUSEUM', '47 YOUTH COMMISSION',\n",
       "       \"46 MAYOR'S OFFICE OF TRANSPORTATION\",\n",
       "       '55 CIVIL SERVICE COMMISSION',\n",
       "       '27 BOARD OF LICENSES & INSPECTIONS',\n",
       "       '17 FAIRMOUNT PARK COMMISSION',\n",
       "       '66 MAYOR-OFFICE OF COMM SCHOOLS & PRE-K',\n",
       "       '67 PHI WATER,SEWER & STORMWTR RATE BOARD',\n",
       "       '62 MAYOR-OFF OF PLANNING AND DEVELOPMENT',\n",
       "       '50 MAYORS OFFICE-MURAL ARTS PROGRAM', '18 ATWATER KENT MUSEUM'],\n",
       "      dtype=object)"
      ]
     },
     "execution_count": 25,
     "metadata": {},
     "output_type": "execute_result"
    }
   ],
   "source": [
    "df[\"department_title\"].unique()"
   ]
  },
  {
   "cell_type": "code",
   "execution_count": null,
   "id": "e193fb9a-ab1a-41af-9940-65f88ce1835a",
   "metadata": {},
   "outputs": [],
   "source": []
  },
  {
   "cell_type": "code",
   "execution_count": 26,
   "id": "eb94763d-4f3e-4f31-9dc5-7f7df11c3041",
   "metadata": {},
   "outputs": [
    {
     "data": {
      "text/plain": [
       "array(['02 PURCHASE OF SERVICES', '03 MATERIALS AND SUPPLIES',\n",
       "       '06 REAL PROPERTY', '04 EQUIPMENT',\n",
       "       '05 CONTRIBUTIONS,INDEMNITIES,REFDS,TAXES', '07 DEBT SERVICE'],\n",
       "      dtype=object)"
      ]
     },
     "execution_count": 26,
     "metadata": {},
     "output_type": "execute_result"
    }
   ],
   "source": [
    "df[\"character_title\"].unique()"
   ]
  },
  {
   "cell_type": "code",
   "execution_count": null,
   "id": "33d4e135-f3cc-4ea9-943f-78ca55fad6a9",
   "metadata": {},
   "outputs": [],
   "source": []
  },
  {
   "cell_type": "code",
   "execution_count": null,
   "id": "8c915dcd-d800-4d51-b49b-af44e84543a8",
   "metadata": {},
   "outputs": [],
   "source": []
  },
  {
   "cell_type": "markdown",
   "id": "d854032d-8857-47db-b201-8e1289befb94",
   "metadata": {},
   "source": [
    "## Label Encoding"
   ]
  },
  {
   "cell_type": "code",
   "execution_count": null,
   "id": "c6de327a-5b33-45b0-85d8-68c603b2644a",
   "metadata": {},
   "outputs": [],
   "source": []
  },
  {
   "cell_type": "code",
   "execution_count": 27,
   "id": "53975ee9-713d-47ff-81ff-52cb83c17ffb",
   "metadata": {},
   "outputs": [
    {
     "name": "stdout",
     "output_type": "stream",
     "text": [
      "  doc_ref_no_prefix  doc_ref_no_prefix_ENCODED\n",
      "0              PVXX                          8\n",
      "1              PVXX                          8\n",
      "2              PVXX                          8\n",
      "3              VCXX                         10\n",
      "4              PCXX                          0\n"
     ]
    }
   ],
   "source": [
    "from sklearn.preprocessing import LabelEncoder\n",
    "\n",
    "# Initialize LabelEncoder\n",
    "le = LabelEncoder()\n",
    "\n",
    "# Apply LabelEncoder to the 'VOUCHER NUMBER' column\n",
    "df['doc_ref_no_prefix_ENCODED'] = le.fit_transform(df['doc_ref_no_prefix'])\n",
    "\n",
    "print(df[['doc_ref_no_prefix', 'doc_ref_no_prefix_ENCODED']].head())\n"
   ]
  },
  {
   "cell_type": "code",
   "execution_count": null,
   "id": "5d2dad7c-24ad-4793-8250-d653df052bfb",
   "metadata": {},
   "outputs": [],
   "source": []
  },
  {
   "cell_type": "code",
   "execution_count": null,
   "id": "4ea756fd-5e77-4de9-8228-12defa84a60b",
   "metadata": {},
   "outputs": [],
   "source": []
  },
  {
   "cell_type": "markdown",
   "id": "b3a9d049-51e4-482f-b6e2-d6566e7a41e8",
   "metadata": {},
   "source": [
    "## Identify columns with missing values and categorical data"
   ]
  },
  {
   "cell_type": "code",
   "execution_count": null,
   "id": "9f5cb051-131e-427a-bcdd-867a4d95208e",
   "metadata": {},
   "outputs": [],
   "source": []
  },
  {
   "cell_type": "code",
   "execution_count": null,
   "id": "aab9dbab-b40b-4993-8fad-96737c6db1d4",
   "metadata": {},
   "outputs": [],
   "source": []
  },
  {
   "cell_type": "code",
   "execution_count": 28,
   "id": "2d0c3764-5e07-4b20-8d5a-2ccfc4362c10",
   "metadata": {},
   "outputs": [],
   "source": [
    "# Identify columns with missing values and categorical data\n",
    "missing_categorical = [var for var in df.columns if df[var].isnull().mean() > 0 and df[var].dtype == 'object']\n"
   ]
  },
  {
   "cell_type": "code",
   "execution_count": null,
   "id": "3dc64c77-35f0-4291-a0b3-8ab9a76f4337",
   "metadata": {},
   "outputs": [],
   "source": []
  },
  {
   "cell_type": "code",
   "execution_count": 29,
   "id": "02fd99ff-1274-4606-bc28-1040cc7d8155",
   "metadata": {},
   "outputs": [
    {
     "data": {
      "text/plain": [
       "['doc_ref_no_prefix',\n",
       " 'doc_ref_no_prefix_definition',\n",
       " 'contract_number',\n",
       " 'contract_description']"
      ]
     },
     "execution_count": 29,
     "metadata": {},
     "output_type": "execute_result"
    }
   ],
   "source": [
    "missing_categorical"
   ]
  },
  {
   "cell_type": "code",
   "execution_count": null,
   "id": "4c7778c8-c902-4728-baf8-fced761bf348",
   "metadata": {},
   "outputs": [],
   "source": []
  },
  {
   "cell_type": "markdown",
   "id": "59c6abc3-9d7b-40e8-b195-cbb39f0539c1",
   "metadata": {},
   "source": [
    "## Count of missing Data"
   ]
  },
  {
   "cell_type": "code",
   "execution_count": null,
   "id": "28a64d3e-1129-43e9-9d16-b2f99ec96465",
   "metadata": {},
   "outputs": [],
   "source": []
  },
  {
   "cell_type": "markdown",
   "id": "46e96c29-a39d-4218-af09-49165b24189e",
   "metadata": {},
   "source": [
    "## doc_ref_no_prefix"
   ]
  },
  {
   "cell_type": "code",
   "execution_count": null,
   "id": "656044fa-efb9-4d9a-b058-98d3557ffea3",
   "metadata": {},
   "outputs": [],
   "source": []
  },
  {
   "cell_type": "code",
   "execution_count": 30,
   "id": "adc45a59-bcb1-4907-a6de-464f540b7ec7",
   "metadata": {},
   "outputs": [
    {
     "name": "stdout",
     "output_type": "stream",
     "text": [
      "doc_ref_no_prefix               0.000213\n",
      "doc_ref_no_prefix_definition    0.000213\n",
      "contract_number                 0.515911\n",
      "contract_description            0.515911\n",
      "dtype: float64\n"
     ]
    }
   ],
   "source": [
    "# Check the percentage of missing values in the 'VOUCHER NUMBER' and 'DEPARTMENT NAME' columns\n",
    "missing_percentage = df[['doc_ref_no_prefix', 'doc_ref_no_prefix_definition', 'contract_number',\n",
    " 'contract_description' ]].isnull().mean()\n",
    "\n",
    "print(missing_percentage)"
   ]
  },
  {
   "cell_type": "code",
   "execution_count": null,
   "id": "7c35d8c6-b127-47e3-8be1-aced142e82b0",
   "metadata": {},
   "outputs": [],
   "source": []
  },
  {
   "cell_type": "code",
   "execution_count": 31,
   "id": "623a5307-2326-430d-98e7-9d1138460cc3",
   "metadata": {},
   "outputs": [
    {
     "name": "stdout",
     "output_type": "stream",
     "text": [
      "Percentage of missing values in 'doc_ref_no_prefix': 0.02%\n",
      "Percentage of missing values in 'doc_ref_no_prefix_definition': 0.02%\n",
      "Percentage of missing values in 'contract_number': 51.59%\n",
      "Percentage of missing values in 'contract_description': 51.59%\n"
     ]
    }
   ],
   "source": [
    "# Print the percentage of missing values for both columns\n",
    "for column, percentage in missing_percentage.items():\n",
    "    print(f\"Percentage of missing values in '{column}': {percentage:.2%}\")\n"
   ]
  },
  {
   "cell_type": "code",
   "execution_count": null,
   "id": "6bfbca8b-a5d3-4dbe-a865-7d5f00ec9c44",
   "metadata": {},
   "outputs": [],
   "source": []
  },
  {
   "cell_type": "code",
   "execution_count": 33,
   "id": "59231970-5797-4885-802c-0ac556faf676",
   "metadata": {},
   "outputs": [
    {
     "name": "stdout",
     "output_type": "stream",
     "text": [
      "Number of missing values in 'doc_ref_no_prefix': 51\n",
      "Number of missing values in 'doc_ref_no_prefix_definition': 51\n",
      "Number of missing values in 'contract_number': 123248\n",
      "Number of missing values in 'contract_description': 123248\n"
     ]
    }
   ],
   "source": [
    "# Count the number of missing values in the 'VOUCHER NUMBER' and 'DEPARTMENT NAME' columns\n",
    "missing_counts = df[['doc_ref_no_prefix', 'doc_ref_no_prefix_definition', 'contract_number',\n",
    " 'contract_description']].isnull().sum()\n",
    "\n",
    "\n",
    "# Print the number of missing values for both columns\n",
    "for column, count in missing_counts.items():\n",
    "    print(f\"Number of missing values in '{column}': {count}\")\n"
   ]
  },
  {
   "cell_type": "code",
   "execution_count": null,
   "id": "41602f2f-1f89-41a8-895c-10ab29efb00c",
   "metadata": {},
   "outputs": [],
   "source": []
  },
  {
   "cell_type": "code",
   "execution_count": null,
   "id": "a01ff238-27b2-4c41-9688-9e6856122286",
   "metadata": {},
   "outputs": [],
   "source": []
  },
  {
   "cell_type": "code",
   "execution_count": null,
   "id": "807e6315-b791-4f34-805e-a3ae5269decd",
   "metadata": {},
   "outputs": [],
   "source": [
    "'doc_ref_no_prefix',\n",
    " 'doc_ref_no_prefix_definition',\n",
    " 'contract_number',\n",
    " 'contract_description'"
   ]
  },
  {
   "cell_type": "code",
   "execution_count": null,
   "id": "74d7862c-bee9-4083-9ebe-0e61f5cfbcfa",
   "metadata": {},
   "outputs": [],
   "source": []
  },
  {
   "cell_type": "code",
   "execution_count": null,
   "id": "002f9acb-5a10-4088-80c5-c8b6f9be48c9",
   "metadata": {},
   "outputs": [],
   "source": []
  },
  {
   "cell_type": "code",
   "execution_count": null,
   "id": "ac39a3e5-4d7c-48bf-b40c-6a474f0043fd",
   "metadata": {},
   "outputs": [],
   "source": []
  },
  {
   "cell_type": "code",
   "execution_count": 34,
   "id": "d458844b-70e6-4bf7-b47d-d579da5f26ef",
   "metadata": {},
   "outputs": [
    {
     "name": "stdout",
     "output_type": "stream",
     "text": [
      "Unique value counts for 'doc_ref_no_prefix':\n",
      "doc_ref_no_prefix\n",
      "VCXX    93119\n",
      "PVFM    40038\n",
      "PVMD    36793\n",
      "PVAT    28521\n",
      "PVXX    16831\n",
      "PCXX    12175\n",
      "PVFL     4702\n",
      "RPXX     4447\n",
      "PVTR     1802\n",
      "PVOS      327\n",
      "PVFD       88\n",
      "Name: count, dtype: int64\n",
      "\n",
      "Unique value counts for 'doc_ref_no_prefix_definition':\n",
      "doc_ref_no_prefix_definition\n",
      "procurement                                         93119\n",
      "auto parts                                          40038\n",
      "professional services                               36793\n",
      "court appointed attorneys                           28521\n",
      "payment voucher                                     16831\n",
      "petty cash                                          12175\n",
      "library books                                        4702\n",
      "reimbursable expense vouchers for City employees     4447\n",
      "American Express travel vouchers                     1802\n",
      "monthly rent and quarterly MH/MR                      327\n",
      "funeral directors                                      88\n",
      "Name: count, dtype: int64\n",
      "Unique value counts for 'contract_number':\n",
      "contract_number\n",
      "160047     5534\n",
      "160025     5463\n",
      "150166     3809\n",
      "140174     2925\n",
      "140005     2920\n",
      "           ... \n",
      "130382        1\n",
      "130214        1\n",
      "134081        1\n",
      "A64043        1\n",
      "1720630       1\n",
      "Name: count, Length: 2748, dtype: int64\n",
      "\n",
      "Unique value counts for 'contract_description':\n",
      "contract_description\n",
      "Purchase, Lease/Purchase, Lease and Maintenance of Plain Paper Copier Machines and Purchase of Supplies for those Machines    7675\n",
      "STAPLES CONTRACT & COMMERCIAL INC Bid # 010615NJ                                                                              5534\n",
      "Water Treatment Chemicals                                                                                                     4359\n",
      "XEROX CORP Bid # PEPPM 15                                                                                                     3809\n",
      "Bottled Drinking Water and Distilled Water,                                                                                   2925\n",
      "                                                                                                                              ... \n",
      "BEST LINE LEASING INC Bid # 00011414                                                                                             1\n",
      "Bkie Share Program                                                                                                               1\n",
      "ABSOLUTE SURVEILLANCE Bid# E-ORDER                                                                                               1\n",
      "Maintenance of Data Processing Equipment (Mainframe Channel Attached) - Storage Tek, EMC and Hitachi                             1\n",
      "Trauma Education Program                                                                                                         1\n",
      "Name: count, Length: 1910, dtype: int64\n"
     ]
    }
   ],
   "source": [
    "# Get the count of each unique value in the 'VOUCHER NUMBER' and 'DEPARTMENT NAME' columns\n",
    "doc_ref_no_prefix_counts = df['doc_ref_no_prefix'].value_counts()\n",
    "doc_ref_no_prefix_definition_counts = df['doc_ref_no_prefix_definition'].value_counts()\n",
    "contract_number_counts = df['contract_number'].value_counts()\n",
    "contract_description_counts = df['contract_description'].value_counts()\n",
    "\n",
    "\n",
    "\n",
    "# Print the counts of unique values in both columns\n",
    "print(\"Unique value counts for 'doc_ref_no_prefix':\")\n",
    "print(doc_ref_no_prefix_counts)\n",
    "print(\"\\nUnique value counts for 'doc_ref_no_prefix_definition':\")\n",
    "print(doc_ref_no_prefix_definition_counts)\n",
    "\n",
    "\n",
    "print(\"Unique value counts for 'contract_number':\")\n",
    "print(contract_number_counts)\n",
    "print(\"\\nUnique value counts for 'contract_description':\")\n",
    "print(contract_description_counts)\n",
    "\n",
    "\n",
    "\n",
    "\n",
    "\n",
    "\n"
   ]
  },
  {
   "cell_type": "code",
   "execution_count": null,
   "id": "2f240e74-46d2-41d3-a1e2-1e58ebac46e8",
   "metadata": {},
   "outputs": [],
   "source": []
  },
  {
   "cell_type": "code",
   "execution_count": null,
   "id": "0abd8527-2a89-4e3c-a859-e5a3ad923964",
   "metadata": {},
   "outputs": [],
   "source": []
  },
  {
   "cell_type": "code",
   "execution_count": 37,
   "id": "e938d72d-11dd-4324-ab7d-409c54618a9b",
   "metadata": {},
   "outputs": [
    {
     "name": "stdout",
     "output_type": "stream",
     "text": [
      "     fy  fm  check_date   document_no  dept           department_title  char_  \\\n",
      "0  2017  10  2017-04-12  CHEK17119771    42                42 COMMERCE      2   \n",
      "1  2017  12  2017-06-09  ACHD17177233    26  26 LICENSES & INSPECTIONS      2   \n",
      "2  2017   5  2016-11-25  CHEK17063736    44                     44 LAW      2   \n",
      "3  2017   1  2016-07-07  CHEK17000247    11                  11 POLICE      2   \n",
      "4  2017   1  2016-07-08  ACHD17000233    23                 23 PRISONS      3   \n",
      "\n",
      "             character_title sub_obj                        sub_obj_title  \\\n",
      "0    02 PURCHASE OF SERVICES     231                  OVERTIME MEALS 0231   \n",
      "1    02 PURCHASE OF SERVICES     211                  TRANSPORTATION 0211   \n",
      "2    02 PURCHASE OF SERVICES     258                 COURT REPORTERS 0258   \n",
      "3    02 PURCHASE OF SERVICES     260  REPAIR AND MAINTENANCE CHARGES 0260   \n",
      "4  03 MATERIALS AND SUPPLIES     313                            FOOD 0313   \n",
      "\n",
      "                    vendor_name doc_ref_no_prefix  \\\n",
      "0                  EAT AT JOE'S              PVXX   \n",
      "1   L & I Â TRAVEL IMPREST FUND              PVXX   \n",
      "2  MARLENE BELL REPORTING, INC.              PVXX   \n",
      "3    RICOH AMERICAS CORPORATION              VCXX   \n",
      "4          PHILADELPHIA PRISONS              PCXX   \n",
      "\n",
      "  doc_ref_no_prefix_definition contract_number contract_description  \\\n",
      "0              payment voucher             NaN                  NaN   \n",
      "1              payment voucher             NaN                  NaN   \n",
      "2              payment voucher             NaN                  NaN   \n",
      "3                  procurement             NaN                  NaN   \n",
      "4                   petty cash             NaN                  NaN   \n",
      "\n",
      "   transaction_amount  \n",
      "0               66.82  \n",
      "1              127.33  \n",
      "2              454.20  \n",
      "3               50.00  \n",
      "4               71.92  \n"
     ]
    },
    {
     "name": "stderr",
     "output_type": "stream",
     "text": [
      "C:\\Users\\Nutzer\\AppData\\Local\\Temp\\ipykernel_12036\\782417766.py:37: FutureWarning: A value is trying to be set on a copy of a DataFrame or Series through chained assignment using an inplace method.\n",
      "The behavior will change in pandas 3.0. This inplace method will never work because the intermediate object on which we are setting values always behaves as a copy.\n",
      "\n",
      "For example, when doing 'df[col].method(value, inplace=True)', try using 'df.method({col: value}, inplace=True)' or df[col] = df[col].method(value) instead, to perform the operation inplace on the original object.\n",
      "\n",
      "\n",
      "  df_main[column].fillna(df_main[column].mean(), inplace=True)\n",
      "C:\\Users\\Nutzer\\AppData\\Local\\Temp\\ipykernel_12036\\782417766.py:41: FutureWarning: A value is trying to be set on a copy of a DataFrame or Series through chained assignment using an inplace method.\n",
      "The behavior will change in pandas 3.0. This inplace method will never work because the intermediate object on which we are setting values always behaves as a copy.\n",
      "\n",
      "For example, when doing 'df[col].method(value, inplace=True)', try using 'df.method({col: value}, inplace=True)' or df[col] = df[col].method(value) instead, to perform the operation inplace on the original object.\n",
      "\n",
      "\n",
      "  df_main[column].fillna(df_main[column].mode()[0], inplace=True)\n"
     ]
    },
    {
     "name": "stdout",
     "output_type": "stream",
     "text": [
      "Missing values after filling:\n",
      " fy                              0\n",
      "fm                              0\n",
      "check_date                      0\n",
      "document_no                     0\n",
      "dept                            0\n",
      "department_title                0\n",
      "char_                           0\n",
      "character_title                 0\n",
      "sub_obj                         0\n",
      "sub_obj_title                   0\n",
      "vendor_name                     0\n",
      "doc_ref_no_prefix               0\n",
      "doc_ref_no_prefix_definition    0\n",
      "contract_number                 0\n",
      "contract_description            0\n",
      "transaction_amount              0\n",
      "dtype: int64\n",
      "Updated dataset saved to: C:\\Users\\Nutzer\\Desktop\\BAExperiment\\filled_data.csv\n"
     ]
    }
   ],
   "source": [
    "import pandas as pd\n",
    "import numpy as np\n",
    "\n",
    "# Load the dataset from a CSV file (adjust the path as needed)\n",
    "df_main = pd.read_csv(r'C:\\Users\\Nutzer\\Desktop\\BAExperiment\\city_payments_fy2017.csv')\n",
    "\n",
    "# Display the first few rows of the dataset to understand its structure\n",
    "print(df_main.head())\n",
    "\n",
    "# Define possible fill values for each column\n",
    "doc_ref_no_prefix_fill_values = ['VCXX', 'PVFM', 'PVMD', 'PVAT', 'PVXX', 'PCXX', 'PVFL', 'RPXX', 'PVTR', 'PVOS', 'PVFD']\n",
    "doc_ref_no_prefix_definition_fill_values = ['procurement', 'auto parts', 'professional services', 'court appointed attorneys', 'payment voucher', 'petty cash', 'library books', 'reimbursable expense vouchers for City employees', 'American Express travel vouchers', 'monthly rent and quarterly MH/MR', 'funeral directors']\n",
    "contract_number_fill_values = df_main['contract_number'].dropna().unique()\n",
    "contract_description_fill_values = df_main['contract_description'].dropna().unique()\n",
    "\n",
    "# Set random seed for reproducibility\n",
    "np.random.seed(42)\n",
    "\n",
    "# Function to randomly select a fill value\n",
    "def random_fill(fill_values):\n",
    "    return np.random.choice(fill_values)\n",
    "\n",
    "# Apply random fill to missing values in 'doc_ref_no_prefix'\n",
    "df_main['doc_ref_no_prefix'] = df_main['doc_ref_no_prefix'].apply(lambda x: random_fill(doc_ref_no_prefix_fill_values) if pd.isnull(x) else x)\n",
    "\n",
    "# Apply random fill to missing values in 'doc_ref_no_prefix_definition'\n",
    "df_main['doc_ref_no_prefix_definition'] = df_main['doc_ref_no_prefix_definition'].apply(lambda x: random_fill(doc_ref_no_prefix_definition_fill_values) if pd.isnull(x) else x)\n",
    "\n",
    "# Apply random fill to missing values in 'contract_number'\n",
    "df_main['contract_number'] = df_main['contract_number'].apply(lambda x: random_fill(contract_number_fill_values) if pd.isnull(x) else x)\n",
    "\n",
    "# Apply random fill to missing values in 'contract_description'\n",
    "df_main['contract_description'] = df_main['contract_description'].apply(lambda x: random_fill(contract_description_fill_values) if pd.isnull(x) else x)\n",
    "\n",
    "# Apply mean or median for numeric columns if needed\n",
    "for column in df_main.select_dtypes(include=[np.number]).columns:\n",
    "    df_main[column].fillna(df_main[column].mean(), inplace=True)\n",
    "\n",
    "# Apply mode for categorical columns if needed\n",
    "for column in df_main.select_dtypes(include=[object]).columns:\n",
    "    df_main[column].fillna(df_main[column].mode()[0], inplace=True)\n",
    "\n",
    "# Verify if there are any missing values left\n",
    "missing_counts_after = df_main.isnull().sum()\n",
    "print(\"Missing values after filling:\\n\", missing_counts_after)\n",
    "\n",
    "# Save the updated DataFrame to a new CSV file\n",
    "new_file_path = r'C:\\Users\\Nutzer\\Desktop\\BAExperiment\\filled_data.csv'\n",
    "df_main.to_csv(new_file_path, index=False)\n",
    "\n",
    "print(f\"Updated dataset saved to: {new_file_path}\")"
   ]
  },
  {
   "cell_type": "code",
   "execution_count": null,
   "id": "695d7b44-debd-42d9-a00d-00e91a266568",
   "metadata": {},
   "outputs": [],
   "source": []
  },
  {
   "cell_type": "code",
   "execution_count": null,
   "id": "a286ae1e-9b52-4109-a231-395c6fa5486d",
   "metadata": {},
   "outputs": [],
   "source": []
  },
  {
   "cell_type": "code",
   "execution_count": null,
   "id": "75e027b4-b493-4c01-935c-5bedee48b4af",
   "metadata": {},
   "outputs": [],
   "source": []
  },
  {
   "cell_type": "code",
   "execution_count": null,
   "id": "90e2ac9f-ad83-41af-a7a1-07b38652e16a",
   "metadata": {},
   "outputs": [],
   "source": []
  },
  {
   "cell_type": "code",
   "execution_count": null,
   "id": "38220dbd-0427-42e4-b103-0b1a6d935ae6",
   "metadata": {},
   "outputs": [],
   "source": []
  },
  {
   "cell_type": "code",
   "execution_count": null,
   "id": "ebf01085-40e3-4452-94c1-ef94bc76fcbd",
   "metadata": {},
   "outputs": [],
   "source": []
  },
  {
   "cell_type": "code",
   "execution_count": null,
   "id": "0e6151a8-ef53-4162-b818-d3b380ba3aa9",
   "metadata": {},
   "outputs": [],
   "source": []
  },
  {
   "cell_type": "code",
   "execution_count": null,
   "id": "c825b6a5-0125-4097-80e5-53e0dc9b3f12",
   "metadata": {},
   "outputs": [],
   "source": []
  },
  {
   "cell_type": "code",
   "execution_count": null,
   "id": "17a21f62-ed81-4842-80fa-d13f9b8a627b",
   "metadata": {},
   "outputs": [],
   "source": []
  },
  {
   "cell_type": "code",
   "execution_count": null,
   "id": "8178b1e8-abc0-4532-810c-b8ba945363cb",
   "metadata": {},
   "outputs": [],
   "source": []
  },
  {
   "cell_type": "code",
   "execution_count": null,
   "id": "5a9389f3-6486-4ae0-995f-66d2eaa00e29",
   "metadata": {},
   "outputs": [],
   "source": []
  },
  {
   "cell_type": "code",
   "execution_count": null,
   "id": "636debc3-fff7-4a9b-a530-1fe6f94c9de4",
   "metadata": {},
   "outputs": [],
   "source": []
  },
  {
   "cell_type": "code",
   "execution_count": null,
   "id": "c5a489be-1b41-483e-9e32-06186b5977fe",
   "metadata": {},
   "outputs": [],
   "source": []
  },
  {
   "cell_type": "code",
   "execution_count": null,
   "id": "a7606bba-a4c9-4b42-9b81-4da6723d127e",
   "metadata": {},
   "outputs": [],
   "source": []
  },
  {
   "cell_type": "code",
   "execution_count": null,
   "id": "279308a8-5ea8-4d19-ab05-0a054f02611b",
   "metadata": {},
   "outputs": [],
   "source": []
  },
  {
   "cell_type": "code",
   "execution_count": null,
   "id": "2f52fd16-7373-4d01-bae0-d84af11fcaff",
   "metadata": {},
   "outputs": [],
   "source": []
  },
  {
   "cell_type": "code",
   "execution_count": null,
   "id": "c710478d-fd3a-4f7a-8532-7adae5410ff5",
   "metadata": {},
   "outputs": [],
   "source": []
  },
  {
   "cell_type": "code",
   "execution_count": null,
   "id": "1de33092-fe03-45ec-b162-408b876dcab7",
   "metadata": {},
   "outputs": [],
   "source": []
  },
  {
   "cell_type": "code",
   "execution_count": null,
   "id": "92e09f1f-3b09-4b8e-9b44-29ab9252485c",
   "metadata": {},
   "outputs": [],
   "source": []
  },
  {
   "cell_type": "code",
   "execution_count": null,
   "id": "1a764f2f-89eb-4cab-b47f-dcc1a1cbbc4a",
   "metadata": {},
   "outputs": [],
   "source": []
  },
  {
   "cell_type": "code",
   "execution_count": null,
   "id": "39c236f1-bc49-44f7-bece-dec5f8b3c464",
   "metadata": {},
   "outputs": [],
   "source": []
  }
 ],
 "metadata": {
  "kernelspec": {
   "display_name": "Python 3 (ipykernel)",
   "language": "python",
   "name": "python3"
  },
  "language_info": {
   "codemirror_mode": {
    "name": "ipython",
    "version": 3
   },
   "file_extension": ".py",
   "mimetype": "text/x-python",
   "name": "python",
   "nbconvert_exporter": "python",
   "pygments_lexer": "ipython3",
   "version": "3.12.4"
  }
 },
 "nbformat": 4,
 "nbformat_minor": 5
}
