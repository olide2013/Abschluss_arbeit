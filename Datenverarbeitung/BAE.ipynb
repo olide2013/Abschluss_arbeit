{
 "cells": [
  {
   "cell_type": "code",
   "execution_count": null,
   "id": "3f8caf0f-61a4-4fab-afba-7ea95c650409",
   "metadata": {},
   "outputs": [],
   "source": []
  },
  {
   "cell_type": "code",
   "execution_count": null,
   "id": "085d6236-9997-4a2c-bce8-3335df723e7c",
   "metadata": {},
   "outputs": [],
   "source": [
    "import numpy as np\n",
    "import pandas as pd\n",
    "import matplotlib.pyplot as plt\n",
    "import seaborn as sns\n",
    "%matplotlib inline\n",
    "import matplotlib.pyplot as plt\n",
    "import numpy as np\n",
    "from scipy.stats import norm, skew\n",
    "import random\n",
    "from sklearn.metrics import roc_auc_score,roc_curve\n",
    "from sklearn.model_selection import train_test_split\n",
    "from sklearn.metrics import accuracy_score, f1_score, matthews_corrcoef,make_scorer, roc_auc_score, roc_curve,confusion_matrix,ConfusionMatrixDisplay, roc_curve, auc, classification_report\n",
    "from sklearn.preprocessing import StandardScaler\n",
    "from sklearn.metrics import RocCurveDisplay\n",
    "from sklearn.model_selection import RandomizedSearchCV\n",
    "from imblearn.over_sampling import SMOTE\n",
    "import itertools\n",
    "import tensorflow as tf\n",
    "from tensorflow.keras.models import Sequential\n",
    "from tensorflow.keras.layers import Dense, Conv1D, MaxPooling1D, Flatten,LeakyReLU\n",
    "from tensorflow.keras.callbacks import ReduceLROnPlateau, EarlyStopping\n",
    "from tensorflow.keras.utils import plot_model"
   ]
  },
  {
   "cell_type": "code",
   "execution_count": null,
   "id": "5efa3e77-28f5-4bdc-b1e1-8ae7820540bb",
   "metadata": {},
   "outputs": [],
   "source": []
  },
  {
   "cell_type": "code",
   "execution_count": null,
   "id": "d334d9be-4c2b-418e-9fc8-ca0e08b523d9",
   "metadata": {},
   "outputs": [],
   "source": []
  },
  {
   "cell_type": "code",
   "execution_count": null,
   "id": "5443271e-d06a-4129-b9fd-22bce8f48886",
   "metadata": {},
   "outputs": [],
   "source": []
  },
  {
   "cell_type": "code",
   "execution_count": 83,
   "id": "80c6e74b-e230-479b-b5d5-fb90647441f8",
   "metadata": {},
   "outputs": [
    {
     "data": {
      "text/html": [
       "<div>\n",
       "<style scoped>\n",
       "    .dataframe tbody tr th:only-of-type {\n",
       "        vertical-align: middle;\n",
       "    }\n",
       "\n",
       "    .dataframe tbody tr th {\n",
       "        vertical-align: top;\n",
       "    }\n",
       "\n",
       "    .dataframe thead th {\n",
       "        text-align: right;\n",
       "    }\n",
       "</style>\n",
       "<table border=\"1\" class=\"dataframe\">\n",
       "  <thead>\n",
       "    <tr style=\"text-align: right;\">\n",
       "      <th></th>\n",
       "      <th>VOUCHER NUMBER</th>\n",
       "      <th>AMOUNT</th>\n",
       "      <th>CHECK DATE</th>\n",
       "      <th>DEPARTMENT NAME</th>\n",
       "      <th>CONTRACT NUMBER</th>\n",
       "      <th>VENDOR NAME</th>\n",
       "      <th>CASHED</th>\n",
       "    </tr>\n",
       "  </thead>\n",
       "  <tbody>\n",
       "    <tr>\n",
       "      <th>0</th>\n",
       "      <td>PV27242780609</td>\n",
       "      <td>4260645.83</td>\n",
       "      <td>06/18/2024</td>\n",
       "      <td>NaN</td>\n",
       "      <td>DV</td>\n",
       "      <td>USI INSURANCE SERVICES LLC.</td>\n",
       "      <td>False</td>\n",
       "    </tr>\n",
       "    <tr>\n",
       "      <th>1</th>\n",
       "      <td>PV27232768083</td>\n",
       "      <td>94.55</td>\n",
       "      <td>12/29/2023</td>\n",
       "      <td>NaN</td>\n",
       "      <td>DV</td>\n",
       "      <td>PEARL KOCUR</td>\n",
       "      <td>False</td>\n",
       "    </tr>\n",
       "    <tr>\n",
       "      <th>2</th>\n",
       "      <td>CVIP232100094</td>\n",
       "      <td>152170.84</td>\n",
       "      <td>06/08/2023</td>\n",
       "      <td>DEPARTMENT OF HOUSING</td>\n",
       "      <td>190668</td>\n",
       "      <td>LAWYERS COMMITTEE FOR BETTER HOUSING</td>\n",
       "      <td>True</td>\n",
       "    </tr>\n",
       "    <tr>\n",
       "      <th>3</th>\n",
       "      <td>NaN</td>\n",
       "      <td>63250.00</td>\n",
       "      <td>2021</td>\n",
       "      <td>DEPT OF FAMILY AND SUPPORT SERVICES</td>\n",
       "      <td>117293</td>\n",
       "      <td>YOUNG MEN'S EDUCATIONAL NETWORK</td>\n",
       "      <td>True</td>\n",
       "    </tr>\n",
       "    <tr>\n",
       "      <th>4</th>\n",
       "      <td>NaN</td>\n",
       "      <td>38554.81</td>\n",
       "      <td>2021</td>\n",
       "      <td>NaN</td>\n",
       "      <td>124392</td>\n",
       "      <td>TRAVELERS &amp; IMMIGRANTS AID'S HEARTLAND ALLIANC...</td>\n",
       "      <td>True</td>\n",
       "    </tr>\n",
       "  </tbody>\n",
       "</table>\n",
       "</div>"
      ],
      "text/plain": [
       "  VOUCHER NUMBER      AMOUNT  CHECK DATE                      DEPARTMENT NAME  \\\n",
       "0  PV27242780609  4260645.83  06/18/2024                                  NaN   \n",
       "1  PV27232768083       94.55  12/29/2023                                  NaN   \n",
       "2  CVIP232100094   152170.84  06/08/2023                DEPARTMENT OF HOUSING   \n",
       "3            NaN    63250.00        2021  DEPT OF FAMILY AND SUPPORT SERVICES   \n",
       "4            NaN    38554.81        2021                                  NaN   \n",
       "\n",
       "  CONTRACT NUMBER                                        VENDOR NAME CASHED  \n",
       "0              DV                        USI INSURANCE SERVICES LLC.  False  \n",
       "1              DV                                        PEARL KOCUR  False  \n",
       "2          190668               LAWYERS COMMITTEE FOR BETTER HOUSING   True  \n",
       "3          117293                    YOUNG MEN'S EDUCATIONAL NETWORK   True  \n",
       "4          124392  TRAVELERS & IMMIGRANTS AID'S HEARTLAND ALLIANC...   True  "
      ]
     },
     "execution_count": 83,
     "metadata": {},
     "output_type": "execute_result"
    }
   ],
   "source": [
    "df_main = pd.read_csv(r'C:\\Users\\Nutzer\\Desktop\\BAExperiment\\Payments_20240904.csv')\n",
    "\n",
    "df_main.head()"
   ]
  },
  {
   "cell_type": "code",
   "execution_count": null,
   "id": "00cf4acf-ad4f-43e9-9b81-18637f8189cc",
   "metadata": {},
   "outputs": [],
   "source": []
  },
  {
   "cell_type": "code",
   "execution_count": null,
   "id": "480a6f47-2139-4e9d-a9f2-b18db0713610",
   "metadata": {},
   "outputs": [],
   "source": []
  },
  {
   "cell_type": "code",
   "execution_count": 82,
   "id": "62bb69f9-e632-4612-9ad1-19a36dd20186",
   "metadata": {},
   "outputs": [
    {
     "name": "stdout",
     "output_type": "stream",
     "text": [
      "[1, 2, 3, 4, 5, 6, 7, 8, 9, 10, 11, 12, 13, 14, 15, 16, 17, 18, 19, 20, 21, 22, 23, 24, 25, 26, 27, 28, 29, 30, 31, 32, 33, 34, 35, 36, 37, 38, 39, 40, 41, 42, 43, 44, 45, 46, 47, 48, 49, 50, 51, 52, 53, 54, 55, 56, 57, 58, 59, 60, 61, 62, 63, 64, 65, 66, 67, 68, 69, 70, 71, 72, 73, 74, 75, 76, 77, 78, 79, 80, 81, 82, 83, 84, 85, 86, 87, 88, 89, 90, 91, 92, 93, 94, 95, 96, 97, 98, 99, 100]\n"
     ]
    }
   ],
   "source": [
    "# Generate a sequence of numbers from 1 to 100\n",
    "data_points = list(range(1, 101))\n",
    "\n",
    "# Display the data points\n",
    "print(data_points)\n"
   ]
  },
  {
   "cell_type": "code",
   "execution_count": null,
   "id": "a425403e-ea64-4b98-9b98-3a42a3cdbb04",
   "metadata": {},
   "outputs": [],
   "source": []
  },
  {
   "cell_type": "code",
   "execution_count": 49,
   "id": "38fd7920-06c2-4b1d-99c6-673998fea17d",
   "metadata": {},
   "outputs": [
    {
     "name": "stdout",
     "output_type": "stream",
     "text": [
      "   VOUCHER NUMBER      AMOUNT  CHECK DATE  \\\n",
      "0   PV27242780609  4260645.83  06/18/2024   \n",
      "1   PV27232768083       94.55  12/29/2023   \n",
      "2   CVIP232100094   152170.84  06/08/2023   \n",
      "3             NaN    63250.00        2021   \n",
      "4             NaN    38554.81        2021   \n",
      "..            ...         ...         ...   \n",
      "95            NaN    88970.71        2021   \n",
      "96            NaN     6675.04        2012   \n",
      "97  PV85238561645      750.00  08/29/2023   \n",
      "98       Multiple      406.91  08/15/2022   \n",
      "99  PV27232768077     3080.55  12/29/2023   \n",
      "\n",
      "                         DEPARTMENT NAME CONTRACT NUMBER  \\\n",
      "0                                    NaN              DV   \n",
      "1                                    NaN              DV   \n",
      "2                  DEPARTMENT OF HOUSING          190668   \n",
      "3    DEPT OF FAMILY AND SUPPORT SERVICES          117293   \n",
      "4                                    NaN          124392   \n",
      "..                                   ...             ...   \n",
      "95  CHICAGO DEPARTMENT OF TRANSPORTATION           64880   \n",
      "96   DEPT OF FAMILY AND SUPPORT SERVICES           23343   \n",
      "97                                   NaN              DV   \n",
      "98                                   NaN              DV   \n",
      "99                                   NaN              DV   \n",
      "\n",
      "                                          VENDOR NAME CASHED  \n",
      "0                         USI INSURANCE SERVICES LLC.  False  \n",
      "1                                         PEARL KOCUR  False  \n",
      "2                LAWYERS COMMITTEE FOR BETTER HOUSING   True  \n",
      "3                     YOUNG MEN'S EDUCATIONAL NETWORK   True  \n",
      "4   TRAVELERS & IMMIGRANTS AID'S HEARTLAND ALLIANC...   True  \n",
      "..                                                ...    ...  \n",
      "95                               METRA TRANSPORTATION   True  \n",
      "96                           STREET-LEVEL YOUTH MEDIA   True  \n",
      "97                                     MAYFIELD, INC.   True  \n",
      "98                           COMMONWEALTH. EDISON CO.    NaN  \n",
      "99                                      GARNER HEALTH  False  \n",
      "\n",
      "[100 rows x 7 columns]\n"
     ]
    }
   ],
   "source": [
    "import pandas as pd\n",
    "\n",
    "# Load data from a CSV file\n",
    "df = pd.read_csv(r'C:\\Users\\Nutzer\\Desktop\\BAExperiment\\Payments_20240904.csv')\n",
    "\n",
    "# Extract the first 100 data points\n",
    "data_points = df.head(100)\n",
    "\n",
    "# Display the data points\n",
    "print(data_points)\n"
   ]
  },
  {
   "cell_type": "code",
   "execution_count": null,
   "id": "355b7791-88db-4f1a-984a-cf3cb5436557",
   "metadata": {},
   "outputs": [],
   "source": []
  },
  {
   "cell_type": "code",
   "execution_count": null,
   "id": "e3f49275-b584-4708-b801-f8c87571c469",
   "metadata": {},
   "outputs": [],
   "source": []
  },
  {
   "cell_type": "code",
   "execution_count": 6,
   "id": "6ddf9a62-4956-467a-b72b-2c5c8f22fa9a",
   "metadata": {},
   "outputs": [
    {
     "name": "stdout",
     "output_type": "stream",
     "text": [
      "       Organisation_Name                        Directorate  \\\n",
      "0   City of York Council          Customers and Communities   \n",
      "1   City of York Council                      Public Health   \n",
      "2   City of York Council                  Place Directorate   \n",
      "3   City of York Council                  Place Directorate   \n",
      "4   City of York Council  Adult Social Care and Integration   \n",
      "..                   ...                                ...   \n",
      "95  City of York Council  Adult Social Care and Integration   \n",
      "96  City of York Council  Adult Social Care and Integration   \n",
      "97  City of York Council  Adult Social Care and Integration   \n",
      "98  City of York Council  Adult Social Care and Integration   \n",
      "99  City of York Council  Adult Social Care and Integration   \n",
      "\n",
      "                            Department                Service_Plan  \\\n",
      "0    Director Customer and Communities  ICT Operations and Bus Dev   \n",
      "1                        Public Health       Healthy Child Service   \n",
      "2   Environment Transport and Planning                     Parking   \n",
      "3   Environment Transport and Planning                     Parking   \n",
      "4                 AD Adult Social Care          Adult Safeguarding   \n",
      "..                                 ...                         ...   \n",
      "95                AD Adult Social Care           Adult Social Care   \n",
      "96                AD Adult Social Care  Hospital and Mental Health   \n",
      "97                AD Adult Social Care           Adult Social Care   \n",
      "98                AD Adult Social Care           Adult Social Care   \n",
      "99                AD Adult Social Care           Adult Social Care   \n",
      "\n",
      "                                 Creditor_Name      Payment_Date  \\\n",
      "0                 Tech Source IT Solutions Ltd  25/04/2024 00:00   \n",
      "1          The Phoenix Partnership (Leeds) Ltd  29/04/2024 00:00   \n",
      "2   Careline Security Ltd t/a Mayfair Security  26/04/2024 00:00   \n",
      "3   Careline Security Ltd t/a Mayfair Security  26/04/2024 00:00   \n",
      "4                 St Anne`s Community Services  03/04/2024 00:00   \n",
      "..                                         ...               ...   \n",
      "95                Emmaculate Care Services Ltd  03/04/2024 00:00   \n",
      "96                Emmaculate Care Services Ltd  03/04/2024 00:00   \n",
      "97                      Springfield Healthcare  03/04/2024 00:00   \n",
      "98                      Springfield Healthcare  03/04/2024 00:00   \n",
      "99                Emmaculate Care Services Ltd  03/04/2024 00:00   \n",
      "\n",
      "      Transaction_No  Card_Transaction  Net_Amount  Irrecoverable_VAT  \\\n",
      "0   202425CR00000001               NaN    15749.70                NaN   \n",
      "1   202425CR00000002               NaN    21483.36                NaN   \n",
      "2   202425CR00000003               NaN      285.00                NaN   \n",
      "3   202425CR00000004               NaN      285.00                NaN   \n",
      "4   202425CR00000005               NaN      306.54                NaN   \n",
      "..               ...               ...         ...                ...   \n",
      "95  202425CR00000096               NaN      306.54                NaN   \n",
      "96  202425CR00000097               NaN      825.30                NaN   \n",
      "97  202425CR00000098               NaN      285.32                NaN   \n",
      "98  202425CR00000099               NaN      336.02                NaN   \n",
      "99  202425CR00000100               NaN      371.39                NaN   \n",
      "\n",
      "         Subjective_Group      Subjective_Subgroup  \\\n",
      "0   Supplies And Services      Comms and Computing   \n",
      "1   Supplies And Services      Comms and Computing   \n",
      "2                Premises  Repairs and Maintenance   \n",
      "3                Premises  Repairs and Maintenance   \n",
      "4   Supplies And Services                 Services   \n",
      "..                    ...                      ...   \n",
      "95  Supplies And Services                 Services   \n",
      "96  Supplies And Services                 Services   \n",
      "97  Supplies And Services                 Services   \n",
      "98  Supplies And Services                 Services   \n",
      "99  Supplies And Services                 Services   \n",
      "\n",
      "                 Subjective_Detail  \n",
      "0                      IT Hardware  \n",
      "1                      IT Software  \n",
      "2   Premises Maintenance Contracts  \n",
      "3   Premises Maintenance Contracts  \n",
      "4               External Home Care  \n",
      "..                             ...  \n",
      "95              External Home Care  \n",
      "96              External Home Care  \n",
      "97              External Home Care  \n",
      "98              External Home Care  \n",
      "99              External Home Care  \n",
      "\n",
      "[100 rows x 13 columns]\n"
     ]
    }
   ],
   "source": [
    "import pandas as pd\n",
    "\n",
    "# Load data from a CSV file\n",
    "df = pd.read_csv(r'C:\\Users\\Nutzer\\Desktop\\BAExperiment\\over250payments2024 (1).csv')\n",
    "\n",
    "# Extract the first 100 data points\n",
    "data_points = df.head(100)\n",
    "\n",
    "# Display the data points\n",
    "print(data_points)\n"
   ]
  },
  {
   "cell_type": "code",
   "execution_count": null,
   "id": "0e16689c-87a1-4fff-87de-4abcc1d2f7af",
   "metadata": {},
   "outputs": [],
   "source": []
  },
  {
   "cell_type": "markdown",
   "id": "032a5650-8094-4686-be57-fc4d2432b891",
   "metadata": {},
   "source": [
    "## Label Encoder"
   ]
  },
  {
   "cell_type": "code",
   "execution_count": null,
   "id": "57006cb5-96d7-40e8-b1a6-d75537f422f6",
   "metadata": {},
   "outputs": [],
   "source": []
  },
  {
   "cell_type": "code",
   "execution_count": 6,
   "id": "35670da3-a5ca-4aa7-86f4-fca628c3b61e",
   "metadata": {},
   "outputs": [],
   "source": [
    "import pandas as pd "
   ]
  },
  {
   "cell_type": "code",
   "execution_count": 7,
   "id": "20ec0156-f6a2-4e4c-823e-73b69c2a05ef",
   "metadata": {},
   "outputs": [],
   "source": [
    "df=pd.read_csv(r'C:\\Users\\Nutzer\\Desktop\\BAExperiment\\Payments_20240904.csv')"
   ]
  },
  {
   "cell_type": "code",
   "execution_count": 8,
   "id": "f0db2f5a-4d9e-4463-8d89-8d69502cb18c",
   "metadata": {},
   "outputs": [
    {
     "data": {
      "text/html": [
       "<div>\n",
       "<style scoped>\n",
       "    .dataframe tbody tr th:only-of-type {\n",
       "        vertical-align: middle;\n",
       "    }\n",
       "\n",
       "    .dataframe tbody tr th {\n",
       "        vertical-align: top;\n",
       "    }\n",
       "\n",
       "    .dataframe thead th {\n",
       "        text-align: right;\n",
       "    }\n",
       "</style>\n",
       "<table border=\"1\" class=\"dataframe\">\n",
       "  <thead>\n",
       "    <tr style=\"text-align: right;\">\n",
       "      <th></th>\n",
       "      <th>VOUCHER NUMBER</th>\n",
       "      <th>AMOUNT</th>\n",
       "      <th>CHECK DATE</th>\n",
       "      <th>DEPARTMENT NAME</th>\n",
       "      <th>CONTRACT NUMBER</th>\n",
       "      <th>VENDOR NAME</th>\n",
       "      <th>CASHED</th>\n",
       "    </tr>\n",
       "  </thead>\n",
       "  <tbody>\n",
       "    <tr>\n",
       "      <th>0</th>\n",
       "      <td>PV27242780609</td>\n",
       "      <td>4260645.83</td>\n",
       "      <td>06/18/2024</td>\n",
       "      <td>NaN</td>\n",
       "      <td>DV</td>\n",
       "      <td>USI INSURANCE SERVICES LLC.</td>\n",
       "      <td>False</td>\n",
       "    </tr>\n",
       "    <tr>\n",
       "      <th>1</th>\n",
       "      <td>PV27232768083</td>\n",
       "      <td>94.55</td>\n",
       "      <td>12/29/2023</td>\n",
       "      <td>NaN</td>\n",
       "      <td>DV</td>\n",
       "      <td>PEARL KOCUR</td>\n",
       "      <td>False</td>\n",
       "    </tr>\n",
       "    <tr>\n",
       "      <th>2</th>\n",
       "      <td>CVIP232100094</td>\n",
       "      <td>152170.84</td>\n",
       "      <td>06/08/2023</td>\n",
       "      <td>DEPARTMENT OF HOUSING</td>\n",
       "      <td>190668</td>\n",
       "      <td>LAWYERS COMMITTEE FOR BETTER HOUSING</td>\n",
       "      <td>True</td>\n",
       "    </tr>\n",
       "    <tr>\n",
       "      <th>3</th>\n",
       "      <td>NaN</td>\n",
       "      <td>63250.00</td>\n",
       "      <td>2021</td>\n",
       "      <td>DEPT OF FAMILY AND SUPPORT SERVICES</td>\n",
       "      <td>117293</td>\n",
       "      <td>YOUNG MEN'S EDUCATIONAL NETWORK</td>\n",
       "      <td>True</td>\n",
       "    </tr>\n",
       "    <tr>\n",
       "      <th>4</th>\n",
       "      <td>NaN</td>\n",
       "      <td>38554.81</td>\n",
       "      <td>2021</td>\n",
       "      <td>NaN</td>\n",
       "      <td>124392</td>\n",
       "      <td>TRAVELERS &amp; IMMIGRANTS AID'S HEARTLAND ALLIANC...</td>\n",
       "      <td>True</td>\n",
       "    </tr>\n",
       "  </tbody>\n",
       "</table>\n",
       "</div>"
      ],
      "text/plain": [
       "  VOUCHER NUMBER      AMOUNT  CHECK DATE                      DEPARTMENT NAME  \\\n",
       "0  PV27242780609  4260645.83  06/18/2024                                  NaN   \n",
       "1  PV27232768083       94.55  12/29/2023                                  NaN   \n",
       "2  CVIP232100094   152170.84  06/08/2023                DEPARTMENT OF HOUSING   \n",
       "3            NaN    63250.00        2021  DEPT OF FAMILY AND SUPPORT SERVICES   \n",
       "4            NaN    38554.81        2021                                  NaN   \n",
       "\n",
       "  CONTRACT NUMBER                                        VENDOR NAME CASHED  \n",
       "0              DV                        USI INSURANCE SERVICES LLC.  False  \n",
       "1              DV                                        PEARL KOCUR  False  \n",
       "2          190668               LAWYERS COMMITTEE FOR BETTER HOUSING   True  \n",
       "3          117293                    YOUNG MEN'S EDUCATIONAL NETWORK   True  \n",
       "4          124392  TRAVELERS & IMMIGRANTS AID'S HEARTLAND ALLIANC...   True  "
      ]
     },
     "execution_count": 8,
     "metadata": {},
     "output_type": "execute_result"
    }
   ],
   "source": [
    "df.head()"
   ]
  },
  {
   "cell_type": "code",
   "execution_count": null,
   "id": "3565455f-78ea-4f42-bc28-d11c8d810211",
   "metadata": {},
   "outputs": [],
   "source": []
  },
  {
   "cell_type": "code",
   "execution_count": 10,
   "id": "0a0e3ba3-ceb1-4d98-b9b2-8278f36b5b06",
   "metadata": {},
   "outputs": [
    {
     "data": {
      "text/plain": [
       "VOUCHER NUMBER      object\n",
       "AMOUNT             float64\n",
       "CHECK DATE          object\n",
       "DEPARTMENT NAME     object\n",
       "CONTRACT NUMBER     object\n",
       "VENDOR NAME         object\n",
       "CASHED              object\n",
       "dtype: object"
      ]
     },
     "execution_count": 10,
     "metadata": {},
     "output_type": "execute_result"
    }
   ],
   "source": [
    "df.dtypes"
   ]
  },
  {
   "cell_type": "code",
   "execution_count": null,
   "id": "d898e7f8-7600-4bed-a765-ce25b28c64bc",
   "metadata": {},
   "outputs": [],
   "source": []
  },
  {
   "cell_type": "code",
   "execution_count": 11,
   "id": "9ec6ac46-0819-42de-b85f-d0fac375c5c3",
   "metadata": {},
   "outputs": [
    {
     "data": {
      "text/plain": [
       "array(['PV27242780609', 'PV27232768083', 'CVIP232100094', ...,\n",
       "       'PV27222763096', 'PV27222702155', 'PVRF212204731'], dtype=object)"
      ]
     },
     "execution_count": 11,
     "metadata": {},
     "output_type": "execute_result"
    }
   ],
   "source": [
    "df[\"VOUCHER NUMBER\"].unique()"
   ]
  },
  {
   "cell_type": "code",
   "execution_count": null,
   "id": "e2da6a27-9ce5-4e67-93d3-c18c78e974ae",
   "metadata": {},
   "outputs": [],
   "source": []
  },
  {
   "cell_type": "code",
   "execution_count": 12,
   "id": "50d39aea-454c-4047-b64a-897e82738664",
   "metadata": {
    "scrolled": true
   },
   "outputs": [
    {
     "data": {
      "text/plain": [
       "array(['06/18/2024', '12/29/2023', '06/08/2023', '2021', '11/16/2023',\n",
       "       '06/02/2023', '2015', '2011', '2014', '2016', '03/29/2023',\n",
       "       '06/05/2024', '03/02/2023', '2017', '2018', '12/28/2022',\n",
       "       '06/20/2024', '2012', '03/11/2022', '08/29/2023', '08/15/2022',\n",
       "       '2013', '12/01/2023', '05/28/2024', '05/03/2023', '04/07/2022',\n",
       "       '04/06/2022', '06/21/2024', '12/27/2022', '03/27/2023',\n",
       "       '03/17/2023', '05/02/2023', '05/26/2023', '06/05/2023',\n",
       "       '11/10/2022', '03/16/2023', '08/16/2024', '08/09/2024',\n",
       "       '08/08/2024', '10/24/2022', '06/11/2024', '06/12/2024',\n",
       "       '06/13/2024', '07/13/2022', '06/10/2024', '03/26/2024',\n",
       "       '04/08/2024', '03/21/2024', '03/22/2024', '04/04/2024',\n",
       "       '12/18/2023', '12/27/2023', '12/22/2023', '11/29/2023',\n",
       "       '12/14/2023', '12/26/2023', '06/07/2023', '10/19/2023',\n",
       "       '05/31/2024', '12/13/2023', '06/14/2024', '12/28/2023',\n",
       "       '04/25/2023', '12/05/2023', '12/21/2023', '06/17/2024',\n",
       "       '04/21/2023', '10/16/2023', '08/15/2024', '12/07/2023',\n",
       "       '05/05/2023', '08/19/2024', '04/29/2024', '12/19/2023',\n",
       "       '11/30/2023', '12/11/2023', '11/06/2023', '12/20/2023',\n",
       "       '05/10/2024', '10/27/2023', '12/15/2023', '05/24/2024',\n",
       "       '06/07/2024', '11/01/2023', '12/04/2023', '05/21/2024',\n",
       "       '09/26/2023', '09/01/2023', '09/22/2023', '04/02/2024',\n",
       "       '11/21/2023', '11/09/2023', '06/06/2024', '04/19/2024',\n",
       "       '10/03/2022', '06/01/2023', '09/21/2023', '01/02/2024',\n",
       "       '03/20/2024', '03/28/2024', '05/30/2023', '04/22/2024',\n",
       "       '08/28/2023', '02/28/2022', '02/27/2023', '05/08/2023',\n",
       "       '11/07/2023', '04/15/2024', '11/20/2023', '11/24/2023',\n",
       "       '03/01/2023', '05/17/2024', '12/06/2023', '06/04/2024',\n",
       "       '05/31/2023', '10/18/2023', '11/13/2023', '11/28/2023',\n",
       "       '08/18/2022', '12/12/2023', '05/25/2023', '11/02/2023',\n",
       "       '10/05/2023', '11/08/2023', '11/14/2023', '04/24/2023',\n",
       "       '05/23/2024', '01/03/2024', '11/17/2023', '03/15/2023',\n",
       "       '06/03/2024', '05/30/2024', '05/17/2023', '10/04/2022',\n",
       "       '09/12/2023', '03/20/2023', '03/28/2023', '11/03/2023',\n",
       "       '03/09/2023', '04/23/2024', '03/21/2023', '10/05/2022', '2019',\n",
       "       '05/06/2024', '05/15/2023', '08/31/2023', '10/06/2022',\n",
       "       '05/14/2024', '04/09/2024', '05/02/2024', '04/17/2023',\n",
       "       '11/22/2023', '08/18/2023', '04/18/2024', '01/13/2023',\n",
       "       '10/07/2022', '06/06/2023', '08/08/2023', '08/03/2023',\n",
       "       '06/09/2023', '04/14/2023', '05/18/2023', '04/04/2023',\n",
       "       '05/19/2023', '02/28/2023', '03/12/2024', '03/15/2024',\n",
       "       '06/25/2024', '03/13/2023', '10/03/2023', '05/24/2023',\n",
       "       '09/27/2023', '03/14/2023', '08/30/2023', '08/23/2023',\n",
       "       '01/04/2024', '01/24/2023', '08/04/2023', '04/25/2024',\n",
       "       '06/24/2024', '12/08/2023', '08/07/2023', '03/30/2023',\n",
       "       '08/24/2023', '05/29/2024', '04/03/2023', '01/30/2023',\n",
       "       '04/01/2024', '06/30/2022', '05/13/2024', '01/05/2024',\n",
       "       '03/07/2023', '2020', '03/25/2024', '03/29/2024', '10/11/2022',\n",
       "       '05/04/2023', '08/25/2023', '08/16/2023', '08/11/2023',\n",
       "       '05/23/2023', '10/12/2022', '05/12/2023', '05/16/2023',\n",
       "       '04/20/2023', '05/22/2023', '10/13/2022', '02/10/2023',\n",
       "       '10/27/2022', '05/22/2024', '04/30/2024', '12/06/2022',\n",
       "       '04/08/2022', '05/20/2024', '10/17/2022', '05/10/2023',\n",
       "       '03/11/2024', '02/02/2023', '12/29/2022', '06/29/2022',\n",
       "       '10/14/2022', '08/12/2024', '06/12/2023', '02/27/2024',\n",
       "       '06/22/2023', '01/18/2023', '12/30/2022', '01/08/2024',\n",
       "       '04/03/2024', '02/23/2024', '03/06/2024', '05/11/2023',\n",
       "       '08/14/2023', '08/09/2023', '12/09/2022', '05/09/2023',\n",
       "       '04/18/2023', '06/15/2023', '08/22/2023', '08/21/2023',\n",
       "       '07/14/2023', '08/15/2023', '06/13/2023', '01/03/2023',\n",
       "       '02/08/2024', '05/03/2024', '01/10/2023', '09/28/2023',\n",
       "       '04/28/2023', '05/01/2023', '04/27/2023', '04/26/2023',\n",
       "       '04/13/2023', '01/09/2024', '03/31/2023', '05/16/2024',\n",
       "       '06/27/2023', '01/04/2023', '01/03/2022', '07/12/2023',\n",
       "       '04/11/2024', '08/07/2024', '06/26/2024', '01/05/2023',\n",
       "       '10/20/2022', '02/17/2023', '07/10/2023', '08/01/2023',\n",
       "       '06/14/2023', '04/11/2023', '07/26/2023', '09/18/2023',\n",
       "       '01/19/2023', '08/02/2023', '10/18/2022', '06/30/2023',\n",
       "       '09/15/2023', '10/19/2022', '06/27/2024', '2002', '11/27/2023',\n",
       "       '10/31/2023', '01/06/2023', '07/18/2023', '02/16/2022',\n",
       "       '09/05/2023', '10/21/2022', '02/14/2023', '02/16/2024',\n",
       "       '07/24/2023', '01/10/2024', '07/21/2023', '07/03/2023',\n",
       "       '07/25/2023', '09/30/2022', '08/10/2023', '06/28/2024',\n",
       "       '04/19/2023', '03/13/2024', '01/12/2023', '10/25/2023',\n",
       "       '01/11/2024', '06/16/2023', '08/06/2024', '05/09/2024',\n",
       "       '09/25/2023', '01/09/2023', '01/27/2023', '10/10/2023', '2009',\n",
       "       '2010', '2006', '2007', '2008', '2003', '2004', '2005',\n",
       "       '01/04/2022', '02/16/2023', '04/16/2024', '11/15/2023',\n",
       "       '10/13/2023', '01/12/2024', '10/30/2023', '10/20/2023',\n",
       "       '02/13/2024', '01/05/2022', '10/25/2022', '01/06/2022',\n",
       "       '10/26/2022', '01/11/2023', '10/28/2022', '03/27/2024',\n",
       "       '08/14/2024', '09/27/2022', '07/01/2024', '09/29/2022',\n",
       "       '07/27/2023', '07/28/2023', '10/24/2023', '10/17/2023',\n",
       "       '08/17/2023', '09/06/2023', '01/31/2023', '02/22/2023',\n",
       "       '01/17/2023', '01/16/2024', '01/07/2022', '12/02/2022',\n",
       "       '03/03/2022', '02/08/2022', '01/10/2022', '05/31/2022',\n",
       "       '07/01/2022', '01/19/2022', '10/11/2023', '11/03/2022',\n",
       "       '03/05/2024', '09/20/2023', '01/23/2023', '03/10/2023',\n",
       "       '07/11/2022', '11/15/2022', '01/20/2023', '02/21/2023',\n",
       "       '07/13/2023', '03/08/2023', '10/31/2022', '01/17/2024',\n",
       "       '06/20/2023', '06/21/2023', '09/28/2022', '11/01/2022',\n",
       "       '11/02/2022', '05/08/2024', '03/18/2024', '07/19/2023',\n",
       "       '01/11/2022', '01/12/2022', '01/13/2022', '11/04/2022',\n",
       "       '05/15/2024', '01/18/2024', '02/29/2024', '01/14/2022',\n",
       "       '11/18/2022', '01/25/2023', '01/26/2023', '01/19/2024',\n",
       "       '07/02/2024', '07/03/2024', '01/18/2022', '01/20/2022',\n",
       "       '11/07/2022', '05/01/2024', '11/08/2022', '01/21/2022',\n",
       "       '11/09/2022', '01/22/2024', '07/12/2022', '01/23/2024',\n",
       "       '06/26/2023', '04/24/2024', '07/05/2024', '01/24/2022',\n",
       "       '07/14/2022', '01/24/2024', '08/02/2024', '01/25/2022',\n",
       "       '04/10/2024', '01/25/2024', '01/26/2022', '07/09/2024',\n",
       "       '07/08/2024', '01/27/2022', '01/26/2024', '01/28/2022',\n",
       "       '06/29/2023', '11/14/2022', '04/12/2024', '03/19/2024',\n",
       "       '01/29/2024', '09/29/2023', '07/10/2024', '04/11/2022',\n",
       "       '07/15/2022', '01/30/2024', '02/26/2024', '02/01/2023',\n",
       "       '01/31/2022', '01/31/2024', '06/23/2023', '04/12/2022',\n",
       "       '09/08/2023', '11/16/2022', '09/07/2023', '02/01/2022',\n",
       "       '11/17/2022', '11/22/2022', '02/02/2022', '07/12/2024',\n",
       "       '11/21/2022', '11/23/2022', '12/01/2022', '10/26/2023',\n",
       "       '02/01/2024', '02/02/2024', '10/06/2023', '08/23/2022',\n",
       "       '04/17/2024', '02/03/2022', '11/25/2022', '03/01/2024',\n",
       "       '04/05/2024', '08/01/2024', '04/13/2022', '02/04/2022',\n",
       "       '07/11/2024', '04/14/2022', '02/03/2023', '02/05/2024',\n",
       "       '04/15/2022', '02/07/2022', '02/06/2023', '08/13/2024',\n",
       "       '02/06/2024', '07/15/2024', '02/09/2022', '11/28/2022',\n",
       "       '10/23/2023', '02/08/2023', '02/15/2024', '02/10/2022',\n",
       "       '11/29/2022', '11/30/2022', '06/28/2023', '06/16/2022',\n",
       "       '02/09/2023', '03/22/2023', '02/07/2024', '07/18/2022',\n",
       "       '07/25/2024', '07/18/2024', '07/16/2024', '09/13/2023',\n",
       "       '02/14/2022', '02/09/2024', '04/18/2022', '02/15/2022',\n",
       "       '02/07/2023', '04/05/2023', '12/05/2022', '02/17/2022',\n",
       "       '07/17/2024', '02/18/2022', '07/31/2023', '04/19/2022',\n",
       "       '12/07/2022', '12/08/2022', '08/20/2024', '07/19/2024',\n",
       "       '04/21/2022', '04/20/2022', '02/14/2024', '08/31/2022',\n",
       "       '10/04/2023', '07/19/2022', '03/03/2023', '02/22/2022',\n",
       "       '02/23/2022', '02/24/2022', '04/22/2022', '07/29/2024',\n",
       "       '02/25/2022', '07/20/2022', '12/12/2022', '07/22/2024',\n",
       "       '07/21/2022', '07/07/2023', '02/20/2024', '02/15/2023',\n",
       "       '02/21/2024', '09/21/2022', '12/13/2022', '12/14/2022',\n",
       "       '12/15/2022', '12/16/2022', '03/01/2022', '03/02/2022',\n",
       "       '02/22/2024', '03/04/2022', '07/22/2022', '04/25/2022',\n",
       "       '07/23/2024', '07/24/2024', '09/06/2022', '12/19/2022',\n",
       "       '04/26/2022', '04/27/2022', '03/08/2022', '03/09/2022',\n",
       "       '12/20/2022', '12/21/2022', '12/22/2022', '12/23/2022',\n",
       "       '03/10/2022', '09/07/2022', '02/28/2024', '09/11/2023',\n",
       "       '10/12/2023', '04/28/2022', '07/26/2024', '04/29/2022',\n",
       "       '07/05/2022', '06/08/2022', '08/09/2022', '04/01/2022',\n",
       "       '05/20/2022', '03/25/2022', '02/23/2023', '06/23/2022',\n",
       "       '06/03/2022', '04/05/2022', '03/14/2022', '08/02/2022',\n",
       "       '02/24/2023', '03/15/2022', '03/16/2022', '03/17/2022',\n",
       "       '09/20/2022', '07/25/2022', '03/23/2023', '03/24/2023',\n",
       "       '03/18/2022', '03/08/2024', '03/07/2024', '04/07/2023',\n",
       "       '09/22/2022', '07/30/2024', '07/26/2022', '05/02/2022',\n",
       "       '04/06/2023', '07/27/2022', '03/21/2022', '07/31/2024',\n",
       "       '07/28/2022', '05/03/2022', '03/22/2022', '04/10/2023',\n",
       "       '07/05/2023', '03/23/2022', '03/24/2022', '05/07/2024',\n",
       "       '05/04/2022', '05/05/2022', '05/06/2022', '04/12/2023',\n",
       "       '03/29/2022', '07/17/2023', '07/29/2022', '07/06/2023',\n",
       "       '07/11/2023', '08/05/2024', '03/28/2022', '10/02/2023',\n",
       "       '03/14/2024', '09/14/2023', '03/30/2022', '03/31/2022',\n",
       "       '05/09/2022', '04/04/2022', '04/26/2024', '08/01/2022',\n",
       "       '05/10/2022', '05/11/2022', '09/26/2022', '05/12/2022',\n",
       "       '05/13/2022', '08/10/2022', '05/16/2022', '05/17/2022',\n",
       "       '05/18/2022', '05/19/2022', '08/03/2022', '08/04/2022',\n",
       "       '08/05/2022', '05/23/2022', '09/02/2022', '05/24/2022',\n",
       "       '05/25/2022', '05/26/2022', '05/27/2022', '06/01/2022',\n",
       "       '06/02/2022', '08/08/2022', '09/16/2022', '09/19/2022',\n",
       "       '07/20/2023', '09/19/2023', '08/11/2022', '06/06/2022',\n",
       "       '06/07/2022', '06/09/2022', '06/10/2022', '08/12/2022',\n",
       "       '06/13/2022', '06/14/2022', '06/15/2022', '06/17/2022',\n",
       "       '06/21/2022', '06/22/2022', '09/23/2022', '06/24/2022',\n",
       "       '08/16/2022', '08/17/2022', '09/14/2022', '06/27/2022',\n",
       "       '06/28/2022', '07/06/2022', '07/07/2022', '07/08/2022',\n",
       "       '09/15/2022', '08/24/2022', '08/25/2022', '09/01/2022',\n",
       "       '09/08/2022', '08/19/2022', '09/13/2022', '08/30/2022',\n",
       "       '09/12/2022', '09/09/2022', '08/29/2022', '08/22/2022',\n",
       "       '08/26/2022', '08/21/2024', '08/22/2024', '08/23/2024',\n",
       "       '08/26/2024', '08/27/2024', '08/28/2024', '08/29/2024',\n",
       "       '08/30/2024', '2022'], dtype=object)"
      ]
     },
     "execution_count": 12,
     "metadata": {},
     "output_type": "execute_result"
    }
   ],
   "source": [
    "df[\"CHECK DATE\"].unique()"
   ]
  },
  {
   "cell_type": "code",
   "execution_count": null,
   "id": "2a66e417-ff14-48cf-8b1e-59cf2d366467",
   "metadata": {},
   "outputs": [],
   "source": []
  },
  {
   "cell_type": "code",
   "execution_count": 14,
   "id": "480864e7-6ba7-4000-adb4-e46e746b0a37",
   "metadata": {
    "scrolled": true
   },
   "outputs": [
    {
     "data": {
      "text/plain": [
       "array([nan, 'DEPARTMENT OF HOUSING',\n",
       "       'DEPT OF FAMILY AND SUPPORT SERVICES',\n",
       "       'DEPARTMENT OF WATER MANAGEMENT', 'DEPT OF GENERAL SERVICES',\n",
       "       'CHICAGO DEPARTMENT OF TRANSPORTATION', 'DEPARTMENT OF ENVIROMENT',\n",
       "       'DEPT OF FLEET MGMT', 'DEPARTMENT OF HEALTH', 'DEPT OF AVIATION',\n",
       "       'DEPARTMENT OF BUILDINGS',\n",
       "       'DEPARTMENT OF CHILDREN AND YOUTH SERVICES',\n",
       "       'DEPT OF BUSINESS AFFAIRS & CONSUMER PROTECTION',\n",
       "       'DEPARTMENT OF FINANCE', 'OFFICE FOR PEOPLE WITH DISABILITIES',\n",
       "       'OFFICE OF EMERGENCY COMMUNICATION',\n",
       "       'DEPARTMENT OF CULTURAL AFFAIRS', 'DEPT OF PLANNING & DEVELOPMENT',\n",
       "       'PLANNING & DEVELOPMENT', 'FIRE DEPARTMENT',\n",
       "       'DEPARTMENT OF PERSONNEL', 'DEPT OF STREETS & SANITATION',\n",
       "       'DEPARTMENT OF LAW',\n",
       "       'DEPARTMENT OF CULTURAL AFFAIRS AND SPECIAL EVENTS',\n",
       "       'DEPT OF BUSINESS & INFORMATION SERVICES',\n",
       "       'DEPARTMENT OF HUMAN SERVICES',\n",
       "       'OFFICE OF PUBLIC SAFETY ADMINISTRATION', 'DEPARTMENT OF POLICE',\n",
       "       'CHICAGO PUBLIC LIBRARY',\n",
       "       'DEPT OF ASSETS INFORMATION AND SERVICES',\n",
       "       'DEPT OF PROCUREMENT SERVICES', 'DEPT OF LAW',\n",
       "       'OFFICE OF THE MAYOR', 'OFFICE OF BUDGET & MANAGEMENT',\n",
       "       'DEPARTMENT OF REVENUE', 'CITY CLERK', 'OFFICE OF COMPLIANCE',\n",
       "       'OHARE MODERNIZATION PROJECT', 'DEPARTMENT OF HUMAN RESOURCES',\n",
       "       'OFFICE OF SPECIAL EVENTS', 'DEPT OF INNOVATION & TECHNOLOGY',\n",
       "       'COMM ON ANIMAL CARE & CONTROL',\n",
       "       'DEPT OF FLEET AND FACILITY MANAGEMENT',\n",
       "       'COMMISSION ON HUMAN RELATIONS', 'CITY TREASURER',\n",
       "       'DEPT OF ZONING & LAND USE PLANNING',\n",
       "       'MAYORS OFFICE OF WORKFORCE DEVELOPMENT',\n",
       "       'INDEPENDENT POLICE REVIEW AUTHORITY', 'DEPT ON AGING',\n",
       "       'GRAPHICS & REPRODUCTION CTR',\n",
       "       'DEPARTMENT OF CONSTRUCTION AND PERMITS', 'CITYWIDE/MULTIPLE',\n",
       "       'DEPT OF CONSUMER SERVICES', 'OFFICE OF CABLE COMMUNICATION ADM',\n",
       "       'ADMINISTRATIVE ADJUDICATION', 'FINANCE GENERAL',\n",
       "       'DEPT OF TECHNOLOGY & INNOVATION', 'DEPARTMENT OF ZONING',\n",
       "       'DEPARTMENT OF ADMINISTRATIVE HEARINGS', 'POLICE BOARD',\n",
       "       'BOARD OF ETHICS', 'OFFICE OF INSPECTOR GENERAL',\n",
       "       'LIC COMM & LOCAL LIQ CTRL COMM'], dtype=object)"
      ]
     },
     "execution_count": 14,
     "metadata": {},
     "output_type": "execute_result"
    }
   ],
   "source": [
    "df[\"DEPARTMENT NAME\"].unique()"
   ]
  },
  {
   "cell_type": "code",
   "execution_count": null,
   "id": "669db268-63d5-4032-9058-d78ebf7ae9b0",
   "metadata": {},
   "outputs": [],
   "source": []
  },
  {
   "cell_type": "code",
   "execution_count": 15,
   "id": "6fcd32b1-9a72-4194-ad9b-cbb6e5ce7034",
   "metadata": {},
   "outputs": [
    {
     "data": {
      "text/plain": [
       "array(['DV', '190668', '117293', ..., 'D9952250478', 'D6948550042',\n",
       "       'C027423'], dtype=object)"
      ]
     },
     "execution_count": 15,
     "metadata": {},
     "output_type": "execute_result"
    }
   ],
   "source": [
    "df[\"CONTRACT NUMBER\"].unique()"
   ]
  },
  {
   "cell_type": "code",
   "execution_count": null,
   "id": "1a5bedb3-551f-4a30-8866-e71c1c4f0d09",
   "metadata": {},
   "outputs": [],
   "source": []
  },
  {
   "cell_type": "code",
   "execution_count": 16,
   "id": "853b8942-4b15-464c-bb2c-b988d8eb567d",
   "metadata": {},
   "outputs": [
    {
     "data": {
      "text/plain": [
       "array(['USI INSURANCE SERVICES LLC.', 'PEARL KOCUR',\n",
       "       'LAWYERS COMMITTEE FOR BETTER HOUSING', ..., 'BROWN, WILLIAM',\n",
       "       'KHALIF ELLISTON', 'CHAD A PENZO THACKER'], dtype=object)"
      ]
     },
     "execution_count": 16,
     "metadata": {},
     "output_type": "execute_result"
    }
   ],
   "source": [
    "df[\"VENDOR NAME\"].unique()"
   ]
  },
  {
   "cell_type": "code",
   "execution_count": null,
   "id": "73f19192-7519-44c1-be3d-f5c1b65843b0",
   "metadata": {},
   "outputs": [],
   "source": []
  },
  {
   "cell_type": "code",
   "execution_count": 17,
   "id": "b4fc66c2-c0cb-409d-a33a-ce92d2be233e",
   "metadata": {},
   "outputs": [
    {
     "data": {
      "text/plain": [
       "array([False, True, nan], dtype=object)"
      ]
     },
     "execution_count": 17,
     "metadata": {},
     "output_type": "execute_result"
    }
   ],
   "source": [
    "df[\"CASHED\"].unique()"
   ]
  },
  {
   "cell_type": "code",
   "execution_count": null,
   "id": "bc180932-8143-4fe5-966f-963bbbf8d9d7",
   "metadata": {},
   "outputs": [],
   "source": []
  },
  {
   "cell_type": "markdown",
   "id": "12d53c20-80e8-4320-8a60-d681846b4a35",
   "metadata": {},
   "source": [
    "## One Hot Encoding"
   ]
  },
  {
   "cell_type": "code",
   "execution_count": null,
   "id": "3eb3b46b-bcb1-42d0-a502-fe9240de36df",
   "metadata": {},
   "outputs": [],
   "source": []
  },
  {
   "cell_type": "code",
   "execution_count": 84,
   "id": "d65b3518-fab3-47c2-8e91-876de611f53d",
   "metadata": {},
   "outputs": [],
   "source": [
    "import numpy as np\n",
    "import pandas as pd \n",
    "from sklearn.preprocessing import OneHotEncoder"
   ]
  },
  {
   "cell_type": "code",
   "execution_count": null,
   "id": "b6740781-5278-4806-9520-87b634762477",
   "metadata": {},
   "outputs": [],
   "source": []
  },
  {
   "cell_type": "code",
   "execution_count": 85,
   "id": "50c1feee-2354-40b4-919b-e0129e78c9a9",
   "metadata": {},
   "outputs": [],
   "source": [
    "ohe= OneHotEncoder()"
   ]
  },
  {
   "cell_type": "code",
   "execution_count": 86,
   "id": "b851c1cf-13b4-4aab-985d-191027403236",
   "metadata": {},
   "outputs": [
    {
     "name": "stdout",
     "output_type": "stream",
     "text": [
      "OneHotEncoder()\n"
     ]
    }
   ],
   "source": [
    "print(ohe)"
   ]
  },
  {
   "cell_type": "code",
   "execution_count": null,
   "id": "bc58db3f-1d7a-43aa-9246-daff1334230d",
   "metadata": {},
   "outputs": [],
   "source": []
  },
  {
   "cell_type": "code",
   "execution_count": 87,
   "id": "6ed0f804-dfa2-4d34-bcf5-f79ab100d4a5",
   "metadata": {},
   "outputs": [
    {
     "data": {
      "text/plain": [
       "array([[1., 0.],\n",
       "       [1., 0.],\n",
       "       [0., 1.],\n",
       "       ...,\n",
       "       [0., 1.],\n",
       "       [0., 1.],\n",
       "       [0., 1.]])"
      ]
     },
     "execution_count": 87,
     "metadata": {},
     "output_type": "execute_result"
    }
   ],
   "source": [
    "ohe.fit_transform(df[[\"CASHED\"]]).toarray()"
   ]
  },
  {
   "cell_type": "code",
   "execution_count": null,
   "id": "3aa5486c-3e14-450e-b427-7cd301fd2704",
   "metadata": {},
   "outputs": [],
   "source": []
  },
  {
   "cell_type": "code",
   "execution_count": 24,
   "id": "e12810f9-cdef-4e00-bdd5-a6b47035c10a",
   "metadata": {},
   "outputs": [],
   "source": [
    "feature_arry= ohe.fit_transform(df[[\"CASHED\"]]).toarray()"
   ]
  },
  {
   "cell_type": "code",
   "execution_count": 26,
   "id": "f47a9cf7-5559-4117-bde6-e48aa6ce0f52",
   "metadata": {},
   "outputs": [
    {
     "data": {
      "text/plain": [
       "[array([False, True, nan], dtype=object)]"
      ]
     },
     "execution_count": 26,
     "metadata": {},
     "output_type": "execute_result"
    }
   ],
   "source": [
    "ohe.categories_"
   ]
  },
  {
   "cell_type": "code",
   "execution_count": null,
   "id": "504edf9e-230a-42e1-9d54-cd190dc1f850",
   "metadata": {},
   "outputs": [],
   "source": []
  },
  {
   "cell_type": "code",
   "execution_count": 29,
   "id": "898430fe-e59e-4947-87d4-fc799cda501e",
   "metadata": {},
   "outputs": [
    {
     "name": "stdout",
     "output_type": "stream",
     "text": [
      "Array with NaN replaced by True: 0    False\n",
      "1     True\n",
      "2     True\n",
      "dtype: bool\n",
      "Array with NaN replaced by False: 0    False\n",
      "1     True\n",
      "2    False\n",
      "dtype: bool\n"
     ]
    },
    {
     "name": "stderr",
     "output_type": "stream",
     "text": [
      "C:\\Users\\Nutzer\\AppData\\Local\\Temp\\ipykernel_1276\\3057171960.py:7: FutureWarning: Downcasting object dtype arrays on .fillna, .ffill, .bfill is deprecated and will change in a future version. Call result.infer_objects(copy=False) instead. To opt-in to the future behavior, set `pd.set_option('future.no_silent_downcasting', True)`\n",
      "  arr_with_true = arr.fillna(True)\n",
      "C:\\Users\\Nutzer\\AppData\\Local\\Temp\\ipykernel_1276\\3057171960.py:10: FutureWarning: Downcasting object dtype arrays on .fillna, .ffill, .bfill is deprecated and will change in a future version. Call result.infer_objects(copy=False) instead. To opt-in to the future behavior, set `pd.set_option('future.no_silent_downcasting', True)`\n",
      "  arr_with_false = arr.fillna(False)\n"
     ]
    }
   ],
   "source": [
    "import pandas as pd\n",
    "\n",
    "# Original array\n",
    "arr = pd.Series([False, True, np.nan])\n",
    "\n",
    "# Replace NaN with True\n",
    "arr_with_true = arr.fillna(True)\n",
    "\n",
    "# Replace NaN with False\n",
    "arr_with_false = arr.fillna(False)\n",
    "\n",
    "print(\"Array with NaN replaced by True:\", arr_with_true)\n",
    "print(\"Array with NaN replaced by False:\", arr_with_false)\n"
   ]
  },
  {
   "cell_type": "code",
   "execution_count": null,
   "id": "c8cd5698-e141-411c-95ac-9f987defef0c",
   "metadata": {},
   "outputs": [],
   "source": []
  },
  {
   "cell_type": "code",
   "execution_count": 30,
   "id": "5be80b61-1f3c-4cbd-8d0a-c06c678081a3",
   "metadata": {},
   "outputs": [
    {
     "data": {
      "text/plain": [
       "[array([False, True, nan], dtype=object)]"
      ]
     },
     "execution_count": 30,
     "metadata": {},
     "output_type": "execute_result"
    }
   ],
   "source": [
    "ohe.categories_"
   ]
  },
  {
   "cell_type": "code",
   "execution_count": null,
   "id": "be040e14-6c61-4199-a67b-eff5bd27eecc",
   "metadata": {},
   "outputs": [],
   "source": []
  },
  {
   "cell_type": "markdown",
   "id": "e40f6f2c-b0c8-4552-a725-6b24841f5e55",
   "metadata": {},
   "source": [
    "## To remove in cash nan ist wichtih"
   ]
  },
  {
   "cell_type": "code",
   "execution_count": 88,
   "id": "3c36b25a-cdf3-42fc-8488-c218083cadb3",
   "metadata": {},
   "outputs": [
    {
     "name": "stdout",
     "output_type": "stream",
     "text": [
      "One-Hot Encoded Categories: [array([False,  True])]\n",
      "One-Hot Encoded Array:\n",
      " [[1. 0.]\n",
      " [0. 1.]\n",
      " [1. 0.]\n",
      " [0. 1.]\n",
      " [1. 0.]\n",
      " [1. 0.]]\n"
     ]
    },
    {
     "name": "stderr",
     "output_type": "stream",
     "text": [
      "C:\\Users\\Nutzer\\AppData\\Local\\Temp\\ipykernel_7128\\1161780221.py:11: FutureWarning: Downcasting object dtype arrays on .fillna, .ffill, .bfill is deprecated and will change in a future version. Call result.infer_objects(copy=False) instead. To opt-in to the future behavior, set `pd.set_option('future.no_silent_downcasting', True)`\n",
      "  df['CASHED'] = df['CASHED'].fillna(False)\n"
     ]
    }
   ],
   "source": [
    "import pandas as pd\n",
    "import numpy as np\n",
    "from sklearn.preprocessing import OneHotEncoder\n",
    "\n",
    "# Example DataFrame with a column that contains True, False, and NaN\n",
    "df = pd.DataFrame({\n",
    "    'CASHED': [False, True, np.nan, True, False, np.nan]\n",
    "})\n",
    "\n",
    "# Replace NaN with True or False (your choice). Here we replace with False for example:\n",
    "df['CASHED'] = df['CASHED'].fillna(False)\n",
    "\n",
    "# Alternatively, if you want to replace NaN with True:\n",
    "# df['CASHED'] = df['CASHED'].fillna(True)\n",
    "\n",
    "# Initialize OneHotEncoder\n",
    "ohe = OneHotEncoder()\n",
    "\n",
    "# Apply OneHotEncoder to the 'CASHED' column\n",
    "# .toarray() converts the encoded result into a dense NumPy array\n",
    "feature_array = ohe.fit_transform(df[['CASHED']]).toarray()\n",
    "\n",
    "# Output the one-hot encoded categories and array\n",
    "print(\"One-Hot Encoded Categories:\", ohe.categories_)\n",
    "print(\"One-Hot Encoded Array:\\n\", feature_array)\n"
   ]
  },
  {
   "cell_type": "code",
   "execution_count": 89,
   "id": "cad32fdc-3776-4e5c-9a3f-262a7d8d3de0",
   "metadata": {},
   "outputs": [],
   "source": [
    "feature_arry= ohe.fit_transform(df[[\"CASHED\"]]).toarray()"
   ]
  },
  {
   "cell_type": "code",
   "execution_count": 90,
   "id": "d180e68a-b243-4cea-bc6c-975d4401e06e",
   "metadata": {},
   "outputs": [
    {
     "data": {
      "text/plain": [
       "[array([False,  True])]"
      ]
     },
     "execution_count": 90,
     "metadata": {},
     "output_type": "execute_result"
    }
   ],
   "source": [
    "ohe.categories_"
   ]
  },
  {
   "cell_type": "code",
   "execution_count": null,
   "id": "fefa5f89-1847-48b3-947e-8d4851cbe84d",
   "metadata": {},
   "outputs": [],
   "source": []
  },
  {
   "cell_type": "code",
   "execution_count": null,
   "id": "2a1d3a16-6514-4834-af27-9c91d1d45d41",
   "metadata": {},
   "outputs": [],
   "source": []
  },
  {
   "cell_type": "code",
   "execution_count": 91,
   "id": "a4d0069d-d712-4212-9258-97eac2fc3f16",
   "metadata": {},
   "outputs": [],
   "source": [
    "feature_labels= ohe.categories_"
   ]
  },
  {
   "cell_type": "code",
   "execution_count": null,
   "id": "624fbb54-6dfe-4310-a067-2b7386aa56f5",
   "metadata": {},
   "outputs": [],
   "source": []
  },
  {
   "cell_type": "code",
   "execution_count": 92,
   "id": "92993efe-c2fa-4219-8edd-0063d081224e",
   "metadata": {},
   "outputs": [
    {
     "data": {
      "text/plain": [
       "array([False,  True])"
      ]
     },
     "execution_count": 92,
     "metadata": {},
     "output_type": "execute_result"
    }
   ],
   "source": [
    "np.array(feature_labels).ravel()"
   ]
  },
  {
   "cell_type": "code",
   "execution_count": 93,
   "id": "6e3c4e4e-b75e-4b53-9204-a4858f5c8b2a",
   "metadata": {},
   "outputs": [
    {
     "name": "stdout",
     "output_type": "stream",
     "text": [
      "[array([False,  True])]\n"
     ]
    }
   ],
   "source": [
    "print(feature_labels)"
   ]
  },
  {
   "cell_type": "code",
   "execution_count": 94,
   "id": "0673ab54-469d-4c47-9798-5fe86c81d924",
   "metadata": {},
   "outputs": [
    {
     "data": {
      "text/html": [
       "<div>\n",
       "<style scoped>\n",
       "    .dataframe tbody tr th:only-of-type {\n",
       "        vertical-align: middle;\n",
       "    }\n",
       "\n",
       "    .dataframe tbody tr th {\n",
       "        vertical-align: top;\n",
       "    }\n",
       "\n",
       "    .dataframe thead tr th {\n",
       "        text-align: left;\n",
       "    }\n",
       "</style>\n",
       "<table border=\"1\" class=\"dataframe\">\n",
       "  <thead>\n",
       "    <tr>\n",
       "      <th></th>\n",
       "      <th>False</th>\n",
       "      <th>True</th>\n",
       "    </tr>\n",
       "  </thead>\n",
       "  <tbody>\n",
       "    <tr>\n",
       "      <th>0</th>\n",
       "      <td>1.0</td>\n",
       "      <td>0.0</td>\n",
       "    </tr>\n",
       "    <tr>\n",
       "      <th>1</th>\n",
       "      <td>0.0</td>\n",
       "      <td>1.0</td>\n",
       "    </tr>\n",
       "    <tr>\n",
       "      <th>2</th>\n",
       "      <td>1.0</td>\n",
       "      <td>0.0</td>\n",
       "    </tr>\n",
       "    <tr>\n",
       "      <th>3</th>\n",
       "      <td>0.0</td>\n",
       "      <td>1.0</td>\n",
       "    </tr>\n",
       "    <tr>\n",
       "      <th>4</th>\n",
       "      <td>1.0</td>\n",
       "      <td>0.0</td>\n",
       "    </tr>\n",
       "    <tr>\n",
       "      <th>5</th>\n",
       "      <td>1.0</td>\n",
       "      <td>0.0</td>\n",
       "    </tr>\n",
       "  </tbody>\n",
       "</table>\n",
       "</div>"
      ],
      "text/plain": [
       "  False True \n",
       "0   1.0   0.0\n",
       "1   0.0   1.0\n",
       "2   1.0   0.0\n",
       "3   0.0   1.0\n",
       "4   1.0   0.0\n",
       "5   1.0   0.0"
      ]
     },
     "execution_count": 94,
     "metadata": {},
     "output_type": "execute_result"
    }
   ],
   "source": [
    "pd.DataFrame(feature_arry, columns=feature_labels)"
   ]
  },
  {
   "cell_type": "code",
   "execution_count": 95,
   "id": "554f40c9-3b40-431e-b245-846e4ea64aac",
   "metadata": {},
   "outputs": [],
   "source": [
    "feature= pd.DataFrame(feature_arry, columns=feature_labels)"
   ]
  },
  {
   "cell_type": "code",
   "execution_count": 96,
   "id": "af4e5ba6-8c2c-45ea-9063-7e70ed0e126b",
   "metadata": {},
   "outputs": [
    {
     "name": "stdout",
     "output_type": "stream",
     "text": [
      "  False True \n",
      "0   1.0   0.0\n",
      "1   0.0   1.0\n",
      "2   1.0   0.0\n",
      "3   0.0   1.0\n",
      "4   1.0   0.0\n",
      "5   1.0   0.0\n"
     ]
    }
   ],
   "source": [
    "print(feature)"
   ]
  },
  {
   "cell_type": "code",
   "execution_count": 97,
   "id": "e2b7c2f0-b8d7-45ee-bab1-2e350ed74359",
   "metadata": {},
   "outputs": [
    {
     "data": {
      "text/html": [
       "<div>\n",
       "<style scoped>\n",
       "    .dataframe tbody tr th:only-of-type {\n",
       "        vertical-align: middle;\n",
       "    }\n",
       "\n",
       "    .dataframe tbody tr th {\n",
       "        vertical-align: top;\n",
       "    }\n",
       "\n",
       "    .dataframe thead tr th {\n",
       "        text-align: left;\n",
       "    }\n",
       "</style>\n",
       "<table border=\"1\" class=\"dataframe\">\n",
       "  <thead>\n",
       "    <tr>\n",
       "      <th></th>\n",
       "      <th>False</th>\n",
       "      <th>True</th>\n",
       "    </tr>\n",
       "  </thead>\n",
       "  <tbody>\n",
       "    <tr>\n",
       "      <th>0</th>\n",
       "      <td>1.0</td>\n",
       "      <td>0.0</td>\n",
       "    </tr>\n",
       "    <tr>\n",
       "      <th>1</th>\n",
       "      <td>0.0</td>\n",
       "      <td>1.0</td>\n",
       "    </tr>\n",
       "    <tr>\n",
       "      <th>2</th>\n",
       "      <td>1.0</td>\n",
       "      <td>0.0</td>\n",
       "    </tr>\n",
       "    <tr>\n",
       "      <th>3</th>\n",
       "      <td>0.0</td>\n",
       "      <td>1.0</td>\n",
       "    </tr>\n",
       "    <tr>\n",
       "      <th>4</th>\n",
       "      <td>1.0</td>\n",
       "      <td>0.0</td>\n",
       "    </tr>\n",
       "  </tbody>\n",
       "</table>\n",
       "</div>"
      ],
      "text/plain": [
       "  False True \n",
       "0   1.0   0.0\n",
       "1   0.0   1.0\n",
       "2   1.0   0.0\n",
       "3   0.0   1.0\n",
       "4   1.0   0.0"
      ]
     },
     "execution_count": 97,
     "metadata": {},
     "output_type": "execute_result"
    }
   ],
   "source": [
    "feature.head()"
   ]
  },
  {
   "cell_type": "code",
   "execution_count": null,
   "id": "8905d987-afb7-455b-aeb5-562ab6bf4ce2",
   "metadata": {},
   "outputs": [],
   "source": []
  },
  {
   "cell_type": "code",
   "execution_count": 98,
   "id": "2fcfb900-e6b7-4641-a8df-51021303031a",
   "metadata": {},
   "outputs": [
    {
     "data": {
      "text/html": [
       "<div>\n",
       "<style scoped>\n",
       "    .dataframe tbody tr th:only-of-type {\n",
       "        vertical-align: middle;\n",
       "    }\n",
       "\n",
       "    .dataframe tbody tr th {\n",
       "        vertical-align: top;\n",
       "    }\n",
       "\n",
       "    .dataframe thead th {\n",
       "        text-align: right;\n",
       "    }\n",
       "</style>\n",
       "<table border=\"1\" class=\"dataframe\">\n",
       "  <thead>\n",
       "    <tr style=\"text-align: right;\">\n",
       "      <th></th>\n",
       "      <th>CASHED</th>\n",
       "      <th>(False,)</th>\n",
       "      <th>(True,)</th>\n",
       "    </tr>\n",
       "  </thead>\n",
       "  <tbody>\n",
       "    <tr>\n",
       "      <th>0</th>\n",
       "      <td>False</td>\n",
       "      <td>1.0</td>\n",
       "      <td>0.0</td>\n",
       "    </tr>\n",
       "    <tr>\n",
       "      <th>1</th>\n",
       "      <td>True</td>\n",
       "      <td>0.0</td>\n",
       "      <td>1.0</td>\n",
       "    </tr>\n",
       "    <tr>\n",
       "      <th>2</th>\n",
       "      <td>False</td>\n",
       "      <td>1.0</td>\n",
       "      <td>0.0</td>\n",
       "    </tr>\n",
       "    <tr>\n",
       "      <th>3</th>\n",
       "      <td>True</td>\n",
       "      <td>0.0</td>\n",
       "      <td>1.0</td>\n",
       "    </tr>\n",
       "    <tr>\n",
       "      <th>4</th>\n",
       "      <td>False</td>\n",
       "      <td>1.0</td>\n",
       "      <td>0.0</td>\n",
       "    </tr>\n",
       "    <tr>\n",
       "      <th>5</th>\n",
       "      <td>False</td>\n",
       "      <td>1.0</td>\n",
       "      <td>0.0</td>\n",
       "    </tr>\n",
       "  </tbody>\n",
       "</table>\n",
       "</div>"
      ],
      "text/plain": [
       "   CASHED  (False,)  (True,)\n",
       "0   False       1.0      0.0\n",
       "1    True       0.0      1.0\n",
       "2   False       1.0      0.0\n",
       "3    True       0.0      1.0\n",
       "4   False       1.0      0.0\n",
       "5   False       1.0      0.0"
      ]
     },
     "execution_count": 98,
     "metadata": {},
     "output_type": "execute_result"
    }
   ],
   "source": [
    "pd.concat([df, feature], axis=1)\n"
   ]
  },
  {
   "cell_type": "code",
   "execution_count": null,
   "id": "c69fe389-1ca4-49ef-a28c-3bc9c3c29d06",
   "metadata": {},
   "outputs": [],
   "source": []
  },
  {
   "cell_type": "code",
   "execution_count": null,
   "id": "4ee89584-15c6-472e-bf4c-5e64aa12dfcc",
   "metadata": {},
   "outputs": [],
   "source": []
  },
  {
   "cell_type": "code",
   "execution_count": 101,
   "id": "b9f348ed-06f1-4f7c-90a8-d890327b5d96",
   "metadata": {
    "scrolled": true
   },
   "outputs": [
    {
     "name": "stdout",
     "output_type": "stream",
     "text": [
      "       VOUCHER NUMBER      AMOUNT  CHECK DATE  \\\n",
      "0       PV27242780609  4260645.83  06/18/2024   \n",
      "1       PV27232768083       94.55  12/29/2023   \n",
      "2       CVIP232100094   152170.84  06/08/2023   \n",
      "3                 NaN    63250.00        2021   \n",
      "4                 NaN    38554.81        2021   \n",
      "...               ...         ...         ...   \n",
      "379894  PV27222763096       50.00  04/05/2022   \n",
      "379895            NaN    56222.15        2002   \n",
      "379896  PV27222702155     4333.99  07/27/2022   \n",
      "379897  PVRF212204731      603.24  02/24/2022   \n",
      "379898            NaN    42109.00        2002   \n",
      "\n",
      "                            DEPARTMENT NAME CONTRACT NUMBER  \\\n",
      "0                                       NaN              DV   \n",
      "1                                       NaN              DV   \n",
      "2                     DEPARTMENT OF HOUSING          190668   \n",
      "3       DEPT OF FAMILY AND SUPPORT SERVICES          117293   \n",
      "4                                       NaN          124392   \n",
      "...                                     ...             ...   \n",
      "379894                                  NaN              DV   \n",
      "379895                 DEPARTMENT OF HEALTH     D6948550042   \n",
      "379896                                  NaN              DV   \n",
      "379897                                  NaN              DV   \n",
      "379898                   DEPT OF FLEET MGMT         C027423   \n",
      "\n",
      "                                              VENDOR NAME  CASHED  False  True  \n",
      "0                             USI INSURANCE SERVICES LLC.   False    1.0   0.0  \n",
      "1                                             PEARL KOCUR   False    1.0   0.0  \n",
      "2                    LAWYERS COMMITTEE FOR BETTER HOUSING    True    0.0   1.0  \n",
      "3                         YOUNG MEN'S EDUCATIONAL NETWORK    True    0.0   1.0  \n",
      "4       TRAVELERS & IMMIGRANTS AID'S HEARTLAND ALLIANC...    True    0.0   1.0  \n",
      "...                                                   ...     ...    ...   ...  \n",
      "379894                               CHAD A PENZO THACKER    True    0.0   1.0  \n",
      "379895                  CHRISTIAN COMMUNITY HEALTH CENTER    True    0.0   1.0  \n",
      "379896                              COOK COUNTY COLLECTOR    True    0.0   1.0  \n",
      "379897                           COMMONWEALTH. EDISON CO.    True    0.0   1.0  \n",
      "379898                    SOUTH SIDE FORD TRUCK SALES INC    True    0.0   1.0  \n",
      "\n",
      "[379899 rows x 9 columns]\n"
     ]
    },
    {
     "name": "stderr",
     "output_type": "stream",
     "text": [
      "C:\\Users\\Nutzer\\AppData\\Local\\Temp\\ipykernel_7128\\2909546329.py:9: FutureWarning: Downcasting object dtype arrays on .fillna, .ffill, .bfill is deprecated and will change in a future version. Call result.infer_objects(copy=False) instead. To opt-in to the future behavior, set `pd.set_option('future.no_silent_downcasting', True)`\n",
      "  df['CASHED'] = df['CASHED'].fillna(False)\n"
     ]
    }
   ],
   "source": [
    "import pandas as pd\n",
    "import numpy as np\n",
    "from sklearn.preprocessing import OneHotEncoder\n",
    "\n",
    "# Step 1: Load dataset from CSV\n",
    "df = pd.read_csv(r'C:\\Users\\Nutzer\\Desktop\\BAExperiment\\Payments_20240904.csv')  # Replace with the actual path to your CSV file\n",
    "\n",
    "# Step 2: Replace NaN values in the 'CASHED' column (you can use True or False)\n",
    "df['CASHED'] = df['CASHED'].fillna(False)\n",
    "\n",
    "# Step 3: Initialize OneHotEncoder\n",
    "ohe = OneHotEncoder()\n",
    "\n",
    "# Step 4: Apply OneHotEncoder to the 'CASHED' column\n",
    "feature_array = ohe.fit_transform(df[['CASHED']]).toarray()\n",
    "\n",
    "# Step 5: Convert the one-hot encoded array to a DataFrame with appropriate column names\n",
    "feature_df = pd.DataFrame(feature_array, columns=ohe.categories_[0])\n",
    "\n",
    "# Step 6: Concatenate the original DataFrame with the one-hot encoded DataFrame\n",
    "df_combined = pd.concat([df.reset_index(drop=True), feature_df.reset_index(drop=True)], axis=1)\n",
    "\n",
    "# Step 7: Output or save the result\n",
    "print(df_combined)\n"
   ]
  },
  {
   "cell_type": "code",
   "execution_count": null,
   "id": "5060611b-2f12-4832-8add-3920f261366b",
   "metadata": {},
   "outputs": [],
   "source": []
  },
  {
   "cell_type": "code",
   "execution_count": null,
   "id": "e77400c7-7f43-4c82-93bd-a8ef5b5f935c",
   "metadata": {},
   "outputs": [],
   "source": []
  },
  {
   "cell_type": "code",
   "execution_count": 101,
   "id": "628c8085-cd4b-4663-b068-df59b5056857",
   "metadata": {},
   "outputs": [
    {
     "name": "stderr",
     "output_type": "stream",
     "text": [
      "C:\\Users\\Nutzer\\AppData\\Local\\Temp\\ipykernel_1276\\1390292535.py:9: FutureWarning: Downcasting object dtype arrays on .fillna, .ffill, .bfill is deprecated and will change in a future version. Call result.infer_objects(copy=False) instead. To opt-in to the future behavior, set `pd.set_option('future.no_silent_downcasting', True)`\n",
      "  df['CASHED'] = df['CASHED'].fillna(False)\n"
     ]
    }
   ],
   "source": [
    "import pandas as pd\n",
    "import numpy as np\n",
    "from sklearn.preprocessing import OneHotEncoder\n",
    "\n",
    "# Step 1: Load dataset from CSV\n",
    "df = pd.read_csv(r'C:\\Users\\Nutzer\\Desktop\\BAExperiment\\Payments_20240904.csv')  # Replace with the actual path to your CSV file\n",
    "\n",
    "# Step 2: Replace NaN values in the 'CASHED' column (you can use True or False)\n",
    "df['CASHED'] = df['CASHED'].fillna(False)\n",
    "\n",
    "# Step 3: Initialize OneHotEncoder\n",
    "ohe = OneHotEncoder()\n",
    "\n",
    "# Step 4: Apply OneHotEncoder to the 'CASHED' column\n",
    "feature_array = ohe.fit_transform(df[['CASHED']]).toarray()\n",
    "\n",
    "# Step 5: Convert the one-hot encoded array to a DataFrame with appropriate column names\n",
    "feature_df = pd.DataFrame(feature_array, columns=ohe.categories_[0])\n",
    "\n",
    "# Step 6: Concatenate the original DataFrame with the one-hot encoded DataFrame\n",
    "df_combined = pd.concat([df.reset_index(drop=True), feature_df.reset_index(drop=True)], axis=1)\n",
    "\n",
    "# Step 7: Save the result to a new CSV file\n",
    "df_combined.to_csv(r'C:\\Users\\Nutzer\\Desktop\\BAExperiment\\Payments_Processed.csv', index=False)\n"
   ]
  },
  {
   "cell_type": "code",
   "execution_count": null,
   "id": "11b5deb2-aec6-4336-ac55-3ee906bbc5ae",
   "metadata": {},
   "outputs": [],
   "source": []
  },
  {
   "cell_type": "code",
   "execution_count": null,
   "id": "d28e426b-b774-47fd-a305-5d61908577d7",
   "metadata": {},
   "outputs": [],
   "source": []
  },
  {
   "cell_type": "code",
   "execution_count": null,
   "id": "a8c24fa9-7297-4ac0-a9d5-142f282896e3",
   "metadata": {},
   "outputs": [],
   "source": []
  },
  {
   "cell_type": "code",
   "execution_count": null,
   "id": "d58d22b1-1a55-4090-b8a2-f2b022bf5bd8",
   "metadata": {},
   "outputs": [],
   "source": []
  },
  {
   "cell_type": "code",
   "execution_count": 73,
   "id": "706f1b24-6c21-4584-ac65-463dbcd35e8e",
   "metadata": {},
   "outputs": [
    {
     "data": {
      "text/plain": [
       "VOUCHER NUMBER      object\n",
       "AMOUNT             float64\n",
       "CHECK DATE          object\n",
       "DEPARTMENT NAME     object\n",
       "CONTRACT NUMBER     object\n",
       "VENDOR NAME         object\n",
       "CASHED                bool\n",
       "dtype: object"
      ]
     },
     "execution_count": 73,
     "metadata": {},
     "output_type": "execute_result"
    }
   ],
   "source": [
    "df.dtypes"
   ]
  },
  {
   "cell_type": "code",
   "execution_count": null,
   "id": "4025751f-6f6c-4d24-adc9-1b9bebecf4b9",
   "metadata": {},
   "outputs": [],
   "source": []
  },
  {
   "cell_type": "code",
   "execution_count": 102,
   "id": "494d7ae4-3edd-48ce-bbcb-5458421dcf78",
   "metadata": {},
   "outputs": [
    {
     "data": {
      "text/plain": [
       "array([[1., 0.],\n",
       "       [1., 0.],\n",
       "       [0., 1.],\n",
       "       ...,\n",
       "       [0., 1.],\n",
       "       [0., 1.],\n",
       "       [0., 1.]])"
      ]
     },
     "execution_count": 102,
     "metadata": {},
     "output_type": "execute_result"
    }
   ],
   "source": [
    "ohe.fit_transform(df[[\"CASHED\"]]).toarray()"
   ]
  },
  {
   "cell_type": "code",
   "execution_count": null,
   "id": "9b2ba54f-4ed4-49b7-bfe0-a5eb3ecaf82c",
   "metadata": {},
   "outputs": [],
   "source": []
  },
  {
   "cell_type": "markdown",
   "id": "1f963bb7-edd0-40a5-bca3-6c45ef7abe95",
   "metadata": {},
   "source": [
    "##  Identify columns with missing values and categorical data"
   ]
  },
  {
   "cell_type": "code",
   "execution_count": 103,
   "id": "08e860db-bd69-4cb7-b2ce-cb167444a69d",
   "metadata": {},
   "outputs": [],
   "source": [
    "# Identify columns with missing values and categorical data\n",
    "missing_categorical = [var for var in df.columns if df[var].isnull().mean() > 0 and df[var].dtype == 'object']\n"
   ]
  },
  {
   "cell_type": "code",
   "execution_count": null,
   "id": "3bbfe85d-96ce-4cfc-b9cb-a4a124da0669",
   "metadata": {},
   "outputs": [],
   "source": []
  },
  {
   "cell_type": "code",
   "execution_count": 104,
   "id": "55a83ff9-7fa6-46d5-9d92-c9da4f44a5fe",
   "metadata": {},
   "outputs": [
    {
     "data": {
      "text/plain": [
       "['VOUCHER NUMBER', 'DEPARTMENT NAME']"
      ]
     },
     "execution_count": 104,
     "metadata": {},
     "output_type": "execute_result"
    }
   ],
   "source": [
    "missing_categorical"
   ]
  },
  {
   "cell_type": "code",
   "execution_count": null,
   "id": "1967a2b7-a0b8-470a-bb10-70262c481aa5",
   "metadata": {},
   "outputs": [],
   "source": []
  },
  {
   "cell_type": "markdown",
   "id": "73678554-b883-43e2-a12b-198a65d4940e",
   "metadata": {},
   "source": [
    "## Count of missing Data "
   ]
  },
  {
   "cell_type": "code",
   "execution_count": null,
   "id": "264516a4-0b02-462c-ba5f-bf1613099ced",
   "metadata": {},
   "outputs": [],
   "source": []
  },
  {
   "cell_type": "markdown",
   "id": "5e83da96-6664-46fd-b66b-952a3bcc6952",
   "metadata": {},
   "source": [
    "## 'VOUCHER NUMBER'"
   ]
  },
  {
   "cell_type": "code",
   "execution_count": null,
   "id": "8c6b6e16-614a-4f28-90df-c463876f47e5",
   "metadata": {},
   "outputs": [],
   "source": []
  },
  {
   "cell_type": "code",
   "execution_count": 105,
   "id": "6afb6abf-146c-4967-9704-bd80d096c60d",
   "metadata": {},
   "outputs": [
    {
     "name": "stdout",
     "output_type": "stream",
     "text": [
      "VOUCHER NUMBER     0.268627\n",
      "DEPARTMENT NAME    0.483157\n",
      "dtype: float64\n"
     ]
    }
   ],
   "source": [
    "# Check the percentage of missing values in the 'VOUCHER NUMBER' and 'DEPARTMENT NAME' columns\n",
    "missing_percentage = df[['VOUCHER NUMBER', 'DEPARTMENT NAME']].isnull().mean()\n",
    "\n",
    "print(missing_percentage)\n"
   ]
  },
  {
   "cell_type": "code",
   "execution_count": null,
   "id": "1026a1be-a245-444c-a9af-34078a1ac6b9",
   "metadata": {},
   "outputs": [],
   "source": []
  },
  {
   "cell_type": "code",
   "execution_count": 106,
   "id": "c012f650-2923-46d0-b6fd-365b3a9df739",
   "metadata": {},
   "outputs": [
    {
     "name": "stdout",
     "output_type": "stream",
     "text": [
      "Percentage of missing values in 'VOUCHER NUMBER': 26.86%\n",
      "Percentage of missing values in 'DEPARTMENT NAME': 48.32%\n"
     ]
    }
   ],
   "source": [
    "# Check the percentage of missing values in the 'VOUCHER NUMBER' and 'DEPARTMENT NAME' columns\n",
    "missing_percentage = df[['VOUCHER NUMBER', 'DEPARTMENT NAME']].isnull().mean()\n",
    "\n",
    "# Print the percentage of missing values for both columns\n",
    "for column, percentage in missing_percentage.items():\n",
    "    print(f\"Percentage of missing values in '{column}': {percentage:.2%}\")\n",
    "\n"
   ]
  },
  {
   "cell_type": "code",
   "execution_count": null,
   "id": "77d53641-eb5d-4c3d-82b9-1fcc36f2f17c",
   "metadata": {},
   "outputs": [],
   "source": []
  },
  {
   "cell_type": "code",
   "execution_count": 107,
   "id": "ceb13d4a-3f93-419c-9d5d-0cc5d95481dd",
   "metadata": {},
   "outputs": [
    {
     "name": "stdout",
     "output_type": "stream",
     "text": [
      "Number of missing values in 'VOUCHER NUMBER': 102051\n",
      "Number of missing values in 'DEPARTMENT NAME': 183551\n"
     ]
    }
   ],
   "source": [
    "# Count the number of missing values in the 'VOUCHER NUMBER' and 'DEPARTMENT NAME' columns\n",
    "missing_counts = df[['VOUCHER NUMBER', 'DEPARTMENT NAME']].isnull().sum()\n",
    "\n",
    "# Print the number of missing values for both columns\n",
    "for column, count in missing_counts.items():\n",
    "    print(f\"Number of missing values in '{column}': {count}\")\n"
   ]
  },
  {
   "cell_type": "code",
   "execution_count": null,
   "id": "3c7e8cbe-4b4b-48be-a9bf-fe2c88001a6c",
   "metadata": {},
   "outputs": [],
   "source": []
  },
  {
   "cell_type": "code",
   "execution_count": 108,
   "id": "dc8413e0-acc1-436c-864e-203da153d584",
   "metadata": {},
   "outputs": [
    {
     "name": "stdout",
     "output_type": "stream",
     "text": [
      "Unique value counts for 'VOUCHER NUMBER':\n",
      "VOUCHER NUMBER\n",
      "Multiple          2852\n",
      "PVCI23CI705361      43\n",
      "PVCI23CI705785      42\n",
      "PVCI22CI010880      33\n",
      "PVCI23CI705786      30\n",
      "                  ... \n",
      "PVPR232710638        1\n",
      "PV84228443029        1\n",
      "PVCI23CI020490       1\n",
      "PV31233100806        1\n",
      "PVRF212204731        1\n",
      "Name: count, Length: 242352, dtype: int64\n",
      "\n",
      "Unique value counts for 'DEPARTMENT NAME':\n",
      "DEPARTMENT NAME\n",
      "DEPT OF FAMILY AND SUPPORT SERVICES      38664\n",
      "DEPARTMENT OF HEALTH                     16985\n",
      "DEPT OF GENERAL SERVICES                 16581\n",
      "DEPT OF AVIATION                         16064\n",
      "CHICAGO DEPARTMENT OF TRANSPORTATION     11734\n",
      "                                         ...  \n",
      "POLICE BOARD                                 2\n",
      "INDEPENDENT POLICE REVIEW AUTHORITY          1\n",
      "DEPARTMENT OF ADMINISTRATIVE HEARINGS        1\n",
      "OFFICE OF INSPECTOR GENERAL                  1\n",
      "LIC COMM & LOCAL LIQ CTRL COMM               1\n",
      "Name: count, Length: 62, dtype: int64\n"
     ]
    }
   ],
   "source": [
    "# Get the count of each unique value in the 'VOUCHER NUMBER' and 'DEPARTMENT NAME' columns\n",
    "voucher_counts = df['VOUCHER NUMBER'].value_counts()\n",
    "department_counts = df['DEPARTMENT NAME'].value_counts()\n",
    "\n",
    "# Print the counts of unique values in both columns\n",
    "print(\"Unique value counts for 'VOUCHER NUMBER':\")\n",
    "print(voucher_counts)\n",
    "print(\"\\nUnique value counts for 'DEPARTMENT NAME':\")\n",
    "print(department_counts)\n"
   ]
  },
  {
   "cell_type": "code",
   "execution_count": null,
   "id": "25943113-a173-4670-9e1a-f623f92c936c",
   "metadata": {},
   "outputs": [],
   "source": []
  },
  {
   "cell_type": "code",
   "execution_count": null,
   "id": "54f47225-a122-431b-8c6c-37aa46cf4da6",
   "metadata": {},
   "outputs": [],
   "source": []
  },
  {
   "cell_type": "code",
   "execution_count": 122,
   "id": "a0da64ed-b7e2-44e7-9733-d7c3c5fc50c1",
   "metadata": {},
   "outputs": [],
   "source": [
    "import matplotlib.pyplot as plt\n",
    "\n",
    "# Get the count of each unique value in the 'VOUCHER NUMBER' and 'DEPARTMENT NAME' columns\n",
    "voucher_counts = df['VOUCHER NUMBER'].value_counts()\n",
    "department_counts = df['DEPARTMENT NAME'].value_counts()\n",
    "\n"
   ]
  },
  {
   "cell_type": "code",
   "execution_count": null,
   "id": "6f0cac1c-b382-46cd-9bc9-da8a82786d07",
   "metadata": {},
   "outputs": [],
   "source": []
  },
  {
   "cell_type": "code",
   "execution_count": 123,
   "id": "acc570e2-24c4-42fb-8ad3-865b005b4542",
   "metadata": {},
   "outputs": [
    {
     "ename": "KeyboardInterrupt",
     "evalue": "",
     "output_type": "error",
     "traceback": [
      "\u001b[1;31m---------------------------------------------------------------------------\u001b[0m",
      "\u001b[1;31mKeyboardInterrupt\u001b[0m                         Traceback (most recent call last)",
      "Cell \u001b[1;32mIn[123], line 8\u001b[0m\n\u001b[0;32m      6\u001b[0m plt\u001b[38;5;241m.\u001b[39mtitle(\u001b[38;5;124m'\u001b[39m\u001b[38;5;124mCount of Each Unique Value in VOUCHER NUMBER\u001b[39m\u001b[38;5;124m'\u001b[39m)\n\u001b[0;32m      7\u001b[0m plt\u001b[38;5;241m.\u001b[39mxticks(rotation\u001b[38;5;241m=\u001b[39m\u001b[38;5;241m90\u001b[39m)  \u001b[38;5;66;03m# Rotate x-axis labels for better readability\u001b[39;00m\n\u001b[1;32m----> 8\u001b[0m \u001b[43mplt\u001b[49m\u001b[38;5;241;43m.\u001b[39;49m\u001b[43mshow\u001b[49m\u001b[43m(\u001b[49m\u001b[43m)\u001b[49m\n",
      "File \u001b[1;32m~\\AppData\\Local\\Programs\\Python\\Python312\\Lib\\site-packages\\matplotlib\\pyplot.py:612\u001b[0m, in \u001b[0;36mshow\u001b[1;34m(*args, **kwargs)\u001b[0m\n\u001b[0;32m    568\u001b[0m \u001b[38;5;250m\u001b[39m\u001b[38;5;124;03m\"\"\"\u001b[39;00m\n\u001b[0;32m    569\u001b[0m \u001b[38;5;124;03mDisplay all open figures.\u001b[39;00m\n\u001b[0;32m    570\u001b[0m \n\u001b[1;32m   (...)\u001b[0m\n\u001b[0;32m    609\u001b[0m \u001b[38;5;124;03mexplicitly there.\u001b[39;00m\n\u001b[0;32m    610\u001b[0m \u001b[38;5;124;03m\"\"\"\u001b[39;00m\n\u001b[0;32m    611\u001b[0m _warn_if_gui_out_of_main_thread()\n\u001b[1;32m--> 612\u001b[0m \u001b[38;5;28;01mreturn\u001b[39;00m \u001b[43m_get_backend_mod\u001b[49m\u001b[43m(\u001b[49m\u001b[43m)\u001b[49m\u001b[38;5;241;43m.\u001b[39;49m\u001b[43mshow\u001b[49m\u001b[43m(\u001b[49m\u001b[38;5;241;43m*\u001b[39;49m\u001b[43margs\u001b[49m\u001b[43m,\u001b[49m\u001b[43m \u001b[49m\u001b[38;5;241;43m*\u001b[39;49m\u001b[38;5;241;43m*\u001b[39;49m\u001b[43mkwargs\u001b[49m\u001b[43m)\u001b[49m\n",
      "File \u001b[1;32m~\\AppData\\Local\\Programs\\Python\\Python312\\Lib\\site-packages\\matplotlib_inline\\backend_inline.py:90\u001b[0m, in \u001b[0;36mshow\u001b[1;34m(close, block)\u001b[0m\n\u001b[0;32m     88\u001b[0m \u001b[38;5;28;01mtry\u001b[39;00m:\n\u001b[0;32m     89\u001b[0m     \u001b[38;5;28;01mfor\u001b[39;00m figure_manager \u001b[38;5;129;01min\u001b[39;00m Gcf\u001b[38;5;241m.\u001b[39mget_all_fig_managers():\n\u001b[1;32m---> 90\u001b[0m         \u001b[43mdisplay\u001b[49m\u001b[43m(\u001b[49m\n\u001b[0;32m     91\u001b[0m \u001b[43m            \u001b[49m\u001b[43mfigure_manager\u001b[49m\u001b[38;5;241;43m.\u001b[39;49m\u001b[43mcanvas\u001b[49m\u001b[38;5;241;43m.\u001b[39;49m\u001b[43mfigure\u001b[49m\u001b[43m,\u001b[49m\n\u001b[0;32m     92\u001b[0m \u001b[43m            \u001b[49m\u001b[43mmetadata\u001b[49m\u001b[38;5;241;43m=\u001b[39;49m\u001b[43m_fetch_figure_metadata\u001b[49m\u001b[43m(\u001b[49m\u001b[43mfigure_manager\u001b[49m\u001b[38;5;241;43m.\u001b[39;49m\u001b[43mcanvas\u001b[49m\u001b[38;5;241;43m.\u001b[39;49m\u001b[43mfigure\u001b[49m\u001b[43m)\u001b[49m\n\u001b[0;32m     93\u001b[0m \u001b[43m        \u001b[49m\u001b[43m)\u001b[49m\n\u001b[0;32m     94\u001b[0m \u001b[38;5;28;01mfinally\u001b[39;00m:\n\u001b[0;32m     95\u001b[0m     show\u001b[38;5;241m.\u001b[39m_to_draw \u001b[38;5;241m=\u001b[39m []\n",
      "File \u001b[1;32m~\\AppData\\Local\\Programs\\Python\\Python312\\Lib\\site-packages\\IPython\\core\\display_functions.py:298\u001b[0m, in \u001b[0;36mdisplay\u001b[1;34m(include, exclude, metadata, transient, display_id, raw, clear, *objs, **kwargs)\u001b[0m\n\u001b[0;32m    296\u001b[0m     publish_display_data(data\u001b[38;5;241m=\u001b[39mobj, metadata\u001b[38;5;241m=\u001b[39mmetadata, \u001b[38;5;241m*\u001b[39m\u001b[38;5;241m*\u001b[39mkwargs)\n\u001b[0;32m    297\u001b[0m \u001b[38;5;28;01melse\u001b[39;00m:\n\u001b[1;32m--> 298\u001b[0m     format_dict, md_dict \u001b[38;5;241m=\u001b[39m \u001b[38;5;28;43mformat\u001b[39;49m\u001b[43m(\u001b[49m\u001b[43mobj\u001b[49m\u001b[43m,\u001b[49m\u001b[43m \u001b[49m\u001b[43minclude\u001b[49m\u001b[38;5;241;43m=\u001b[39;49m\u001b[43minclude\u001b[49m\u001b[43m,\u001b[49m\u001b[43m \u001b[49m\u001b[43mexclude\u001b[49m\u001b[38;5;241;43m=\u001b[39;49m\u001b[43mexclude\u001b[49m\u001b[43m)\u001b[49m\n\u001b[0;32m    299\u001b[0m     \u001b[38;5;28;01mif\u001b[39;00m \u001b[38;5;129;01mnot\u001b[39;00m format_dict:\n\u001b[0;32m    300\u001b[0m         \u001b[38;5;66;03m# nothing to display (e.g. _ipython_display_ took over)\u001b[39;00m\n\u001b[0;32m    301\u001b[0m         \u001b[38;5;28;01mcontinue\u001b[39;00m\n",
      "File \u001b[1;32m~\\AppData\\Local\\Programs\\Python\\Python312\\Lib\\site-packages\\IPython\\core\\formatters.py:182\u001b[0m, in \u001b[0;36mDisplayFormatter.format\u001b[1;34m(self, obj, include, exclude)\u001b[0m\n\u001b[0;32m    180\u001b[0m md \u001b[38;5;241m=\u001b[39m \u001b[38;5;28;01mNone\u001b[39;00m\n\u001b[0;32m    181\u001b[0m \u001b[38;5;28;01mtry\u001b[39;00m:\n\u001b[1;32m--> 182\u001b[0m     data \u001b[38;5;241m=\u001b[39m \u001b[43mformatter\u001b[49m\u001b[43m(\u001b[49m\u001b[43mobj\u001b[49m\u001b[43m)\u001b[49m\n\u001b[0;32m    183\u001b[0m \u001b[38;5;28;01mexcept\u001b[39;00m:\n\u001b[0;32m    184\u001b[0m     \u001b[38;5;66;03m# FIXME: log the exception\u001b[39;00m\n\u001b[0;32m    185\u001b[0m     \u001b[38;5;28;01mraise\u001b[39;00m\n",
      "File \u001b[1;32m~\\AppData\\Local\\Programs\\Python\\Python312\\Lib\\site-packages\\decorator.py:232\u001b[0m, in \u001b[0;36mdecorate.<locals>.fun\u001b[1;34m(*args, **kw)\u001b[0m\n\u001b[0;32m    230\u001b[0m \u001b[38;5;28;01mif\u001b[39;00m \u001b[38;5;129;01mnot\u001b[39;00m kwsyntax:\n\u001b[0;32m    231\u001b[0m     args, kw \u001b[38;5;241m=\u001b[39m fix(args, kw, sig)\n\u001b[1;32m--> 232\u001b[0m \u001b[38;5;28;01mreturn\u001b[39;00m \u001b[43mcaller\u001b[49m\u001b[43m(\u001b[49m\u001b[43mfunc\u001b[49m\u001b[43m,\u001b[49m\u001b[43m \u001b[49m\u001b[38;5;241;43m*\u001b[39;49m\u001b[43m(\u001b[49m\u001b[43mextras\u001b[49m\u001b[43m \u001b[49m\u001b[38;5;241;43m+\u001b[39;49m\u001b[43m \u001b[49m\u001b[43margs\u001b[49m\u001b[43m)\u001b[49m\u001b[43m,\u001b[49m\u001b[43m \u001b[49m\u001b[38;5;241;43m*\u001b[39;49m\u001b[38;5;241;43m*\u001b[39;49m\u001b[43mkw\u001b[49m\u001b[43m)\u001b[49m\n",
      "File \u001b[1;32m~\\AppData\\Local\\Programs\\Python\\Python312\\Lib\\site-packages\\IPython\\core\\formatters.py:226\u001b[0m, in \u001b[0;36mcatch_format_error\u001b[1;34m(method, self, *args, **kwargs)\u001b[0m\n\u001b[0;32m    224\u001b[0m \u001b[38;5;250m\u001b[39m\u001b[38;5;124;03m\"\"\"show traceback on failed format call\"\"\"\u001b[39;00m\n\u001b[0;32m    225\u001b[0m \u001b[38;5;28;01mtry\u001b[39;00m:\n\u001b[1;32m--> 226\u001b[0m     r \u001b[38;5;241m=\u001b[39m \u001b[43mmethod\u001b[49m\u001b[43m(\u001b[49m\u001b[38;5;28;43mself\u001b[39;49m\u001b[43m,\u001b[49m\u001b[43m \u001b[49m\u001b[38;5;241;43m*\u001b[39;49m\u001b[43margs\u001b[49m\u001b[43m,\u001b[49m\u001b[43m \u001b[49m\u001b[38;5;241;43m*\u001b[39;49m\u001b[38;5;241;43m*\u001b[39;49m\u001b[43mkwargs\u001b[49m\u001b[43m)\u001b[49m\n\u001b[0;32m    227\u001b[0m \u001b[38;5;28;01mexcept\u001b[39;00m \u001b[38;5;167;01mNotImplementedError\u001b[39;00m:\n\u001b[0;32m    228\u001b[0m     \u001b[38;5;66;03m# don't warn on NotImplementedErrors\u001b[39;00m\n\u001b[0;32m    229\u001b[0m     \u001b[38;5;28;01mreturn\u001b[39;00m \u001b[38;5;28mself\u001b[39m\u001b[38;5;241m.\u001b[39m_check_return(\u001b[38;5;28;01mNone\u001b[39;00m, args[\u001b[38;5;241m0\u001b[39m])\n",
      "File \u001b[1;32m~\\AppData\\Local\\Programs\\Python\\Python312\\Lib\\site-packages\\IPython\\core\\formatters.py:343\u001b[0m, in \u001b[0;36mBaseFormatter.__call__\u001b[1;34m(self, obj)\u001b[0m\n\u001b[0;32m    341\u001b[0m     \u001b[38;5;28;01mpass\u001b[39;00m\n\u001b[0;32m    342\u001b[0m \u001b[38;5;28;01melse\u001b[39;00m:\n\u001b[1;32m--> 343\u001b[0m     \u001b[38;5;28;01mreturn\u001b[39;00m \u001b[43mprinter\u001b[49m\u001b[43m(\u001b[49m\u001b[43mobj\u001b[49m\u001b[43m)\u001b[49m\n\u001b[0;32m    344\u001b[0m \u001b[38;5;66;03m# Finally look for special method names\u001b[39;00m\n\u001b[0;32m    345\u001b[0m method \u001b[38;5;241m=\u001b[39m get_real_method(obj, \u001b[38;5;28mself\u001b[39m\u001b[38;5;241m.\u001b[39mprint_method)\n",
      "File \u001b[1;32m~\\AppData\\Local\\Programs\\Python\\Python312\\Lib\\site-packages\\IPython\\core\\pylabtools.py:170\u001b[0m, in \u001b[0;36mprint_figure\u001b[1;34m(fig, fmt, bbox_inches, base64, **kwargs)\u001b[0m\n\u001b[0;32m    167\u001b[0m     \u001b[38;5;28;01mfrom\u001b[39;00m \u001b[38;5;21;01mmatplotlib\u001b[39;00m\u001b[38;5;21;01m.\u001b[39;00m\u001b[38;5;21;01mbackend_bases\u001b[39;00m \u001b[38;5;28;01mimport\u001b[39;00m FigureCanvasBase\n\u001b[0;32m    168\u001b[0m     FigureCanvasBase(fig)\n\u001b[1;32m--> 170\u001b[0m \u001b[43mfig\u001b[49m\u001b[38;5;241;43m.\u001b[39;49m\u001b[43mcanvas\u001b[49m\u001b[38;5;241;43m.\u001b[39;49m\u001b[43mprint_figure\u001b[49m\u001b[43m(\u001b[49m\u001b[43mbytes_io\u001b[49m\u001b[43m,\u001b[49m\u001b[43m \u001b[49m\u001b[38;5;241;43m*\u001b[39;49m\u001b[38;5;241;43m*\u001b[39;49m\u001b[43mkw\u001b[49m\u001b[43m)\u001b[49m\n\u001b[0;32m    171\u001b[0m data \u001b[38;5;241m=\u001b[39m bytes_io\u001b[38;5;241m.\u001b[39mgetvalue()\n\u001b[0;32m    172\u001b[0m \u001b[38;5;28;01mif\u001b[39;00m fmt \u001b[38;5;241m==\u001b[39m \u001b[38;5;124m'\u001b[39m\u001b[38;5;124msvg\u001b[39m\u001b[38;5;124m'\u001b[39m:\n",
      "File \u001b[1;32m~\\AppData\\Local\\Programs\\Python\\Python312\\Lib\\site-packages\\matplotlib\\backend_bases.py:2178\u001b[0m, in \u001b[0;36mFigureCanvasBase.print_figure\u001b[1;34m(self, filename, dpi, facecolor, edgecolor, orientation, format, bbox_inches, pad_inches, bbox_extra_artists, backend, **kwargs)\u001b[0m\n\u001b[0;32m   2176\u001b[0m \u001b[38;5;28;01mif\u001b[39;00m bbox_inches:\n\u001b[0;32m   2177\u001b[0m     \u001b[38;5;28;01mif\u001b[39;00m bbox_inches \u001b[38;5;241m==\u001b[39m \u001b[38;5;124m\"\u001b[39m\u001b[38;5;124mtight\u001b[39m\u001b[38;5;124m\"\u001b[39m:\n\u001b[1;32m-> 2178\u001b[0m         bbox_inches \u001b[38;5;241m=\u001b[39m \u001b[38;5;28;43mself\u001b[39;49m\u001b[38;5;241;43m.\u001b[39;49m\u001b[43mfigure\u001b[49m\u001b[38;5;241;43m.\u001b[39;49m\u001b[43mget_tightbbox\u001b[49m\u001b[43m(\u001b[49m\n\u001b[0;32m   2179\u001b[0m \u001b[43m            \u001b[49m\u001b[43mrenderer\u001b[49m\u001b[43m,\u001b[49m\u001b[43m \u001b[49m\u001b[43mbbox_extra_artists\u001b[49m\u001b[38;5;241;43m=\u001b[39;49m\u001b[43mbbox_extra_artists\u001b[49m\u001b[43m)\u001b[49m\n\u001b[0;32m   2180\u001b[0m         \u001b[38;5;28;01mif\u001b[39;00m (\u001b[38;5;28misinstance\u001b[39m(layout_engine, ConstrainedLayoutEngine) \u001b[38;5;129;01mand\u001b[39;00m\n\u001b[0;32m   2181\u001b[0m                 pad_inches \u001b[38;5;241m==\u001b[39m \u001b[38;5;124m\"\u001b[39m\u001b[38;5;124mlayout\u001b[39m\u001b[38;5;124m\"\u001b[39m):\n\u001b[0;32m   2182\u001b[0m             h_pad \u001b[38;5;241m=\u001b[39m layout_engine\u001b[38;5;241m.\u001b[39mget()[\u001b[38;5;124m\"\u001b[39m\u001b[38;5;124mh_pad\u001b[39m\u001b[38;5;124m\"\u001b[39m]\n",
      "File \u001b[1;32m~\\AppData\\Local\\Programs\\Python\\Python312\\Lib\\site-packages\\matplotlib\\_api\\deprecation.py:457\u001b[0m, in \u001b[0;36mmake_keyword_only.<locals>.wrapper\u001b[1;34m(*args, **kwargs)\u001b[0m\n\u001b[0;32m    451\u001b[0m \u001b[38;5;28;01mif\u001b[39;00m \u001b[38;5;28mlen\u001b[39m(args) \u001b[38;5;241m>\u001b[39m name_idx:\n\u001b[0;32m    452\u001b[0m     warn_deprecated(\n\u001b[0;32m    453\u001b[0m         since, message\u001b[38;5;241m=\u001b[39m\u001b[38;5;124m\"\u001b[39m\u001b[38;5;124mPassing the \u001b[39m\u001b[38;5;132;01m%(name)s\u001b[39;00m\u001b[38;5;124m \u001b[39m\u001b[38;5;132;01m%(obj_type)s\u001b[39;00m\u001b[38;5;124m \u001b[39m\u001b[38;5;124m\"\u001b[39m\n\u001b[0;32m    454\u001b[0m         \u001b[38;5;124m\"\u001b[39m\u001b[38;5;124mpositionally is deprecated since Matplotlib \u001b[39m\u001b[38;5;132;01m%(since)s\u001b[39;00m\u001b[38;5;124m; the \u001b[39m\u001b[38;5;124m\"\u001b[39m\n\u001b[0;32m    455\u001b[0m         \u001b[38;5;124m\"\u001b[39m\u001b[38;5;124mparameter will become keyword-only \u001b[39m\u001b[38;5;132;01m%(removal)s\u001b[39;00m\u001b[38;5;124m.\u001b[39m\u001b[38;5;124m\"\u001b[39m,\n\u001b[0;32m    456\u001b[0m         name\u001b[38;5;241m=\u001b[39mname, obj_type\u001b[38;5;241m=\u001b[39m\u001b[38;5;124mf\u001b[39m\u001b[38;5;124m\"\u001b[39m\u001b[38;5;124mparameter of \u001b[39m\u001b[38;5;132;01m{\u001b[39;00mfunc\u001b[38;5;241m.\u001b[39m\u001b[38;5;18m__name__\u001b[39m\u001b[38;5;132;01m}\u001b[39;00m\u001b[38;5;124m()\u001b[39m\u001b[38;5;124m\"\u001b[39m)\n\u001b[1;32m--> 457\u001b[0m \u001b[38;5;28;01mreturn\u001b[39;00m \u001b[43mfunc\u001b[49m\u001b[43m(\u001b[49m\u001b[38;5;241;43m*\u001b[39;49m\u001b[43margs\u001b[49m\u001b[43m,\u001b[49m\u001b[43m \u001b[49m\u001b[38;5;241;43m*\u001b[39;49m\u001b[38;5;241;43m*\u001b[39;49m\u001b[43mkwargs\u001b[49m\u001b[43m)\u001b[49m\n",
      "File \u001b[1;32m~\\AppData\\Local\\Programs\\Python\\Python312\\Lib\\site-packages\\matplotlib\\figure.py:1787\u001b[0m, in \u001b[0;36mFigureBase.get_tightbbox\u001b[1;34m(self, renderer, bbox_extra_artists)\u001b[0m\n\u001b[0;32m   1783\u001b[0m \u001b[38;5;28;01mif\u001b[39;00m ax\u001b[38;5;241m.\u001b[39mget_visible():\n\u001b[0;32m   1784\u001b[0m     \u001b[38;5;66;03m# some Axes don't take the bbox_extra_artists kwarg so we\u001b[39;00m\n\u001b[0;32m   1785\u001b[0m     \u001b[38;5;66;03m# need this conditional....\u001b[39;00m\n\u001b[0;32m   1786\u001b[0m     \u001b[38;5;28;01mtry\u001b[39;00m:\n\u001b[1;32m-> 1787\u001b[0m         bbox \u001b[38;5;241m=\u001b[39m \u001b[43max\u001b[49m\u001b[38;5;241;43m.\u001b[39;49m\u001b[43mget_tightbbox\u001b[49m\u001b[43m(\u001b[49m\n\u001b[0;32m   1788\u001b[0m \u001b[43m            \u001b[49m\u001b[43mrenderer\u001b[49m\u001b[43m,\u001b[49m\u001b[43m \u001b[49m\u001b[43mbbox_extra_artists\u001b[49m\u001b[38;5;241;43m=\u001b[39;49m\u001b[43mbbox_extra_artists\u001b[49m\u001b[43m)\u001b[49m\n\u001b[0;32m   1789\u001b[0m     \u001b[38;5;28;01mexcept\u001b[39;00m \u001b[38;5;167;01mTypeError\u001b[39;00m:\n\u001b[0;32m   1790\u001b[0m         bbox \u001b[38;5;241m=\u001b[39m ax\u001b[38;5;241m.\u001b[39mget_tightbbox(renderer)\n",
      "File \u001b[1;32m~\\AppData\\Local\\Programs\\Python\\Python312\\Lib\\site-packages\\matplotlib\\_api\\deprecation.py:457\u001b[0m, in \u001b[0;36mmake_keyword_only.<locals>.wrapper\u001b[1;34m(*args, **kwargs)\u001b[0m\n\u001b[0;32m    451\u001b[0m \u001b[38;5;28;01mif\u001b[39;00m \u001b[38;5;28mlen\u001b[39m(args) \u001b[38;5;241m>\u001b[39m name_idx:\n\u001b[0;32m    452\u001b[0m     warn_deprecated(\n\u001b[0;32m    453\u001b[0m         since, message\u001b[38;5;241m=\u001b[39m\u001b[38;5;124m\"\u001b[39m\u001b[38;5;124mPassing the \u001b[39m\u001b[38;5;132;01m%(name)s\u001b[39;00m\u001b[38;5;124m \u001b[39m\u001b[38;5;132;01m%(obj_type)s\u001b[39;00m\u001b[38;5;124m \u001b[39m\u001b[38;5;124m\"\u001b[39m\n\u001b[0;32m    454\u001b[0m         \u001b[38;5;124m\"\u001b[39m\u001b[38;5;124mpositionally is deprecated since Matplotlib \u001b[39m\u001b[38;5;132;01m%(since)s\u001b[39;00m\u001b[38;5;124m; the \u001b[39m\u001b[38;5;124m\"\u001b[39m\n\u001b[0;32m    455\u001b[0m         \u001b[38;5;124m\"\u001b[39m\u001b[38;5;124mparameter will become keyword-only \u001b[39m\u001b[38;5;132;01m%(removal)s\u001b[39;00m\u001b[38;5;124m.\u001b[39m\u001b[38;5;124m\"\u001b[39m,\n\u001b[0;32m    456\u001b[0m         name\u001b[38;5;241m=\u001b[39mname, obj_type\u001b[38;5;241m=\u001b[39m\u001b[38;5;124mf\u001b[39m\u001b[38;5;124m\"\u001b[39m\u001b[38;5;124mparameter of \u001b[39m\u001b[38;5;132;01m{\u001b[39;00mfunc\u001b[38;5;241m.\u001b[39m\u001b[38;5;18m__name__\u001b[39m\u001b[38;5;132;01m}\u001b[39;00m\u001b[38;5;124m()\u001b[39m\u001b[38;5;124m\"\u001b[39m)\n\u001b[1;32m--> 457\u001b[0m \u001b[38;5;28;01mreturn\u001b[39;00m \u001b[43mfunc\u001b[49m\u001b[43m(\u001b[49m\u001b[38;5;241;43m*\u001b[39;49m\u001b[43margs\u001b[49m\u001b[43m,\u001b[49m\u001b[43m \u001b[49m\u001b[38;5;241;43m*\u001b[39;49m\u001b[38;5;241;43m*\u001b[39;49m\u001b[43mkwargs\u001b[49m\u001b[43m)\u001b[49m\n",
      "File \u001b[1;32m~\\AppData\\Local\\Programs\\Python\\Python312\\Lib\\site-packages\\matplotlib\\axes\\_base.py:4482\u001b[0m, in \u001b[0;36m_AxesBase.get_tightbbox\u001b[1;34m(self, renderer, call_axes_locator, bbox_extra_artists, for_layout_only)\u001b[0m\n\u001b[0;32m   4480\u001b[0m \u001b[38;5;28;01mfor\u001b[39;00m axis \u001b[38;5;129;01min\u001b[39;00m \u001b[38;5;28mself\u001b[39m\u001b[38;5;241m.\u001b[39m_axis_map\u001b[38;5;241m.\u001b[39mvalues():\n\u001b[0;32m   4481\u001b[0m     \u001b[38;5;28;01mif\u001b[39;00m \u001b[38;5;28mself\u001b[39m\u001b[38;5;241m.\u001b[39maxison \u001b[38;5;129;01mand\u001b[39;00m axis\u001b[38;5;241m.\u001b[39mget_visible():\n\u001b[1;32m-> 4482\u001b[0m         ba \u001b[38;5;241m=\u001b[39m \u001b[43mmartist\u001b[49m\u001b[38;5;241;43m.\u001b[39;49m\u001b[43m_get_tightbbox_for_layout_only\u001b[49m\u001b[43m(\u001b[49m\u001b[43maxis\u001b[49m\u001b[43m,\u001b[49m\u001b[43m \u001b[49m\u001b[43mrenderer\u001b[49m\u001b[43m)\u001b[49m\n\u001b[0;32m   4483\u001b[0m         \u001b[38;5;28;01mif\u001b[39;00m ba:\n\u001b[0;32m   4484\u001b[0m             bb\u001b[38;5;241m.\u001b[39mappend(ba)\n",
      "File \u001b[1;32m~\\AppData\\Local\\Programs\\Python\\Python312\\Lib\\site-packages\\matplotlib\\artist.py:1408\u001b[0m, in \u001b[0;36m_get_tightbbox_for_layout_only\u001b[1;34m(obj, *args, **kwargs)\u001b[0m\n\u001b[0;32m   1402\u001b[0m \u001b[38;5;250m\u001b[39m\u001b[38;5;124;03m\"\"\"\u001b[39;00m\n\u001b[0;32m   1403\u001b[0m \u001b[38;5;124;03mMatplotlib's `.Axes.get_tightbbox` and `.Axis.get_tightbbox` support a\u001b[39;00m\n\u001b[0;32m   1404\u001b[0m \u001b[38;5;124;03m*for_layout_only* kwarg; this helper tries to use the kwarg but skips it\u001b[39;00m\n\u001b[0;32m   1405\u001b[0m \u001b[38;5;124;03mwhen encountering third-party subclasses that do not support it.\u001b[39;00m\n\u001b[0;32m   1406\u001b[0m \u001b[38;5;124;03m\"\"\"\u001b[39;00m\n\u001b[0;32m   1407\u001b[0m \u001b[38;5;28;01mtry\u001b[39;00m:\n\u001b[1;32m-> 1408\u001b[0m     \u001b[38;5;28;01mreturn\u001b[39;00m \u001b[43mobj\u001b[49m\u001b[38;5;241;43m.\u001b[39;49m\u001b[43mget_tightbbox\u001b[49m\u001b[43m(\u001b[49m\u001b[38;5;241;43m*\u001b[39;49m\u001b[43margs\u001b[49m\u001b[43m,\u001b[49m\u001b[43m \u001b[49m\u001b[38;5;241;43m*\u001b[39;49m\u001b[38;5;241;43m*\u001b[39;49m\u001b[43m{\u001b[49m\u001b[38;5;241;43m*\u001b[39;49m\u001b[38;5;241;43m*\u001b[39;49m\u001b[43mkwargs\u001b[49m\u001b[43m,\u001b[49m\u001b[43m \u001b[49m\u001b[38;5;124;43m\"\u001b[39;49m\u001b[38;5;124;43mfor_layout_only\u001b[39;49m\u001b[38;5;124;43m\"\u001b[39;49m\u001b[43m:\u001b[49m\u001b[43m \u001b[49m\u001b[38;5;28;43;01mTrue\u001b[39;49;00m\u001b[43m}\u001b[49m\u001b[43m)\u001b[49m\n\u001b[0;32m   1409\u001b[0m \u001b[38;5;28;01mexcept\u001b[39;00m \u001b[38;5;167;01mTypeError\u001b[39;00m:\n\u001b[0;32m   1410\u001b[0m     \u001b[38;5;28;01mreturn\u001b[39;00m obj\u001b[38;5;241m.\u001b[39mget_tightbbox(\u001b[38;5;241m*\u001b[39margs, \u001b[38;5;241m*\u001b[39m\u001b[38;5;241m*\u001b[39mkwargs)\n",
      "File \u001b[1;32m~\\AppData\\Local\\Programs\\Python\\Python312\\Lib\\site-packages\\matplotlib\\axis.py:1374\u001b[0m, in \u001b[0;36mAxis.get_tightbbox\u001b[1;34m(self, renderer, for_layout_only)\u001b[0m\n\u001b[0;32m   1371\u001b[0m \u001b[38;5;28mself\u001b[39m\u001b[38;5;241m.\u001b[39m_update_label_position(renderer)\n\u001b[0;32m   1373\u001b[0m \u001b[38;5;66;03m# go back to just this axis's tick labels\u001b[39;00m\n\u001b[1;32m-> 1374\u001b[0m tlb1, tlb2 \u001b[38;5;241m=\u001b[39m \u001b[38;5;28;43mself\u001b[39;49m\u001b[38;5;241;43m.\u001b[39;49m\u001b[43m_get_ticklabel_bboxes\u001b[49m\u001b[43m(\u001b[49m\u001b[43mticks_to_draw\u001b[49m\u001b[43m,\u001b[49m\u001b[43m \u001b[49m\u001b[43mrenderer\u001b[49m\u001b[43m)\u001b[49m\n\u001b[0;32m   1376\u001b[0m \u001b[38;5;28mself\u001b[39m\u001b[38;5;241m.\u001b[39m_update_offset_text_position(tlb1, tlb2)\n\u001b[0;32m   1377\u001b[0m \u001b[38;5;28mself\u001b[39m\u001b[38;5;241m.\u001b[39moffsetText\u001b[38;5;241m.\u001b[39mset_text(\u001b[38;5;28mself\u001b[39m\u001b[38;5;241m.\u001b[39mmajor\u001b[38;5;241m.\u001b[39mformatter\u001b[38;5;241m.\u001b[39mget_offset())\n",
      "File \u001b[1;32m~\\AppData\\Local\\Programs\\Python\\Python312\\Lib\\site-packages\\matplotlib\\axis.py:1350\u001b[0m, in \u001b[0;36mAxis._get_ticklabel_bboxes\u001b[1;34m(self, ticks, renderer)\u001b[0m\n\u001b[0;32m   1348\u001b[0m \u001b[38;5;28;01mif\u001b[39;00m renderer \u001b[38;5;129;01mis\u001b[39;00m \u001b[38;5;28;01mNone\u001b[39;00m:\n\u001b[0;32m   1349\u001b[0m     renderer \u001b[38;5;241m=\u001b[39m \u001b[38;5;28mself\u001b[39m\u001b[38;5;241m.\u001b[39mfigure\u001b[38;5;241m.\u001b[39m_get_renderer()\n\u001b[1;32m-> 1350\u001b[0m \u001b[38;5;28;01mreturn\u001b[39;00m ([\u001b[43mtick\u001b[49m\u001b[38;5;241;43m.\u001b[39;49m\u001b[43mlabel1\u001b[49m\u001b[38;5;241;43m.\u001b[39;49m\u001b[43mget_window_extent\u001b[49m\u001b[43m(\u001b[49m\u001b[43mrenderer\u001b[49m\u001b[43m)\u001b[49m\n\u001b[0;32m   1351\u001b[0m          \u001b[38;5;28;01mfor\u001b[39;00m tick \u001b[38;5;129;01min\u001b[39;00m ticks \u001b[38;5;28;01mif\u001b[39;00m tick\u001b[38;5;241m.\u001b[39mlabel1\u001b[38;5;241m.\u001b[39mget_visible()],\n\u001b[0;32m   1352\u001b[0m         [tick\u001b[38;5;241m.\u001b[39mlabel2\u001b[38;5;241m.\u001b[39mget_window_extent(renderer)\n\u001b[0;32m   1353\u001b[0m          \u001b[38;5;28;01mfor\u001b[39;00m tick \u001b[38;5;129;01min\u001b[39;00m ticks \u001b[38;5;28;01mif\u001b[39;00m tick\u001b[38;5;241m.\u001b[39mlabel2\u001b[38;5;241m.\u001b[39mget_visible()])\n",
      "File \u001b[1;32m~\\AppData\\Local\\Programs\\Python\\Python312\\Lib\\site-packages\\matplotlib\\text.py:959\u001b[0m, in \u001b[0;36mText.get_window_extent\u001b[1;34m(self, renderer, dpi)\u001b[0m\n\u001b[0;32m    954\u001b[0m     \u001b[38;5;28;01mraise\u001b[39;00m \u001b[38;5;167;01mRuntimeError\u001b[39;00m(\n\u001b[0;32m    955\u001b[0m         \u001b[38;5;124m\"\u001b[39m\u001b[38;5;124mCannot get window extent of text w/o renderer. You likely \u001b[39m\u001b[38;5;124m\"\u001b[39m\n\u001b[0;32m    956\u001b[0m         \u001b[38;5;124m\"\u001b[39m\u001b[38;5;124mwant to call \u001b[39m\u001b[38;5;124m'\u001b[39m\u001b[38;5;124mfigure.draw_without_rendering()\u001b[39m\u001b[38;5;124m'\u001b[39m\u001b[38;5;124m first.\u001b[39m\u001b[38;5;124m\"\u001b[39m)\n\u001b[0;32m    958\u001b[0m \u001b[38;5;28;01mwith\u001b[39;00m cbook\u001b[38;5;241m.\u001b[39m_setattr_cm(\u001b[38;5;28mself\u001b[39m\u001b[38;5;241m.\u001b[39mfigure, dpi\u001b[38;5;241m=\u001b[39mdpi):\n\u001b[1;32m--> 959\u001b[0m     bbox, info, descent \u001b[38;5;241m=\u001b[39m \u001b[38;5;28;43mself\u001b[39;49m\u001b[38;5;241;43m.\u001b[39;49m\u001b[43m_get_layout\u001b[49m\u001b[43m(\u001b[49m\u001b[38;5;28;43mself\u001b[39;49m\u001b[38;5;241;43m.\u001b[39;49m\u001b[43m_renderer\u001b[49m\u001b[43m)\u001b[49m\n\u001b[0;32m    960\u001b[0m     x, y \u001b[38;5;241m=\u001b[39m \u001b[38;5;28mself\u001b[39m\u001b[38;5;241m.\u001b[39mget_unitless_position()\n\u001b[0;32m    961\u001b[0m     x, y \u001b[38;5;241m=\u001b[39m \u001b[38;5;28mself\u001b[39m\u001b[38;5;241m.\u001b[39mget_transform()\u001b[38;5;241m.\u001b[39mtransform((x, y))\n",
      "File \u001b[1;32m~\\AppData\\Local\\Programs\\Python\\Python312\\Lib\\site-packages\\matplotlib\\text.py:381\u001b[0m, in \u001b[0;36mText._get_layout\u001b[1;34m(self, renderer)\u001b[0m\n\u001b[0;32m    379\u001b[0m clean_line, ismath \u001b[38;5;241m=\u001b[39m \u001b[38;5;28mself\u001b[39m\u001b[38;5;241m.\u001b[39m_preprocess_math(line)\n\u001b[0;32m    380\u001b[0m \u001b[38;5;28;01mif\u001b[39;00m clean_line:\n\u001b[1;32m--> 381\u001b[0m     w, h, d \u001b[38;5;241m=\u001b[39m \u001b[43m_get_text_metrics_with_cache\u001b[49m\u001b[43m(\u001b[49m\n\u001b[0;32m    382\u001b[0m \u001b[43m        \u001b[49m\u001b[43mrenderer\u001b[49m\u001b[43m,\u001b[49m\u001b[43m \u001b[49m\u001b[43mclean_line\u001b[49m\u001b[43m,\u001b[49m\u001b[43m \u001b[49m\u001b[38;5;28;43mself\u001b[39;49m\u001b[38;5;241;43m.\u001b[39;49m\u001b[43m_fontproperties\u001b[49m\u001b[43m,\u001b[49m\n\u001b[0;32m    383\u001b[0m \u001b[43m        \u001b[49m\u001b[43mismath\u001b[49m\u001b[38;5;241;43m=\u001b[39;49m\u001b[43mismath\u001b[49m\u001b[43m,\u001b[49m\u001b[43m \u001b[49m\u001b[43mdpi\u001b[49m\u001b[38;5;241;43m=\u001b[39;49m\u001b[38;5;28;43mself\u001b[39;49m\u001b[38;5;241;43m.\u001b[39;49m\u001b[43mfigure\u001b[49m\u001b[38;5;241;43m.\u001b[39;49m\u001b[43mdpi\u001b[49m\u001b[43m)\u001b[49m\n\u001b[0;32m    384\u001b[0m \u001b[38;5;28;01melse\u001b[39;00m:\n\u001b[0;32m    385\u001b[0m     w \u001b[38;5;241m=\u001b[39m h \u001b[38;5;241m=\u001b[39m d \u001b[38;5;241m=\u001b[39m \u001b[38;5;241m0\u001b[39m\n",
      "File \u001b[1;32m~\\AppData\\Local\\Programs\\Python\\Python312\\Lib\\site-packages\\matplotlib\\text.py:69\u001b[0m, in \u001b[0;36m_get_text_metrics_with_cache\u001b[1;34m(renderer, text, fontprop, ismath, dpi)\u001b[0m\n\u001b[0;32m     66\u001b[0m \u001b[38;5;250m\u001b[39m\u001b[38;5;124;03m\"\"\"Call ``renderer.get_text_width_height_descent``, caching the results.\"\"\"\u001b[39;00m\n\u001b[0;32m     67\u001b[0m \u001b[38;5;66;03m# Cached based on a copy of fontprop so that later in-place mutations of\u001b[39;00m\n\u001b[0;32m     68\u001b[0m \u001b[38;5;66;03m# the passed-in argument do not mess up the cache.\u001b[39;00m\n\u001b[1;32m---> 69\u001b[0m \u001b[38;5;28;01mreturn\u001b[39;00m \u001b[43m_get_text_metrics_with_cache_impl\u001b[49m\u001b[43m(\u001b[49m\n\u001b[0;32m     70\u001b[0m \u001b[43m    \u001b[49m\u001b[43mweakref\u001b[49m\u001b[38;5;241;43m.\u001b[39;49m\u001b[43mref\u001b[49m\u001b[43m(\u001b[49m\u001b[43mrenderer\u001b[49m\u001b[43m)\u001b[49m\u001b[43m,\u001b[49m\u001b[43m \u001b[49m\u001b[43mtext\u001b[49m\u001b[43m,\u001b[49m\u001b[43m \u001b[49m\u001b[43mfontprop\u001b[49m\u001b[38;5;241;43m.\u001b[39;49m\u001b[43mcopy\u001b[49m\u001b[43m(\u001b[49m\u001b[43m)\u001b[49m\u001b[43m,\u001b[49m\u001b[43m \u001b[49m\u001b[43mismath\u001b[49m\u001b[43m,\u001b[49m\u001b[43m \u001b[49m\u001b[43mdpi\u001b[49m\u001b[43m)\u001b[49m\n",
      "File \u001b[1;32m~\\AppData\\Local\\Programs\\Python\\Python312\\Lib\\site-packages\\matplotlib\\text.py:77\u001b[0m, in \u001b[0;36m_get_text_metrics_with_cache_impl\u001b[1;34m(renderer_ref, text, fontprop, ismath, dpi)\u001b[0m\n\u001b[0;32m     73\u001b[0m \u001b[38;5;129m@functools\u001b[39m\u001b[38;5;241m.\u001b[39mlru_cache(\u001b[38;5;241m4096\u001b[39m)\n\u001b[0;32m     74\u001b[0m \u001b[38;5;28;01mdef\u001b[39;00m \u001b[38;5;21m_get_text_metrics_with_cache_impl\u001b[39m(\n\u001b[0;32m     75\u001b[0m         renderer_ref, text, fontprop, ismath, dpi):\n\u001b[0;32m     76\u001b[0m     \u001b[38;5;66;03m# dpi is unused, but participates in cache invalidation (via the renderer).\u001b[39;00m\n\u001b[1;32m---> 77\u001b[0m     \u001b[38;5;28;01mreturn\u001b[39;00m \u001b[43mrenderer_ref\u001b[49m\u001b[43m(\u001b[49m\u001b[43m)\u001b[49m\u001b[38;5;241;43m.\u001b[39;49m\u001b[43mget_text_width_height_descent\u001b[49m\u001b[43m(\u001b[49m\u001b[43mtext\u001b[49m\u001b[43m,\u001b[49m\u001b[43m \u001b[49m\u001b[43mfontprop\u001b[49m\u001b[43m,\u001b[49m\u001b[43m \u001b[49m\u001b[43mismath\u001b[49m\u001b[43m)\u001b[49m\n",
      "File \u001b[1;32m~\\AppData\\Local\\Programs\\Python\\Python312\\Lib\\site-packages\\matplotlib\\backends\\backend_agg.py:220\u001b[0m, in \u001b[0;36mRendererAgg.get_text_width_height_descent\u001b[1;34m(self, s, prop, ismath)\u001b[0m\n\u001b[0;32m    217\u001b[0m     \u001b[38;5;28;01mreturn\u001b[39;00m width, height, descent\n\u001b[0;32m    219\u001b[0m font \u001b[38;5;241m=\u001b[39m \u001b[38;5;28mself\u001b[39m\u001b[38;5;241m.\u001b[39m_prepare_font(prop)\n\u001b[1;32m--> 220\u001b[0m \u001b[43mfont\u001b[49m\u001b[38;5;241;43m.\u001b[39;49m\u001b[43mset_text\u001b[49m\u001b[43m(\u001b[49m\u001b[43ms\u001b[49m\u001b[43m,\u001b[49m\u001b[43m \u001b[49m\u001b[38;5;241;43m0.0\u001b[39;49m\u001b[43m,\u001b[49m\u001b[43m \u001b[49m\u001b[43mflags\u001b[49m\u001b[38;5;241;43m=\u001b[39;49m\u001b[43mget_hinting_flag\u001b[49m\u001b[43m(\u001b[49m\u001b[43m)\u001b[49m\u001b[43m)\u001b[49m\n\u001b[0;32m    221\u001b[0m w, h \u001b[38;5;241m=\u001b[39m font\u001b[38;5;241m.\u001b[39mget_width_height()  \u001b[38;5;66;03m# width and height of unrotated string\u001b[39;00m\n\u001b[0;32m    222\u001b[0m d \u001b[38;5;241m=\u001b[39m font\u001b[38;5;241m.\u001b[39mget_descent()\n",
      "\u001b[1;31mKeyboardInterrupt\u001b[0m: "
     ]
    }
   ],
   "source": [
    "# Plot the counts for 'VOUCHER NUMBER'\n",
    "plt.figure(figsize=(10, 6))\n",
    "voucher_counts.plot(kind='bar')\n",
    "plt.xlabel('Voucher Number')\n",
    "plt.ylabel('Count')\n",
    "plt.title('Count of Each Unique Value in VOUCHER NUMBER')\n",
    "plt.xticks(rotation=90)  # Rotate x-axis labels for better readability\n",
    "plt.show()\n",
    "\n"
   ]
  },
  {
   "cell_type": "code",
   "execution_count": null,
   "id": "f7c2d980-8f15-4158-bfec-bcae40f9221a",
   "metadata": {},
   "outputs": [],
   "source": []
  },
  {
   "cell_type": "code",
   "execution_count": null,
   "id": "5bf472c1-18b6-4556-a7db-cb3011fbbe4c",
   "metadata": {},
   "outputs": [],
   "source": [
    "# Plot the counts for 'DEPARTMENT NAME'\n",
    "plt.figure(figsize=(10, 6))\n",
    "department_counts.plot(kind='bar')\n",
    "plt.xlabel('Department Name')\n",
    "plt.ylabel('Count')\n",
    "plt.title('Count of Each Unique Value in DEPARTMENT NAME')\n",
    "plt.xticks(rotation=90)  # Rotate x-axis labels for better readability\n",
    "plt.show()\n"
   ]
  },
  {
   "cell_type": "code",
   "execution_count": null,
   "id": "c9017bee-be8e-45f9-b49d-bfac3bc16722",
   "metadata": {},
   "outputs": [],
   "source": []
  },
  {
   "cell_type": "code",
   "execution_count": 109,
   "id": "3f4d4ece-0f61-486f-ac17-1326fd7b7919",
   "metadata": {},
   "outputs": [
    {
     "name": "stdout",
     "output_type": "stream",
     "text": [
      "Number of missing values in 'DEPARTMENT NAME' after filling: 0\n",
      "Number of missing values in 'VOUCHER NUMBER' after filling: 0\n"
     ]
    }
   ],
   "source": [
    "import numpy as np\n",
    "import pandas as pd\n",
    "\n",
    "# Sample DataFrame with missing values\n",
    "data = {\n",
    "    'DEPARTMENT NAME': [np.nan, 'DEPT OF FAMILY AND SUPPORT SERVICES', np.nan, 'DEPT OF AVIATION', np.nan],\n",
    "    'VOUCHER NUMBER': [np.nan, 'PVCI23CI705361', np.nan, 'PVCI23CI705785', np.nan]\n",
    "}\n",
    "df = pd.DataFrame(data)\n",
    "\n",
    "# Define possible fill values for both columns\n",
    "department_fill_values = ['DEPT OF FAMILY AND SUPPORT SERVICES', 'DEPARTMENT OF HEALTH', 'DEPT OF GENERAL SERVICES', 'DEPT OF AVIATION', 'CHICAGO DEPARTMENT OF TRANSPORTATION']\n",
    "voucher_fill_values = ['Multiple', 'PVCI23CI705361', 'PVCI23CI705785', 'PVCI22CI010880', 'PVCI23CI705786']\n",
    "\n",
    "# Function to randomly select a fill value\n",
    "def random_fill(fill_values):\n",
    "    return np.random.choice(fill_values)\n",
    "\n",
    "# Apply random fill to missing values in 'DEPARTMENT NAME'\n",
    "df['DEPARTMENT NAME'] = df['DEPARTMENT NAME'].apply(lambda x: random_fill(department_fill_values) if pd.isnull(x) else x)\n",
    "\n",
    "# Apply random fill to missing values in 'VOUCHER NUMBER'\n",
    "df['VOUCHER NUMBER'] = df['VOUCHER NUMBER'].apply(lambda x: random_fill(voucher_fill_values) if pd.isnull(x) else x)\n",
    "\n",
    "# Verify if there are any missing values left\n",
    "missing_count_department = df['DEPARTMENT NAME'].isnull().sum()\n",
    "missing_count_voucher = df['VOUCHER NUMBER'].isnull().sum()\n",
    "\n",
    "print(f\"Number of missing values in 'DEPARTMENT NAME' after filling: {missing_count_department}\")\n",
    "print(f\"Number of missing values in 'VOUCHER NUMBER' after filling: {missing_count_voucher}\")\n"
   ]
  },
  {
   "cell_type": "code",
   "execution_count": null,
   "id": "856fcda6-8cb7-49d1-890f-d914bd2c26fa",
   "metadata": {},
   "outputs": [],
   "source": []
  },
  {
   "cell_type": "code",
   "execution_count": 112,
   "id": "96af8c01-3cc9-4378-ad19-5b66c1a863d7",
   "metadata": {},
   "outputs": [
    {
     "name": "stdout",
     "output_type": "stream",
     "text": [
      "Number of missing values in 'DEPARTMENT NAME' after filling: 0\n",
      "Number of missing values in 'VOUCHER NUMBER' after filling: 0\n",
      "\n",
      "Complete Dataset:\n",
      "                        DEPARTMENT NAME  VOUCHER NUMBER\n",
      "0              DEPT OF GENERAL SERVICES  PVCI23CI705361\n",
      "1   DEPT OF FAMILY AND SUPPORT SERVICES  PVCI23CI705361\n",
      "2  CHICAGO DEPARTMENT OF TRANSPORTATION  PVCI23CI705361\n",
      "3                      DEPT OF AVIATION  PVCI23CI705785\n",
      "4                  DEPARTMENT OF HEALTH  PVCI23CI705786\n"
     ]
    }
   ],
   "source": [
    "import numpy as np\n",
    "import pandas as pd\n",
    "\n",
    "# Sample DataFrame with missing values\n",
    "data = {\n",
    "    'DEPARTMENT NAME': [np.nan, 'DEPT OF FAMILY AND SUPPORT SERVICES', np.nan, 'DEPT OF AVIATION', np.nan],\n",
    "    'VOUCHER NUMBER': [np.nan, 'PVCI23CI705361', np.nan, 'PVCI23CI705785', np.nan]\n",
    "}\n",
    "df = pd.DataFrame(data)\n",
    "\n",
    "# Define possible fill values for both columns\n",
    "department_fill_values = ['DEPT OF FAMILY AND SUPPORT SERVICES', 'DEPARTMENT OF HEALTH', 'DEPT OF GENERAL SERVICES', 'DEPT OF AVIATION', 'CHICAGO DEPARTMENT OF TRANSPORTATION']\n",
    "voucher_fill_values = ['Multiple', 'PVCI23CI705361', 'PVCI23CI705785', 'PVCI22CI010880', 'PVCI23CI705786']\n",
    "\n",
    "# Function to randomly select a fill value\n",
    "def random_fill(fill_values):\n",
    "    return np.random.choice(fill_values)\n",
    "\n",
    "# Apply random fill to missing values in 'DEPARTMENT NAME'\n",
    "df['DEPARTMENT NAME'] = df['DEPARTMENT NAME'].apply(lambda x: random_fill(department_fill_values) if pd.isnull(x) else x)\n",
    "\n",
    "# Apply random fill to missing values in 'VOUCHER NUMBER'\n",
    "df['VOUCHER NUMBER'] = df['VOUCHER NUMBER'].apply(lambda x: random_fill(voucher_fill_values) if pd.isnull(x) else x)\n",
    "\n",
    "# Verify if there are any missing values left\n",
    "missing_count_department = df['DEPARTMENT NAME'].isnull().sum()\n",
    "missing_count_voucher = df['VOUCHER NUMBER'].isnull().sum()\n",
    "\n",
    "print(f\"Number of missing values in 'DEPARTMENT NAME' after filling: {missing_count_department}\")\n",
    "print(f\"Number of missing values in 'VOUCHER NUMBER' after filling: {missing_count_voucher}\")\n",
    "\n",
    "# Print the complete dataset\n",
    "print(\"\\nComplete Dataset:\")\n",
    "print(df)\n"
   ]
  },
  {
   "cell_type": "code",
   "execution_count": null,
   "id": "7cb523f8-0ed6-4175-baeb-7aaf7740125d",
   "metadata": {},
   "outputs": [],
   "source": []
  },
  {
   "cell_type": "code",
   "execution_count": null,
   "id": "7eb63154-2a43-4ede-96a1-0fba227ac220",
   "metadata": {},
   "outputs": [],
   "source": []
  },
  {
   "cell_type": "code",
   "execution_count": 110,
   "id": "4540d926-82db-4307-94d4-61930762cb3b",
   "metadata": {},
   "outputs": [
    {
     "data": {
      "text/html": [
       "<div>\n",
       "<style scoped>\n",
       "    .dataframe tbody tr th:only-of-type {\n",
       "        vertical-align: middle;\n",
       "    }\n",
       "\n",
       "    .dataframe tbody tr th {\n",
       "        vertical-align: top;\n",
       "    }\n",
       "\n",
       "    .dataframe thead th {\n",
       "        text-align: right;\n",
       "    }\n",
       "</style>\n",
       "<table border=\"1\" class=\"dataframe\">\n",
       "  <thead>\n",
       "    <tr style=\"text-align: right;\">\n",
       "      <th></th>\n",
       "      <th>DEPARTMENT NAME</th>\n",
       "      <th>VOUCHER NUMBER</th>\n",
       "    </tr>\n",
       "  </thead>\n",
       "  <tbody>\n",
       "    <tr>\n",
       "      <th>0</th>\n",
       "      <td>DEPT OF AVIATION</td>\n",
       "      <td>Multiple</td>\n",
       "    </tr>\n",
       "    <tr>\n",
       "      <th>1</th>\n",
       "      <td>DEPT OF FAMILY AND SUPPORT SERVICES</td>\n",
       "      <td>PVCI23CI705361</td>\n",
       "    </tr>\n",
       "    <tr>\n",
       "      <th>2</th>\n",
       "      <td>DEPT OF AVIATION</td>\n",
       "      <td>PVCI23CI705361</td>\n",
       "    </tr>\n",
       "    <tr>\n",
       "      <th>3</th>\n",
       "      <td>DEPT OF AVIATION</td>\n",
       "      <td>PVCI23CI705785</td>\n",
       "    </tr>\n",
       "    <tr>\n",
       "      <th>4</th>\n",
       "      <td>DEPT OF GENERAL SERVICES</td>\n",
       "      <td>Multiple</td>\n",
       "    </tr>\n",
       "  </tbody>\n",
       "</table>\n",
       "</div>"
      ],
      "text/plain": [
       "                       DEPARTMENT NAME  VOUCHER NUMBER\n",
       "0                     DEPT OF AVIATION        Multiple\n",
       "1  DEPT OF FAMILY AND SUPPORT SERVICES  PVCI23CI705361\n",
       "2                     DEPT OF AVIATION  PVCI23CI705361\n",
       "3                     DEPT OF AVIATION  PVCI23CI705785\n",
       "4             DEPT OF GENERAL SERVICES        Multiple"
      ]
     },
     "execution_count": 110,
     "metadata": {},
     "output_type": "execute_result"
    }
   ],
   "source": [
    "df.head()"
   ]
  },
  {
   "cell_type": "code",
   "execution_count": null,
   "id": "d23996be-0ce3-43c7-a910-fcfee91383c3",
   "metadata": {},
   "outputs": [],
   "source": []
  },
  {
   "cell_type": "code",
   "execution_count": null,
   "id": "3e479cce-c325-4d5f-80be-9c0587e07fce",
   "metadata": {},
   "outputs": [],
   "source": []
  },
  {
   "cell_type": "code",
   "execution_count": 115,
   "id": "58706ce2-e395-4eca-a1b8-4b054ac0c1fa",
   "metadata": {},
   "outputs": [
    {
     "name": "stdout",
     "output_type": "stream",
     "text": [
      "  VOUCHER NUMBER      AMOUNT  CHECK DATE                      DEPARTMENT NAME  \\\n",
      "0  PV27242780609  4260645.83  06/18/2024                                  NaN   \n",
      "1  PV27232768083       94.55  12/29/2023                                  NaN   \n",
      "2  CVIP232100094   152170.84  06/08/2023                DEPARTMENT OF HOUSING   \n",
      "3            NaN    63250.00        2021  DEPT OF FAMILY AND SUPPORT SERVICES   \n",
      "4            NaN    38554.81        2021                                  NaN   \n",
      "\n",
      "  CONTRACT NUMBER                                        VENDOR NAME CASHED  \n",
      "0              DV                        USI INSURANCE SERVICES LLC.  False  \n",
      "1              DV                                        PEARL KOCUR  False  \n",
      "2          190668               LAWYERS COMMITTEE FOR BETTER HOUSING   True  \n",
      "3          117293                    YOUNG MEN'S EDUCATIONAL NETWORK   True  \n",
      "4          124392  TRAVELERS & IMMIGRANTS AID'S HEARTLAND ALLIANC...   True  \n"
     ]
    }
   ],
   "source": [
    "import pandas as pd\n",
    "\n",
    "# Load the dataset from a CSV file (adjust the path as needed)\n",
    "df = pd.read_csv(r'C:\\Users\\Nutzer\\Desktop\\BAExperiment\\Payments_20240904.csv')\n",
    "\n",
    "# Display the first few rows of the dataset to understand its structure\n",
    "print(df.head())\n"
   ]
  },
  {
   "cell_type": "code",
   "execution_count": null,
   "id": "047e9567-1c95-4eb1-87d7-509c8e1b551c",
   "metadata": {},
   "outputs": [],
   "source": []
  },
  {
   "cell_type": "code",
   "execution_count": 116,
   "id": "7c7a5e1a-adbc-4053-b90c-d41eae21727e",
   "metadata": {},
   "outputs": [
    {
     "name": "stdout",
     "output_type": "stream",
     "text": [
      "<class 'pandas.core.frame.DataFrame'>\n",
      "RangeIndex: 379899 entries, 0 to 379898\n",
      "Data columns (total 7 columns):\n",
      " #   Column           Non-Null Count   Dtype  \n",
      "---  ------           --------------   -----  \n",
      " 0   VOUCHER NUMBER   277848 non-null  object \n",
      " 1   AMOUNT           379899 non-null  float64\n",
      " 2   CHECK DATE       379899 non-null  object \n",
      " 3   DEPARTMENT NAME  196348 non-null  object \n",
      " 4   CONTRACT NUMBER  379899 non-null  object \n",
      " 5   VENDOR NAME      379899 non-null  object \n",
      " 6   CASHED           377047 non-null  object \n",
      "dtypes: float64(1), object(6)\n",
      "memory usage: 20.3+ MB\n",
      "None\n",
      "             AMOUNT\n",
      "count  3.798990e+05\n",
      "mean   2.322747e+05\n",
      "std    3.174314e+06\n",
      "min   -5.454200e+04\n",
      "25%    5.389300e+02\n",
      "50%    4.747460e+03\n",
      "75%    3.106196e+04\n",
      "max    4.260007e+08\n",
      "Missing values before filling:\n",
      " VOUCHER NUMBER     102051\n",
      "AMOUNT                  0\n",
      "CHECK DATE              0\n",
      "DEPARTMENT NAME    183551\n",
      "CONTRACT NUMBER         0\n",
      "VENDOR NAME             0\n",
      "CASHED               2852\n",
      "dtype: int64\n"
     ]
    }
   ],
   "source": [
    "# Display column names and data types\n",
    "print(df.info())\n",
    "\n",
    "# Display basic statistics for numeric columns\n",
    "print(df.describe())\n",
    "\n",
    "# Check for missing values in each column\n",
    "missing_counts = df.isnull().sum()\n",
    "print(\"Missing values before filling:\\n\", missing_counts)\n"
   ]
  },
  {
   "cell_type": "code",
   "execution_count": null,
   "id": "97a8d4eb-ac0a-4269-915e-9b0e72105fae",
   "metadata": {},
   "outputs": [],
   "source": []
  },
  {
   "cell_type": "code",
   "execution_count": null,
   "id": "473719bf-f1be-4749-b671-d1f8bd6b12bb",
   "metadata": {},
   "outputs": [],
   "source": []
  },
  {
   "cell_type": "code",
   "execution_count": null,
   "id": "3f50903e-4404-465c-97a3-388ceaa00945",
   "metadata": {},
   "outputs": [],
   "source": [
    "\n"
   ]
  },
  {
   "cell_type": "code",
   "execution_count": null,
   "id": "25c1407a-1960-4589-8011-93449ff8ea4c",
   "metadata": {},
   "outputs": [],
   "source": []
  },
  {
   "cell_type": "code",
   "execution_count": null,
   "id": "50b138d3-a73e-4d2a-9ec3-11c150d4b82e",
   "metadata": {},
   "outputs": [],
   "source": []
  },
  {
   "cell_type": "code",
   "execution_count": null,
   "id": "ef4867de-de2c-4258-9400-c5be1de5f24a",
   "metadata": {},
   "outputs": [],
   "source": []
  },
  {
   "cell_type": "code",
   "execution_count": null,
   "id": "061ee205-67d5-4808-a8cb-0579e83bb88a",
   "metadata": {},
   "outputs": [],
   "source": []
  },
  {
   "cell_type": "code",
   "execution_count": null,
   "id": "8778fcbc-25ff-45a0-a3d8-36d25e58e528",
   "metadata": {},
   "outputs": [],
   "source": []
  },
  {
   "cell_type": "code",
   "execution_count": 121,
   "id": "d6b62618-d581-4d55-b012-3a34cff12f37",
   "metadata": {},
   "outputs": [
    {
     "name": "stdout",
     "output_type": "stream",
     "text": [
      "  VOUCHER NUMBER      AMOUNT  CHECK DATE                      DEPARTMENT NAME  \\\n",
      "0  PV27242780609  4260645.83  06/18/2024                                  NaN   \n",
      "1  PV27232768083       94.55  12/29/2023                                  NaN   \n",
      "2  CVIP232100094   152170.84  06/08/2023                DEPARTMENT OF HOUSING   \n",
      "3            NaN    63250.00        2021  DEPT OF FAMILY AND SUPPORT SERVICES   \n",
      "4            NaN    38554.81        2021                                  NaN   \n",
      "\n",
      "  CONTRACT NUMBER                                        VENDOR NAME CASHED  \n",
      "0              DV                        USI INSURANCE SERVICES LLC.  False  \n",
      "1              DV                                        PEARL KOCUR  False  \n",
      "2          190668               LAWYERS COMMITTEE FOR BETTER HOUSING   True  \n",
      "3          117293                    YOUNG MEN'S EDUCATIONAL NETWORK   True  \n",
      "4          124392  TRAVELERS & IMMIGRANTS AID'S HEARTLAND ALLIANC...   True  \n"
     ]
    },
    {
     "name": "stderr",
     "output_type": "stream",
     "text": [
      "C:\\Users\\Nutzer\\AppData\\Local\\Temp\\ipykernel_7128\\675628996.py:28: FutureWarning: A value is trying to be set on a copy of a DataFrame or Series through chained assignment using an inplace method.\n",
      "The behavior will change in pandas 3.0. This inplace method will never work because the intermediate object on which we are setting values always behaves as a copy.\n",
      "\n",
      "For example, when doing 'df[col].method(value, inplace=True)', try using 'df.method({col: value}, inplace=True)' or df[col] = df[col].method(value) instead, to perform the operation inplace on the original object.\n",
      "\n",
      "\n",
      "  df[column].fillna(df[column].mean(), inplace=True)\n",
      "C:\\Users\\Nutzer\\AppData\\Local\\Temp\\ipykernel_7128\\675628996.py:32: FutureWarning: A value is trying to be set on a copy of a DataFrame or Series through chained assignment using an inplace method.\n",
      "The behavior will change in pandas 3.0. This inplace method will never work because the intermediate object on which we are setting values always behaves as a copy.\n",
      "\n",
      "For example, when doing 'df[col].method(value, inplace=True)', try using 'df.method({col: value}, inplace=True)' or df[col] = df[col].method(value) instead, to perform the operation inplace on the original object.\n",
      "\n",
      "\n",
      "  df[column].fillna(df[column].mode()[0], inplace=True)\n",
      "C:\\Users\\Nutzer\\AppData\\Local\\Temp\\ipykernel_7128\\675628996.py:32: FutureWarning: Downcasting object dtype arrays on .fillna, .ffill, .bfill is deprecated and will change in a future version. Call result.infer_objects(copy=False) instead. To opt-in to the future behavior, set `pd.set_option('future.no_silent_downcasting', True)`\n",
      "  df[column].fillna(df[column].mode()[0], inplace=True)\n"
     ]
    },
    {
     "name": "stdout",
     "output_type": "stream",
     "text": [
      "Missing values after filling:\n",
      " VOUCHER NUMBER     0\n",
      "AMOUNT             0\n",
      "CHECK DATE         0\n",
      "DEPARTMENT NAME    0\n",
      "CONTRACT NUMBER    0\n",
      "VENDOR NAME        0\n",
      "CASHED             0\n",
      "dtype: int64\n",
      "Updated dataset saved to: C:\\Users\\Nutzer\\Desktop\\BAExperiment\\new_table.csv\n"
     ]
    }
   ],
   "source": [
    "import pandas as pd\n",
    "import numpy as np\n",
    "\n",
    "# Load the dataset from a CSV file (adjust the path as needed)\n",
    "df = pd.read_csv(r'C:\\Users\\Nutzer\\Desktop\\BAExperiment\\Payments_20240904.csv')\n",
    "\n",
    "# Display the first few rows of the dataset to understand its structure\n",
    "print(df.head())\n",
    "\n",
    "# Define possible fill values for each column (example values, adjust as needed)\n",
    "department_fill_values = ['DEPT OF FAMILY AND SUPPORT SERVICES', 'DEPARTMENT OF HEALTH', 'DEPT OF GENERAL SERVICES', 'DEPT OF AVIATION', 'CHICAGO DEPARTMENT OF TRANSPORTATION']\n",
    "voucher_fill_values = ['Multiple', 'PVCI23CI705361', 'PVCI23CI705785', 'PVCI22CI010880', 'PVCI23CI705786']\n",
    "\n",
    "# Function to randomly select a fill value\n",
    "def random_fill(fill_values):\n",
    "    return np.random.choice(fill_values)\n",
    "\n",
    "# Apply random fill to missing values in 'DEPARTMENT NAME' if it exists in the dataset\n",
    "if 'DEPARTMENT NAME' in df.columns:\n",
    "    df['DEPARTMENT NAME'] = df['DEPARTMENT NAME'].apply(lambda x: random_fill(department_fill_values) if pd.isnull(x) else x)\n",
    "\n",
    "# Apply random fill to missing values in 'VOUCHER NUMBER' if it exists in the dataset\n",
    "if 'VOUCHER NUMBER' in df.columns:\n",
    "    df['VOUCHER NUMBER'] = df['VOUCHER NUMBER'].apply(lambda x: random_fill(voucher_fill_values) if pd.isnull(x) else x)\n",
    "\n",
    "# Apply mean or median for numeric columns if needed\n",
    "for column in df.select_dtypes(include=[np.number]).columns:\n",
    "    df[column].fillna(df[column].mean(), inplace=True)\n",
    "\n",
    "# Apply mode for categorical columns if needed\n",
    "for column in df.select_dtypes(include=[object]).columns:\n",
    "    df[column].fillna(df[column].mode()[0], inplace=True)\n",
    "\n",
    "# Verify if there are any missing values left\n",
    "missing_counts_after = df.isnull().sum()\n",
    "print(\"Missing values after filling:\\n\", missing_counts_after)\n",
    "\n",
    "# Save the updated DataFrame to a new CSV file\n",
    "new_file_path = r'C:\\Users\\Nutzer\\Desktop\\BAExperiment\\new_table.csv'\n",
    "df.to_csv(new_file_path, index=False)\n",
    "\n",
    "print(f\"Updated dataset saved to: {new_file_path}\")\n"
   ]
  },
  {
   "cell_type": "code",
   "execution_count": null,
   "id": "f1d9bbad-200c-4113-bbd3-4be017b2e03b",
   "metadata": {},
   "outputs": [],
   "source": []
  },
  {
   "cell_type": "code",
   "execution_count": null,
   "id": "91a11715-2d3a-4b1b-9332-af84f985a7c5",
   "metadata": {},
   "outputs": [],
   "source": []
  },
  {
   "cell_type": "code",
   "execution_count": null,
   "id": "cb0ec142-0f8c-4630-b6ab-76e282400a29",
   "metadata": {},
   "outputs": [],
   "source": [
    "import pandas as pd\n",
    "import numpy as np\n",
    "\n",
    "# Load the dataset from a CSV file (adjust the path as needed)\n",
    "df = pd.read_csv(r'C:\\Users\\Nutzer\\Desktop\\BAExperiment\\Payments_20240904.csv')\n",
    "\n",
    "# Display the first few rows of the dataset to understand its structure\n",
    "print(df.head())\n",
    "\n",
    "# Define possible fill values for each column (example values, adjust as needed)\n",
    "department_fill_values = ['DEPT OF FAMILY AND SUPPORT SERVICES', 'DEPARTMENT OF HEALTH', 'DEPT OF GENERAL SERVICES', 'DEPT OF AVIATION', 'CHICAGO DEPARTMENT OF TRANSPORTATION']\n",
    "voucher_fill_values = ['Multiple', 'PVCI23CI705361', 'PVCI23CI705785', 'PVCI22CI010880', 'PVCI23CI705786']\n",
    "\n",
    "# Set random seed for reproducibility\n",
    "np.random.seed(42)\n",
    "\n",
    "# Function to randomly select a fill value\n",
    "def random_fill(fill_values):\n",
    "    return np.random.choice(fill_values)\n",
    "\n",
    "# Apply random fill to missing values in 'DEPARTMENT NAME' if it exists in the dataset\n",
    "if 'DEPARTMENT NAME' in df.columns:\n",
    "    df['DEPARTMENT NAME'] = df['DEPARTMENT NAME'].apply(lambda x: random_fill(department_fill_values) if pd.isnull(x) else x)\n",
    "\n",
    "# Apply random fill to missing values in 'VOUCHER NUMBER' if it exists in the dataset\n",
    "if 'VOUCHER NUMBER' in df.columns:\n",
    "    df['VOUCHER NUMBER'] = df['VOUCHER NUMBER'].apply(lambda x: random_fill(voucher_fill_values) if pd.isnull(x) else x)\n",
    "\n",
    "# Apply mean or median for numeric columns if needed\n",
    "for column in df.select_dtypes(include=[np.number]).columns:\n",
    "    df[column].fillna(df[column].mean(), inplace=True)\n",
    "\n",
    "# Apply mode for categorical columns if needed\n",
    "for column in df.select_dtypes(include=[object]).columns:\n",
    "    df[column].fillna(df[column].mode()[0], inplace=True)\n",
    "\n",
    "# Verify if there are any missing values left\n",
    "missing_counts_after = df.isnull().sum()\n",
    "print(\"Missing values after filling:\\n\", missing_counts_after)\n",
    "\n",
    "# Save the updated DataFrame to a new CSV file\n",
    "new_file_path = r'C:\\Users\\Nutzer\\Desktop\\BAExperiment\\new_table.csv'\n",
    "df.to_csv(new_file_path, index=False)\n",
    "\n",
    "print(f\"Updated dataset saved to: {new_file_path}\")\n"
   ]
  },
  {
   "cell_type": "code",
   "execution_count": null,
   "id": "b8670a00-b828-4600-9e19-5d3901f6b75a",
   "metadata": {},
   "outputs": [],
   "source": []
  },
  {
   "cell_type": "code",
   "execution_count": null,
   "id": "c68d8a68-5597-4885-a408-8dd731585784",
   "metadata": {},
   "outputs": [],
   "source": []
  },
  {
   "cell_type": "code",
   "execution_count": null,
   "id": "b8c38c69-077f-44af-9097-57fe65ac06e4",
   "metadata": {},
   "outputs": [],
   "source": []
  },
  {
   "cell_type": "code",
   "execution_count": null,
   "id": "f5ce066e-2a03-487e-aab8-c21b9baaef3a",
   "metadata": {},
   "outputs": [],
   "source": []
  },
  {
   "cell_type": "code",
   "execution_count": null,
   "id": "439d9f73-a04e-4be8-855b-51374f13e737",
   "metadata": {},
   "outputs": [],
   "source": []
  },
  {
   "cell_type": "code",
   "execution_count": null,
   "id": "2f4216f1-7ad0-4d0b-bdb5-b975e250e757",
   "metadata": {},
   "outputs": [],
   "source": []
  },
  {
   "cell_type": "code",
   "execution_count": null,
   "id": "73dc7464-991b-432b-bc94-2a0941bddd6d",
   "metadata": {},
   "outputs": [],
   "source": []
  },
  {
   "cell_type": "code",
   "execution_count": null,
   "id": "1aafbc81-c56b-4a8c-a388-abb2c1cae7ec",
   "metadata": {},
   "outputs": [],
   "source": []
  },
  {
   "cell_type": "code",
   "execution_count": null,
   "id": "a6a294c6-c2ae-43eb-b1a9-6b1b9d1bb302",
   "metadata": {},
   "outputs": [],
   "source": []
  },
  {
   "cell_type": "markdown",
   "id": "f4ee6092-7a15-4e99-9f37-b2e29b33344f",
   "metadata": {},
   "source": [
    "## 'DEPARTMENT NAME'"
   ]
  },
  {
   "cell_type": "code",
   "execution_count": null,
   "id": "7d86fa42-b7f7-49e0-915d-2e61688681f9",
   "metadata": {},
   "outputs": [],
   "source": []
  },
  {
   "cell_type": "code",
   "execution_count": null,
   "id": "eb8bfec2-21da-46ce-8090-79cfc5e2cacd",
   "metadata": {},
   "outputs": [],
   "source": []
  },
  {
   "cell_type": "code",
   "execution_count": null,
   "id": "c549477d-004c-43b8-bd34-73f438980644",
   "metadata": {},
   "outputs": [],
   "source": [
    "# Check the percentage of missing values in the 'VOUCHER NUMBER' column\n",
    "missing_percentage = df['DEPARTMENT NAME'].isnull().mean()"
   ]
  },
  {
   "cell_type": "code",
   "execution_count": 19,
   "id": "97894f8f-495e-4285-9d91-e7b772f36052",
   "metadata": {},
   "outputs": [
    {
     "name": "stdout",
     "output_type": "stream",
     "text": [
      "Percentage of missing values in 'DEPARTMENT NAME': 48.32%\n"
     ]
    }
   ],
   "source": [
    "print(f\"Percentage of missing values in 'DEPARTMENT NAME': {missing_percentage:.2%}\")"
   ]
  },
  {
   "cell_type": "code",
   "execution_count": null,
   "id": "bc16489a-4b77-4768-a072-bbae19b0a986",
   "metadata": {},
   "outputs": [],
   "source": []
  },
  {
   "cell_type": "code",
   "execution_count": 20,
   "id": "b92089ad-8418-4fbe-b386-7288e3ba8438",
   "metadata": {},
   "outputs": [
    {
     "name": "stdout",
     "output_type": "stream",
     "text": [
      "Number of missing values in 'DEPARTMENT NAME': 183551\n"
     ]
    }
   ],
   "source": [
    "# Count the number of missing values in the 'VOUCHER NUMBER' column\n",
    "missing_count = df['DEPARTMENT NAME'].isnull().sum()\n",
    "\n",
    "print(f\"Number of missing values in 'DEPARTMENT NAME': {missing_count}\")"
   ]
  },
  {
   "cell_type": "code",
   "execution_count": null,
   "id": "a25351c5-0b1d-4b71-b89f-fed65c247aa4",
   "metadata": {},
   "outputs": [],
   "source": []
  },
  {
   "cell_type": "code",
   "execution_count": 21,
   "id": "141d96fc-4205-4444-893c-310f5e00dce9",
   "metadata": {},
   "outputs": [
    {
     "name": "stdout",
     "output_type": "stream",
     "text": [
      "DEPARTMENT NAME\n",
      "DEPT OF FAMILY AND SUPPORT SERVICES      38664\n",
      "DEPARTMENT OF HEALTH                     16985\n",
      "DEPT OF GENERAL SERVICES                 16581\n",
      "DEPT OF AVIATION                         16064\n",
      "CHICAGO DEPARTMENT OF TRANSPORTATION     11734\n",
      "                                         ...  \n",
      "POLICE BOARD                                 2\n",
      "INDEPENDENT POLICE REVIEW AUTHORITY          1\n",
      "DEPARTMENT OF ADMINISTRATIVE HEARINGS        1\n",
      "OFFICE OF INSPECTOR GENERAL                  1\n",
      "LIC COMM & LOCAL LIQ CTRL COMM               1\n",
      "Name: count, Length: 62, dtype: int64\n"
     ]
    }
   ],
   "source": [
    "# Get the count of each unique value in the 'DEPARTMENT NAME' column\n",
    "department_counts = df['DEPARTMENT NAME'].value_counts()\n",
    "\n",
    "print(department_counts)"
   ]
  },
  {
   "cell_type": "code",
   "execution_count": null,
   "id": "4a20ad95-4e2c-4f73-bc95-12e2445df3c3",
   "metadata": {},
   "outputs": [],
   "source": []
  },
  {
   "cell_type": "code",
   "execution_count": 120,
   "id": "d18f80d8-46c3-4d36-89c4-bf7847256207",
   "metadata": {
    "scrolled": true
   },
   "outputs": [
    {
     "data": {
      "image/png": "[encoded data removed]",
      "text/plain": [
       "<Figure size 1000x600 with 1 Axes>"
      ]
     },
     "metadata": {},
     "output_type": "display_data"
    }
   ],
   "source": [
    "# Get the count of each unique value in the 'DEPARTMENT NAME' column\n",
    "department_counts = df['DEPARTMENT NAME'].value_counts()\n",
    "\n",
    "# Plot the counts as a bar chart\n",
    "department_counts.plot(kind='bar', figsize=(10, 6))\n",
    "\n",
    "# Add labels and title for better readability\n",
    "plt.xlabel('Department Name')\n",
    "plt.ylabel('Count')\n",
    "plt.title('Count of Each Unique Value in DEPARTMENT NAME')\n",
    "plt.xticks(rotation=90)  # Rotate x-axis labels for better readability\n",
    "\n",
    "# Show the plot\n",
    "plt.show()"
   ]
  },
  {
   "cell_type": "code",
   "execution_count": null,
   "id": "02332d98-a8c8-46a7-a24e-7774060a3156",
   "metadata": {},
   "outputs": [],
   "source": []
  },
  {
   "cell_type": "code",
   "execution_count": null,
   "id": "18b2f64a-59c2-419a-ba87-cfb84aacdb44",
   "metadata": {},
   "outputs": [],
   "source": []
  },
  {
   "cell_type": "code",
   "execution_count": 31,
   "id": "2bd8c4f3-5fad-433e-b882-1c1aa0c74583",
   "metadata": {
    "scrolled": true
   },
   "outputs": [
    {
     "ename": "KeyError",
     "evalue": "'DEPARTMENT NAME'",
     "output_type": "error",
     "traceback": [
      "\u001b[1;31m---------------------------------------------------------------------------\u001b[0m",
      "\u001b[1;31mKeyError\u001b[0m                                  Traceback (most recent call last)",
      "File \u001b[1;32m~\\AppData\\Local\\Programs\\Python\\Python312\\Lib\\site-packages\\pandas\\core\\indexes\\base.py:3805\u001b[0m, in \u001b[0;36mIndex.get_loc\u001b[1;34m(self, key)\u001b[0m\n\u001b[0;32m   3804\u001b[0m \u001b[38;5;28;01mtry\u001b[39;00m:\n\u001b[1;32m-> 3805\u001b[0m     \u001b[38;5;28;01mreturn\u001b[39;00m \u001b[38;5;28;43mself\u001b[39;49m\u001b[38;5;241;43m.\u001b[39;49m\u001b[43m_engine\u001b[49m\u001b[38;5;241;43m.\u001b[39;49m\u001b[43mget_loc\u001b[49m\u001b[43m(\u001b[49m\u001b[43mcasted_key\u001b[49m\u001b[43m)\u001b[49m\n\u001b[0;32m   3806\u001b[0m \u001b[38;5;28;01mexcept\u001b[39;00m \u001b[38;5;167;01mKeyError\u001b[39;00m \u001b[38;5;28;01mas\u001b[39;00m err:\n",
      "File \u001b[1;32mindex.pyx:167\u001b[0m, in \u001b[0;36mpandas._libs.index.IndexEngine.get_loc\u001b[1;34m()\u001b[0m\n",
      "File \u001b[1;32mindex.pyx:196\u001b[0m, in \u001b[0;36mpandas._libs.index.IndexEngine.get_loc\u001b[1;34m()\u001b[0m\n",
      "File \u001b[1;32mpandas\\\\_libs\\\\hashtable_class_helper.pxi:7081\u001b[0m, in \u001b[0;36mpandas._libs.hashtable.PyObjectHashTable.get_item\u001b[1;34m()\u001b[0m\n",
      "File \u001b[1;32mpandas\\\\_libs\\\\hashtable_class_helper.pxi:7089\u001b[0m, in \u001b[0;36mpandas._libs.hashtable.PyObjectHashTable.get_item\u001b[1;34m()\u001b[0m\n",
      "\u001b[1;31mKeyError\u001b[0m: 'DEPARTMENT NAME'",
      "\nThe above exception was the direct cause of the following exception:\n",
      "\u001b[1;31mKeyError\u001b[0m                                  Traceback (most recent call last)",
      "Cell \u001b[1;32mIn[31], line 9\u001b[0m\n\u001b[0;32m      6\u001b[0m     \u001b[38;5;28;01mreturn\u001b[39;00m np\u001b[38;5;241m.\u001b[39mrandom\u001b[38;5;241m.\u001b[39mchoice(fill_values)\n\u001b[0;32m      8\u001b[0m \u001b[38;5;66;03m# Apply random fill to missing values'\u001b[39;00m\n\u001b[1;32m----> 9\u001b[0m df[\u001b[38;5;124m'\u001b[39m\u001b[38;5;124mDEPARTMENT NAME\u001b[39m\u001b[38;5;124m'\u001b[39m] \u001b[38;5;241m=\u001b[39m \u001b[43mdf\u001b[49m\u001b[43m[\u001b[49m\u001b[38;5;124;43m'\u001b[39;49m\u001b[38;5;124;43mDEPARTMENT NAME\u001b[39;49m\u001b[38;5;124;43m'\u001b[39;49m\u001b[43m]\u001b[49m\u001b[38;5;241m.\u001b[39mfillna(random_fill)\n\u001b[0;32m     11\u001b[0m \u001b[38;5;66;03m# Optionally, you can verify if there are any missing values left\u001b[39;00m\n\u001b[0;32m     12\u001b[0m missing_count \u001b[38;5;241m=\u001b[39m df[\u001b[38;5;124m'\u001b[39m\u001b[38;5;124mDEPARTMENT NAME\u001b[39m\u001b[38;5;124m'\u001b[39m]\u001b[38;5;241m.\u001b[39misnull()\u001b[38;5;241m.\u001b[39msum()\n",
      "File \u001b[1;32m~\\AppData\\Local\\Programs\\Python\\Python312\\Lib\\site-packages\\pandas\\core\\frame.py:4102\u001b[0m, in \u001b[0;36mDataFrame.__getitem__\u001b[1;34m(self, key)\u001b[0m\n\u001b[0;32m   4100\u001b[0m \u001b[38;5;28;01mif\u001b[39;00m \u001b[38;5;28mself\u001b[39m\u001b[38;5;241m.\u001b[39mcolumns\u001b[38;5;241m.\u001b[39mnlevels \u001b[38;5;241m>\u001b[39m \u001b[38;5;241m1\u001b[39m:\n\u001b[0;32m   4101\u001b[0m     \u001b[38;5;28;01mreturn\u001b[39;00m \u001b[38;5;28mself\u001b[39m\u001b[38;5;241m.\u001b[39m_getitem_multilevel(key)\n\u001b[1;32m-> 4102\u001b[0m indexer \u001b[38;5;241m=\u001b[39m \u001b[38;5;28;43mself\u001b[39;49m\u001b[38;5;241;43m.\u001b[39;49m\u001b[43mcolumns\u001b[49m\u001b[38;5;241;43m.\u001b[39;49m\u001b[43mget_loc\u001b[49m\u001b[43m(\u001b[49m\u001b[43mkey\u001b[49m\u001b[43m)\u001b[49m\n\u001b[0;32m   4103\u001b[0m \u001b[38;5;28;01mif\u001b[39;00m is_integer(indexer):\n\u001b[0;32m   4104\u001b[0m     indexer \u001b[38;5;241m=\u001b[39m [indexer]\n",
      "File \u001b[1;32m~\\AppData\\Local\\Programs\\Python\\Python312\\Lib\\site-packages\\pandas\\core\\indexes\\base.py:3812\u001b[0m, in \u001b[0;36mIndex.get_loc\u001b[1;34m(self, key)\u001b[0m\n\u001b[0;32m   3807\u001b[0m     \u001b[38;5;28;01mif\u001b[39;00m \u001b[38;5;28misinstance\u001b[39m(casted_key, \u001b[38;5;28mslice\u001b[39m) \u001b[38;5;129;01mor\u001b[39;00m (\n\u001b[0;32m   3808\u001b[0m         \u001b[38;5;28misinstance\u001b[39m(casted_key, abc\u001b[38;5;241m.\u001b[39mIterable)\n\u001b[0;32m   3809\u001b[0m         \u001b[38;5;129;01mand\u001b[39;00m \u001b[38;5;28many\u001b[39m(\u001b[38;5;28misinstance\u001b[39m(x, \u001b[38;5;28mslice\u001b[39m) \u001b[38;5;28;01mfor\u001b[39;00m x \u001b[38;5;129;01min\u001b[39;00m casted_key)\n\u001b[0;32m   3810\u001b[0m     ):\n\u001b[0;32m   3811\u001b[0m         \u001b[38;5;28;01mraise\u001b[39;00m InvalidIndexError(key)\n\u001b[1;32m-> 3812\u001b[0m     \u001b[38;5;28;01mraise\u001b[39;00m \u001b[38;5;167;01mKeyError\u001b[39;00m(key) \u001b[38;5;28;01mfrom\u001b[39;00m \u001b[38;5;21;01merr\u001b[39;00m\n\u001b[0;32m   3813\u001b[0m \u001b[38;5;28;01mexcept\u001b[39;00m \u001b[38;5;167;01mTypeError\u001b[39;00m:\n\u001b[0;32m   3814\u001b[0m     \u001b[38;5;66;03m# If we have a listlike key, _check_indexing_error will raise\u001b[39;00m\n\u001b[0;32m   3815\u001b[0m     \u001b[38;5;66;03m#  InvalidIndexError. Otherwise we fall through and re-raise\u001b[39;00m\n\u001b[0;32m   3816\u001b[0m     \u001b[38;5;66;03m#  the TypeError.\u001b[39;00m\n\u001b[0;32m   3817\u001b[0m     \u001b[38;5;28mself\u001b[39m\u001b[38;5;241m.\u001b[39m_check_indexing_error(key)\n",
      "\u001b[1;31mKeyError\u001b[0m: 'DEPARTMENT NAME'"
     ]
    }
   ],
   "source": [
    "# Define the possible fill values\n",
    "fill_values = ['DEPT OF FAMILY AND SUPPORT SERVICES', 'DEPARTMENT OF HEALTH', 'DEPT OF GENERAL SERVICES', 'DEPT OF AVIATION', 'CHICAGO DEPARTMENT OF TRANSPORTATION'  ]\n",
    "\n",
    "# Function to randomly select a fill value\n",
    "def random_fill():\n",
    "    return np.random.choice(fill_values)\n",
    "\n",
    "# Apply random fill to missing values'\n",
    "df['DEPARTMENT NAME'] = df['DEPARTMENT NAME'].fillna(random_fill)\n",
    "\n",
    "# Optionally, you can verify if there are any missing values left\n",
    "missing_count = df['DEPARTMENT NAME'].isnull().sum()\n",
    "print(f\"Number of missing values after filling: {missing_count}\")"
   ]
  },
  {
   "cell_type": "code",
   "execution_count": null,
   "id": "5822ccd0-5184-47f1-9242-b506702794b3",
   "metadata": {},
   "outputs": [],
   "source": []
  },
  {
   "cell_type": "code",
   "execution_count": null,
   "id": "f6a8160a-182e-492c-b167-b08ef2c14b2f",
   "metadata": {},
   "outputs": [],
   "source": []
  },
  {
   "cell_type": "code",
   "execution_count": null,
   "id": "30b2c5f2-561d-4235-95e1-d5c258cc0a51",
   "metadata": {},
   "outputs": [],
   "source": []
  },
  {
   "cell_type": "code",
   "execution_count": null,
   "id": "5ec877d6-f1d8-4fb8-bfb0-5ac5c40b3e11",
   "metadata": {},
   "outputs": [],
   "source": []
  },
  {
   "cell_type": "code",
   "execution_count": null,
   "id": "17ef8c65-0775-4510-bcbd-29aec199a969",
   "metadata": {},
   "outputs": [],
   "source": []
  },
  {
   "cell_type": "code",
   "execution_count": null,
   "id": "9333c03c-3062-49e1-ba38-29b8aa42b110",
   "metadata": {},
   "outputs": [],
   "source": []
  },
  {
   "cell_type": "code",
   "execution_count": 133,
   "id": "69e33411-6f5d-46bd-982f-f68ea42688ed",
   "metadata": {},
   "outputs": [],
   "source": [
    "# Find the mode of the 'DEPARTMENT NAME' column\n",
    "# department_mode = df['DEPARTMENT NAME'].mode()\n",
    "\n",
    "# print(f\"Most frequent value(s) in 'DEPARTMENT NAME':\")\n",
    "# print(department_mode)"
   ]
  },
  {
   "cell_type": "code",
   "execution_count": null,
   "id": "0dec5a2d-531e-43e7-891c-84c3267da721",
   "metadata": {},
   "outputs": [],
   "source": []
  },
  {
   "cell_type": "code",
   "execution_count": 134,
   "id": "b3f05100-f5d9-4b57-aba6-08ec137d64d2",
   "metadata": {},
   "outputs": [],
   "source": [
    "# Fill missing values in the 'DEPARTMENT NAME' column with 'DEPT OF FAMILY AND SUPPORT SERVICES'\n",
    "# df['DEPARTMENT NAME'] = df['DEPARTMENT NAME'].fillna('DEPT OF FAMILY AND SUPPORT SERVICES')\n",
    "\n",
    "# Optionally, you can verify if there are any missing values left\n",
    "# missing_count = df['DEPARTMENT NAME'].isnull().sum()\n",
    "# print(f\"Number of missing values after filling: {missing_count}\")"
   ]
  },
  {
   "cell_type": "code",
   "execution_count": null,
   "id": "68922c61-57ee-488a-8a34-20b24895023d",
   "metadata": {},
   "outputs": [],
   "source": []
  },
  {
   "cell_type": "code",
   "execution_count": 132,
   "id": "75c9f262-5278-4b78-b262-c5125a9b6305",
   "metadata": {},
   "outputs": [
    {
     "name": "stdout",
     "output_type": "stream",
     "text": [
      "Number of missing values in 'DEPARTMENT NAME': 0\n"
     ]
    }
   ],
   "source": [
    "# Count the number of missing values in the 'VOUCHER NUMBER' column\n",
    "missing_count = df['DEPARTMENT NAME'].isnull().sum()\n",
    "\n",
    "print(f\"Number of missing values in 'DEPARTMENT NAME': {missing_count}\")"
   ]
  },
  {
   "cell_type": "code",
   "execution_count": null,
   "id": "ca44c70f-98c2-49d6-94f9-cf1ce95fd85b",
   "metadata": {},
   "outputs": [],
   "source": []
  },
  {
   "cell_type": "code",
   "execution_count": null,
   "id": "0298fc8d-9f7b-4eff-9035-030e55421547",
   "metadata": {},
   "outputs": [],
   "source": []
  },
  {
   "cell_type": "code",
   "execution_count": 130,
   "id": "594a9aba-5e57-4ba6-ae25-4a7f6631f816",
   "metadata": {},
   "outputs": [
    {
     "name": "stdout",
     "output_type": "stream",
     "text": [
      "Index(['VOUCHER NUMBER', 'AMOUNT', 'CHECK DATE', 'DEPARTMENT NAME',\n",
      "       'CONTRACT NUMBER', 'VENDOR NAME', 'CASHED'],\n",
      "      dtype='object')\n"
     ]
    }
   ],
   "source": [
    "print(df.columns)\n"
   ]
  },
  {
   "cell_type": "code",
   "execution_count": null,
   "id": "b73f2845-8d2a-4d5c-9b75-9222f91f891a",
   "metadata": {},
   "outputs": [],
   "source": []
  },
  {
   "cell_type": "code",
   "execution_count": 30,
   "id": "1499e995-2c3f-466a-b083-6fcf68299d8d",
   "metadata": {},
   "outputs": [
    {
     "data": {
      "text/html": [
       "<div>\n",
       "<style scoped>\n",
       "    .dataframe tbody tr th:only-of-type {\n",
       "        vertical-align: middle;\n",
       "    }\n",
       "\n",
       "    .dataframe tbody tr th {\n",
       "        vertical-align: top;\n",
       "    }\n",
       "\n",
       "    .dataframe thead th {\n",
       "        text-align: right;\n",
       "    }\n",
       "</style>\n",
       "<table border=\"1\" class=\"dataframe\">\n",
       "  <thead>\n",
       "    <tr style=\"text-align: right;\">\n",
       "      <th></th>\n",
       "      <th>VOUCHER NUMBER</th>\n",
       "    </tr>\n",
       "  </thead>\n",
       "  <tbody>\n",
       "    <tr>\n",
       "      <th>0</th>\n",
       "      <td>PVCI23CI705786</td>\n",
       "    </tr>\n",
       "    <tr>\n",
       "      <th>1</th>\n",
       "      <td>PVCI23CI705361</td>\n",
       "    </tr>\n",
       "    <tr>\n",
       "      <th>2</th>\n",
       "      <td>PVCI23CI705361</td>\n",
       "    </tr>\n",
       "    <tr>\n",
       "      <th>3</th>\n",
       "      <td>PVCI23CI705785</td>\n",
       "    </tr>\n",
       "    <tr>\n",
       "      <th>4</th>\n",
       "      <td>Multiple</td>\n",
       "    </tr>\n",
       "  </tbody>\n",
       "</table>\n",
       "</div>"
      ],
      "text/plain": [
       "   VOUCHER NUMBER\n",
       "0  PVCI23CI705786\n",
       "1  PVCI23CI705361\n",
       "2  PVCI23CI705361\n",
       "3  PVCI23CI705785\n",
       "4        Multiple"
      ]
     },
     "execution_count": 30,
     "metadata": {},
     "output_type": "execute_result"
    }
   ],
   "source": [
    "df.head()"
   ]
  },
  {
   "cell_type": "code",
   "execution_count": null,
   "id": "149dab26-b1f5-4566-92f8-69cb971bba9c",
   "metadata": {},
   "outputs": [],
   "source": []
  },
  {
   "cell_type": "code",
   "execution_count": null,
   "id": "1dc2ccca-6700-46eb-ab9f-20f9a7247fe7",
   "metadata": {},
   "outputs": [],
   "source": []
  },
  {
   "cell_type": "code",
   "execution_count": null,
   "id": "0b04ccf7-2726-4493-9512-03dd54a13a43",
   "metadata": {},
   "outputs": [],
   "source": []
  },
  {
   "cell_type": "code",
   "execution_count": null,
   "id": "6938f1a6-b71f-4700-aca5-fb7d1e617d7c",
   "metadata": {},
   "outputs": [],
   "source": []
  },
  {
   "cell_type": "code",
   "execution_count": null,
   "id": "3e0ad19f-da53-42a0-abcf-f9c16331b16d",
   "metadata": {},
   "outputs": [],
   "source": []
  },
  {
   "cell_type": "code",
   "execution_count": null,
   "id": "2c19bff4-4500-4e06-9132-b63e91000e8b",
   "metadata": {},
   "outputs": [],
   "source": []
  },
  {
   "cell_type": "code",
   "execution_count": null,
   "id": "b8e4b539-e6c0-4e89-ace9-300cf73e4903",
   "metadata": {},
   "outputs": [],
   "source": []
  },
  {
   "cell_type": "code",
   "execution_count": null,
   "id": "488a8049-3b37-40f0-82e5-0c54008512d8",
   "metadata": {},
   "outputs": [],
   "source": []
  },
  {
   "cell_type": "code",
   "execution_count": null,
   "id": "9c01b21c-af71-4e68-a3a8-b59139c79157",
   "metadata": {},
   "outputs": [],
   "source": []
  },
  {
   "cell_type": "code",
   "execution_count": null,
   "id": "ef0f0398-9ea9-46b6-81fb-8f56a20e7da3",
   "metadata": {},
   "outputs": [],
   "source": []
  },
  {
   "cell_type": "code",
   "execution_count": null,
   "id": "7ac0c58a-aba8-4e94-840f-2bcb08b2a2ee",
   "metadata": {},
   "outputs": [],
   "source": []
  },
  {
   "cell_type": "code",
   "execution_count": null,
   "id": "eaa9fbae-8ca6-420d-948a-aa7ded97ab51",
   "metadata": {},
   "outputs": [],
   "source": []
  },
  {
   "cell_type": "code",
   "execution_count": null,
   "id": "d6f3891b-e084-4a4a-bfb5-0f66f601d379",
   "metadata": {},
   "outputs": [],
   "source": []
  },
  {
   "cell_type": "code",
   "execution_count": null,
   "id": "1edfb2ef-bc14-4975-94a2-efb628825f94",
   "metadata": {},
   "outputs": [],
   "source": []
  },
  {
   "cell_type": "code",
   "execution_count": null,
   "id": "0e148545-e09b-4e82-985c-45c7b70647a2",
   "metadata": {},
   "outputs": [],
   "source": []
  },
  {
   "cell_type": "code",
   "execution_count": null,
   "id": "6d7c2e7c-e850-45f6-9528-e9e5ce875945",
   "metadata": {},
   "outputs": [],
   "source": []
  },
  {
   "cell_type": "code",
   "execution_count": null,
   "id": "320900b3-f601-4a0f-9ec6-4f28d59a3153",
   "metadata": {},
   "outputs": [],
   "source": []
  },
  {
   "cell_type": "code",
   "execution_count": null,
   "id": "5c13b8b2-12ac-44cc-86d0-cb67f014423d",
   "metadata": {},
   "outputs": [],
   "source": []
  },
  {
   "cell_type": "code",
   "execution_count": null,
   "id": "23146203-d835-41fb-8147-fbd6ef70757d",
   "metadata": {},
   "outputs": [],
   "source": []
  },
  {
   "cell_type": "code",
   "execution_count": null,
   "id": "140d3bdd-c522-4276-ab5d-ef02a4e5341a",
   "metadata": {},
   "outputs": [],
   "source": []
  },
  {
   "cell_type": "code",
   "execution_count": null,
   "id": "47cde6de-c46f-40ae-bf06-e114c742791f",
   "metadata": {},
   "outputs": [],
   "source": []
  },
  {
   "cell_type": "code",
   "execution_count": null,
   "id": "ee314066-53db-41c6-8117-1c4d13ad1469",
   "metadata": {},
   "outputs": [],
   "source": []
  },
  {
   "cell_type": "code",
   "execution_count": null,
   "id": "b55163b1-c06c-4296-80be-b1eb23cac265",
   "metadata": {},
   "outputs": [],
   "source": []
  },
  {
   "cell_type": "code",
   "execution_count": null,
   "id": "93da0d8d-cb06-40bf-9ec2-5f5320012cf7",
   "metadata": {},
   "outputs": [],
   "source": []
  },
  {
   "cell_type": "code",
   "execution_count": null,
   "id": "4fb88ada-2b36-4d51-9cda-d499d3a0d799",
   "metadata": {},
   "outputs": [],
   "source": []
  },
  {
   "cell_type": "code",
   "execution_count": null,
   "id": "a5f3080a-9ed6-4ef6-af7b-9e099e81fd8e",
   "metadata": {},
   "outputs": [],
   "source": []
  },
  {
   "cell_type": "code",
   "execution_count": null,
   "id": "11cc40ec-d19a-439d-acb0-a7b48b68b386",
   "metadata": {},
   "outputs": [],
   "source": []
  },
  {
   "cell_type": "code",
   "execution_count": null,
   "id": "9dfa6d40-f8a1-4893-b159-f071f31bc9b7",
   "metadata": {},
   "outputs": [],
   "source": []
  },
  {
   "cell_type": "code",
   "execution_count": null,
   "id": "10e36650-672a-49a7-ac2c-371941b55f47",
   "metadata": {},
   "outputs": [],
   "source": []
  },
  {
   "cell_type": "code",
   "execution_count": null,
   "id": "c2ea6b7d-4bd9-4c28-ab1f-8404fce3a302",
   "metadata": {},
   "outputs": [],
   "source": []
  },
  {
   "cell_type": "code",
   "execution_count": null,
   "id": "48e7c367-0f03-4894-a20a-6d5f9dae6a28",
   "metadata": {},
   "outputs": [],
   "source": []
  },
  {
   "cell_type": "code",
   "execution_count": null,
   "id": "3cb68d89-0b7c-4e64-9ee5-3173be42e550",
   "metadata": {},
   "outputs": [],
   "source": []
  },
  {
   "cell_type": "code",
   "execution_count": null,
   "id": "50ba908b-e82e-4f6c-8053-77b73126c9f6",
   "metadata": {},
   "outputs": [],
   "source": []
  },
  {
   "cell_type": "code",
   "execution_count": null,
   "id": "a1349972-dc42-4006-83a1-c4d612540251",
   "metadata": {},
   "outputs": [],
   "source": []
  },
  {
   "cell_type": "markdown",
   "id": "227fda7b-e6a8-4b42-b3d3-d5971183fdef",
   "metadata": {},
   "source": [
    "## Ein andere Dataset"
   ]
  },
  {
   "cell_type": "code",
   "execution_count": null,
   "id": "9c500d08-bd6b-4cb8-be71-0622324b7256",
   "metadata": {},
   "outputs": [],
   "source": []
  },
  {
   "cell_type": "code",
   "execution_count": 82,
   "id": "6109463c-cabb-47f1-97bd-e8a1c9cf3665",
   "metadata": {},
   "outputs": [],
   "source": [
    "df=pd.read_csv(r'C:\\Users\\Nutzer\\Desktop\\BAExperiment\\city_payments_fy2017.csv')"
   ]
  },
  {
   "cell_type": "code",
   "execution_count": 84,
   "id": "0472c2a8-a430-44ad-a7f7-ef87514d9cdb",
   "metadata": {},
   "outputs": [
    {
     "data": {
      "text/html": [
       "<div>\n",
       "<style scoped>\n",
       "    .dataframe tbody tr th:only-of-type {\n",
       "        vertical-align: middle;\n",
       "    }\n",
       "\n",
       "    .dataframe tbody tr th {\n",
       "        vertical-align: top;\n",
       "    }\n",
       "\n",
       "    .dataframe thead th {\n",
       "        text-align: right;\n",
       "    }\n",
       "</style>\n",
       "<table border=\"1\" class=\"dataframe\">\n",
       "  <thead>\n",
       "    <tr style=\"text-align: right;\">\n",
       "      <th></th>\n",
       "      <th>fy</th>\n",
       "      <th>fm</th>\n",
       "      <th>check_date</th>\n",
       "      <th>document_no</th>\n",
       "      <th>dept</th>\n",
       "      <th>department_title</th>\n",
       "      <th>char_</th>\n",
       "      <th>character_title</th>\n",
       "      <th>sub_obj</th>\n",
       "      <th>sub_obj_title</th>\n",
       "      <th>vendor_name</th>\n",
       "      <th>doc_ref_no_prefix</th>\n",
       "      <th>doc_ref_no_prefix_definition</th>\n",
       "      <th>contract_number</th>\n",
       "      <th>contract_description</th>\n",
       "      <th>transaction_amount</th>\n",
       "    </tr>\n",
       "  </thead>\n",
       "  <tbody>\n",
       "    <tr>\n",
       "      <th>0</th>\n",
       "      <td>2017</td>\n",
       "      <td>10</td>\n",
       "      <td>2017-04-12</td>\n",
       "      <td>CHEK17119771</td>\n",
       "      <td>42</td>\n",
       "      <td>42 COMMERCE</td>\n",
       "      <td>2</td>\n",
       "      <td>02 PURCHASE OF SERVICES</td>\n",
       "      <td>231</td>\n",
       "      <td>OVERTIME MEALS 0231</td>\n",
       "      <td>EAT AT JOE'S</td>\n",
       "      <td>PVXX</td>\n",
       "      <td>payment voucher</td>\n",
       "      <td>NaN</td>\n",
       "      <td>NaN</td>\n",
       "      <td>66.82</td>\n",
       "    </tr>\n",
       "    <tr>\n",
       "      <th>1</th>\n",
       "      <td>2017</td>\n",
       "      <td>12</td>\n",
       "      <td>2017-06-09</td>\n",
       "      <td>ACHD17177233</td>\n",
       "      <td>26</td>\n",
       "      <td>26 LICENSES &amp; INSPECTIONS</td>\n",
       "      <td>2</td>\n",
       "      <td>02 PURCHASE OF SERVICES</td>\n",
       "      <td>211</td>\n",
       "      <td>TRANSPORTATION 0211</td>\n",
       "      <td>L &amp; I Â TRAVEL IMPREST FUND</td>\n",
       "      <td>PVXX</td>\n",
       "      <td>payment voucher</td>\n",
       "      <td>NaN</td>\n",
       "      <td>NaN</td>\n",
       "      <td>127.33</td>\n",
       "    </tr>\n",
       "    <tr>\n",
       "      <th>2</th>\n",
       "      <td>2017</td>\n",
       "      <td>5</td>\n",
       "      <td>2016-11-25</td>\n",
       "      <td>CHEK17063736</td>\n",
       "      <td>44</td>\n",
       "      <td>44 LAW</td>\n",
       "      <td>2</td>\n",
       "      <td>02 PURCHASE OF SERVICES</td>\n",
       "      <td>258</td>\n",
       "      <td>COURT REPORTERS 0258</td>\n",
       "      <td>MARLENE BELL REPORTING, INC.</td>\n",
       "      <td>PVXX</td>\n",
       "      <td>payment voucher</td>\n",
       "      <td>NaN</td>\n",
       "      <td>NaN</td>\n",
       "      <td>454.20</td>\n",
       "    </tr>\n",
       "    <tr>\n",
       "      <th>3</th>\n",
       "      <td>2017</td>\n",
       "      <td>1</td>\n",
       "      <td>2016-07-07</td>\n",
       "      <td>CHEK17000247</td>\n",
       "      <td>11</td>\n",
       "      <td>11 POLICE</td>\n",
       "      <td>2</td>\n",
       "      <td>02 PURCHASE OF SERVICES</td>\n",
       "      <td>260</td>\n",
       "      <td>REPAIR AND MAINTENANCE CHARGES 0260</td>\n",
       "      <td>RICOH AMERICAS CORPORATION</td>\n",
       "      <td>VCXX</td>\n",
       "      <td>procurement</td>\n",
       "      <td>NaN</td>\n",
       "      <td>NaN</td>\n",
       "      <td>50.00</td>\n",
       "    </tr>\n",
       "    <tr>\n",
       "      <th>4</th>\n",
       "      <td>2017</td>\n",
       "      <td>1</td>\n",
       "      <td>2016-07-08</td>\n",
       "      <td>ACHD17000233</td>\n",
       "      <td>23</td>\n",
       "      <td>23 PRISONS</td>\n",
       "      <td>3</td>\n",
       "      <td>03 MATERIALS AND SUPPLIES</td>\n",
       "      <td>313</td>\n",
       "      <td>FOOD 0313</td>\n",
       "      <td>PHILADELPHIA PRISONS</td>\n",
       "      <td>PCXX</td>\n",
       "      <td>petty cash</td>\n",
       "      <td>NaN</td>\n",
       "      <td>NaN</td>\n",
       "      <td>71.92</td>\n",
       "    </tr>\n",
       "  </tbody>\n",
       "</table>\n",
       "</div>"
      ],
      "text/plain": [
       "     fy  fm  check_date   document_no  dept           department_title  char_  \\\n",
       "0  2017  10  2017-04-12  CHEK17119771    42                42 COMMERCE      2   \n",
       "1  2017  12  2017-06-09  ACHD17177233    26  26 LICENSES & INSPECTIONS      2   \n",
       "2  2017   5  2016-11-25  CHEK17063736    44                     44 LAW      2   \n",
       "3  2017   1  2016-07-07  CHEK17000247    11                  11 POLICE      2   \n",
       "4  2017   1  2016-07-08  ACHD17000233    23                 23 PRISONS      3   \n",
       "\n",
       "             character_title sub_obj                        sub_obj_title  \\\n",
       "0    02 PURCHASE OF SERVICES     231                  OVERTIME MEALS 0231   \n",
       "1    02 PURCHASE OF SERVICES     211                  TRANSPORTATION 0211   \n",
       "2    02 PURCHASE OF SERVICES     258                 COURT REPORTERS 0258   \n",
       "3    02 PURCHASE OF SERVICES     260  REPAIR AND MAINTENANCE CHARGES 0260   \n",
       "4  03 MATERIALS AND SUPPLIES     313                            FOOD 0313   \n",
       "\n",
       "                    vendor_name doc_ref_no_prefix  \\\n",
       "0                  EAT AT JOE'S              PVXX   \n",
       "1   L & I Â TRAVEL IMPREST FUND              PVXX   \n",
       "2  MARLENE BELL REPORTING, INC.              PVXX   \n",
       "3    RICOH AMERICAS CORPORATION              VCXX   \n",
       "4          PHILADELPHIA PRISONS              PCXX   \n",
       "\n",
       "  doc_ref_no_prefix_definition contract_number contract_description  \\\n",
       "0              payment voucher             NaN                  NaN   \n",
       "1              payment voucher             NaN                  NaN   \n",
       "2              payment voucher             NaN                  NaN   \n",
       "3                  procurement             NaN                  NaN   \n",
       "4                   petty cash             NaN                  NaN   \n",
       "\n",
       "   transaction_amount  \n",
       "0               66.82  \n",
       "1              127.33  \n",
       "2              454.20  \n",
       "3               50.00  \n",
       "4               71.92  "
      ]
     },
     "execution_count": 84,
     "metadata": {},
     "output_type": "execute_result"
    }
   ],
   "source": [
    "df.head()"
   ]
  },
  {
   "cell_type": "code",
   "execution_count": null,
   "id": "8abd1d2b-c273-455a-adca-0e7cfc5909ea",
   "metadata": {},
   "outputs": [],
   "source": []
  },
  {
   "cell_type": "code",
   "execution_count": 85,
   "id": "aabbf115-2e20-4fc2-a50d-d29d25d0d178",
   "metadata": {},
   "outputs": [
    {
     "data": {
      "text/plain": [
       "fy                                int64\n",
       "fm                                int64\n",
       "check_date                       object\n",
       "document_no                      object\n",
       "dept                              int64\n",
       "department_title                 object\n",
       "char_                             int64\n",
       "character_title                  object\n",
       "sub_obj                          object\n",
       "sub_obj_title                    object\n",
       "vendor_name                      object\n",
       "doc_ref_no_prefix                object\n",
       "doc_ref_no_prefix_definition     object\n",
       "contract_number                  object\n",
       "contract_description             object\n",
       "transaction_amount              float64\n",
       "dtype: object"
      ]
     },
     "execution_count": 85,
     "metadata": {},
     "output_type": "execute_result"
    }
   ],
   "source": [
    "df.dtypes"
   ]
  },
  {
   "cell_type": "code",
   "execution_count": null,
   "id": "c0a9c300-810c-404d-b4f6-d1673e8b6852",
   "metadata": {},
   "outputs": [],
   "source": []
  },
  {
   "cell_type": "code",
   "execution_count": 86,
   "id": "df730c6d-7383-4b65-9baa-06e26b3f3c12",
   "metadata": {},
   "outputs": [],
   "source": [
    "ohe= OneHotEncoder()"
   ]
  },
  {
   "cell_type": "code",
   "execution_count": 87,
   "id": "19690b55-ff7d-4bf6-927f-c78941f5abfa",
   "metadata": {},
   "outputs": [
    {
     "name": "stdout",
     "output_type": "stream",
     "text": [
      "OneHotEncoder()\n"
     ]
    }
   ],
   "source": [
    "print(ohe)"
   ]
  },
  {
   "cell_type": "code",
   "execution_count": null,
   "id": "294e8a3e-4ee1-439e-a91b-4849198e1deb",
   "metadata": {},
   "outputs": [],
   "source": []
  },
  {
   "cell_type": "code",
   "execution_count": 89,
   "id": "4a858a9f-9e15-4b21-a6be-7a873c08ff36",
   "metadata": {},
   "outputs": [
    {
     "data": {
      "text/plain": [
       "array(['payment voucher', 'procurement', 'petty cash',\n",
       "       'professional services', 'auto parts', 'library books',\n",
       "       'court appointed attorneys', 'American Express travel vouchers',\n",
       "       'reimbursable expense vouchers for City employees',\n",
       "       'monthly rent and quarterly MH/MR', 'funeral directors', nan],\n",
       "      dtype=object)"
      ]
     },
     "execution_count": 89,
     "metadata": {},
     "output_type": "execute_result"
    }
   ],
   "source": [
    "df[\"doc_ref_no_prefix_definition\"].unique()"
   ]
  },
  {
   "cell_type": "code",
   "execution_count": null,
   "id": "2dad9684-f411-4271-895d-4d9c8e41c93a",
   "metadata": {},
   "outputs": [],
   "source": []
  },
  {
   "cell_type": "code",
   "execution_count": null,
   "id": "a8c804e3-e152-4e63-bc1f-c6143cd6f8c6",
   "metadata": {},
   "outputs": [],
   "source": []
  },
  {
   "cell_type": "code",
   "execution_count": 88,
   "id": "d822280e-ac6d-4569-94fc-c454519e56b5",
   "metadata": {},
   "outputs": [
    {
     "data": {
      "text/plain": [
       "array([[0., 0., 0., ..., 0., 0., 0.],\n",
       "       [0., 0., 0., ..., 0., 0., 0.],\n",
       "       [0., 0., 0., ..., 0., 0., 0.],\n",
       "       ...,\n",
       "       [0., 0., 0., ..., 1., 0., 0.],\n",
       "       [0., 0., 0., ..., 1., 0., 0.],\n",
       "       [0., 0., 0., ..., 1., 0., 0.]])"
      ]
     },
     "execution_count": 88,
     "metadata": {},
     "output_type": "execute_result"
    }
   ],
   "source": [
    "ohe.fit_transform(df[[\"doc_ref_no_prefix_definition\"]]).toarray()"
   ]
  },
  {
   "cell_type": "code",
   "execution_count": null,
   "id": "62a7aa47-8c54-4b77-83a1-7b66ae1f80d7",
   "metadata": {},
   "outputs": [],
   "source": []
  },
  {
   "cell_type": "code",
   "execution_count": 90,
   "id": "4ad53feb-20f6-450d-ba70-cd3d43df5593",
   "metadata": {},
   "outputs": [],
   "source": [
    "\n",
    "feature_arry= ohe.fit_transform(df[[\"doc_ref_no_prefix_definition\"]]).toarray()"
   ]
  },
  {
   "cell_type": "code",
   "execution_count": null,
   "id": "f131a829-3b0a-4f81-8c80-a203dfd1c2ac",
   "metadata": {},
   "outputs": [],
   "source": []
  },
  {
   "cell_type": "code",
   "execution_count": 91,
   "id": "fc561305-f5eb-41d5-b88b-2cbdd6ded044",
   "metadata": {},
   "outputs": [
    {
     "data": {
      "text/plain": [
       "[array(['American Express travel vouchers', 'auto parts',\n",
       "        'court appointed attorneys', 'funeral directors', 'library books',\n",
       "        'monthly rent and quarterly MH/MR', 'payment voucher',\n",
       "        'petty cash', 'procurement', 'professional services',\n",
       "        'reimbursable expense vouchers for City employees', nan],\n",
       "       dtype=object)]"
      ]
     },
     "execution_count": 91,
     "metadata": {},
     "output_type": "execute_result"
    }
   ],
   "source": [
    "ohe.categories_"
   ]
  },
  {
   "cell_type": "code",
   "execution_count": null,
   "id": "c66af2b8-4a9b-40d7-ad41-9bc1b66a7741",
   "metadata": {},
   "outputs": [],
   "source": []
  },
  {
   "cell_type": "code",
   "execution_count": 92,
   "id": "e9f67c8b-b8f1-4c4c-88a2-aa4ede6572a9",
   "metadata": {},
   "outputs": [],
   "source": [
    "feature_labels= ohe.categories_\n"
   ]
  },
  {
   "cell_type": "code",
   "execution_count": null,
   "id": "1aa3fc69-0c6b-485e-8909-d8ed0f3f2044",
   "metadata": {},
   "outputs": [],
   "source": []
  },
  {
   "cell_type": "code",
   "execution_count": 93,
   "id": "d7be746f-0fe5-48d6-af09-c64b8dfb9398",
   "metadata": {},
   "outputs": [
    {
     "data": {
      "text/plain": [
       "array(['American Express travel vouchers', 'auto parts',\n",
       "       'court appointed attorneys', 'funeral directors', 'library books',\n",
       "       'monthly rent and quarterly MH/MR', 'payment voucher',\n",
       "       'petty cash', 'procurement', 'professional services',\n",
       "       'reimbursable expense vouchers for City employees', nan],\n",
       "      dtype=object)"
      ]
     },
     "execution_count": 93,
     "metadata": {},
     "output_type": "execute_result"
    }
   ],
   "source": [
    "np.array(feature_labels).ravel()"
   ]
  },
  {
   "cell_type": "code",
   "execution_count": null,
   "id": "0472f7d5-1b65-41ed-be6a-cbdb83deddb2",
   "metadata": {},
   "outputs": [],
   "source": []
  },
  {
   "cell_type": "code",
   "execution_count": 94,
   "id": "6b91fb59-1937-4879-a3b2-49b2e298da71",
   "metadata": {},
   "outputs": [
    {
     "name": "stdout",
     "output_type": "stream",
     "text": [
      "[array(['American Express travel vouchers', 'auto parts',\n",
      "       'court appointed attorneys', 'funeral directors', 'library books',\n",
      "       'monthly rent and quarterly MH/MR', 'payment voucher',\n",
      "       'petty cash', 'procurement', 'professional services',\n",
      "       'reimbursable expense vouchers for City employees', nan],\n",
      "      dtype=object)]\n"
     ]
    }
   ],
   "source": [
    "print(feature_labels)"
   ]
  },
  {
   "cell_type": "code",
   "execution_count": null,
   "id": "52c4cfa5-c4c7-4b37-b276-0f53925a4bba",
   "metadata": {},
   "outputs": [],
   "source": []
  },
  {
   "cell_type": "code",
   "execution_count": 95,
   "id": "96777b37-6ee2-40d8-be03-9757ee964200",
   "metadata": {},
   "outputs": [
    {
     "data": {
      "text/html": [
       "<div>\n",
       "<style scoped>\n",
       "    .dataframe tbody tr th:only-of-type {\n",
       "        vertical-align: middle;\n",
       "    }\n",
       "\n",
       "    .dataframe tbody tr th {\n",
       "        vertical-align: top;\n",
       "    }\n",
       "\n",
       "    .dataframe thead tr th {\n",
       "        text-align: left;\n",
       "    }\n",
       "</style>\n",
       "<table border=\"1\" class=\"dataframe\">\n",
       "  <thead>\n",
       "    <tr>\n",
       "      <th></th>\n",
       "      <th>American Express travel vouchers</th>\n",
       "      <th>auto parts</th>\n",
       "      <th>court appointed attorneys</th>\n",
       "      <th>funeral directors</th>\n",
       "      <th>library books</th>\n",
       "      <th>monthly rent and quarterly MH/MR</th>\n",
       "      <th>payment voucher</th>\n",
       "      <th>petty cash</th>\n",
       "      <th>procurement</th>\n",
       "      <th>professional services</th>\n",
       "      <th>reimbursable expense vouchers for City employees</th>\n",
       "      <th>NaN</th>\n",
       "    </tr>\n",
       "  </thead>\n",
       "  <tbody>\n",
       "    <tr>\n",
       "      <th>0</th>\n",
       "      <td>0.0</td>\n",
       "      <td>0.0</td>\n",
       "      <td>0.0</td>\n",
       "      <td>0.0</td>\n",
       "      <td>0.0</td>\n",
       "      <td>0.0</td>\n",
       "      <td>1.0</td>\n",
       "      <td>0.0</td>\n",
       "      <td>0.0</td>\n",
       "      <td>0.0</td>\n",
       "      <td>0.0</td>\n",
       "      <td>0.0</td>\n",
       "    </tr>\n",
       "    <tr>\n",
       "      <th>1</th>\n",
       "      <td>0.0</td>\n",
       "      <td>0.0</td>\n",
       "      <td>0.0</td>\n",
       "      <td>0.0</td>\n",
       "      <td>0.0</td>\n",
       "      <td>0.0</td>\n",
       "      <td>1.0</td>\n",
       "      <td>0.0</td>\n",
       "      <td>0.0</td>\n",
       "      <td>0.0</td>\n",
       "      <td>0.0</td>\n",
       "      <td>0.0</td>\n",
       "    </tr>\n",
       "    <tr>\n",
       "      <th>2</th>\n",
       "      <td>0.0</td>\n",
       "      <td>0.0</td>\n",
       "      <td>0.0</td>\n",
       "      <td>0.0</td>\n",
       "      <td>0.0</td>\n",
       "      <td>0.0</td>\n",
       "      <td>1.0</td>\n",
       "      <td>0.0</td>\n",
       "      <td>0.0</td>\n",
       "      <td>0.0</td>\n",
       "      <td>0.0</td>\n",
       "      <td>0.0</td>\n",
       "    </tr>\n",
       "    <tr>\n",
       "      <th>3</th>\n",
       "      <td>0.0</td>\n",
       "      <td>0.0</td>\n",
       "      <td>0.0</td>\n",
       "      <td>0.0</td>\n",
       "      <td>0.0</td>\n",
       "      <td>0.0</td>\n",
       "      <td>0.0</td>\n",
       "      <td>0.0</td>\n",
       "      <td>1.0</td>\n",
       "      <td>0.0</td>\n",
       "      <td>0.0</td>\n",
       "      <td>0.0</td>\n",
       "    </tr>\n",
       "    <tr>\n",
       "      <th>4</th>\n",
       "      <td>0.0</td>\n",
       "      <td>0.0</td>\n",
       "      <td>0.0</td>\n",
       "      <td>0.0</td>\n",
       "      <td>0.0</td>\n",
       "      <td>0.0</td>\n",
       "      <td>0.0</td>\n",
       "      <td>1.0</td>\n",
       "      <td>0.0</td>\n",
       "      <td>0.0</td>\n",
       "      <td>0.0</td>\n",
       "      <td>0.0</td>\n",
       "    </tr>\n",
       "    <tr>\n",
       "      <th>...</th>\n",
       "      <td>...</td>\n",
       "      <td>...</td>\n",
       "      <td>...</td>\n",
       "      <td>...</td>\n",
       "      <td>...</td>\n",
       "      <td>...</td>\n",
       "      <td>...</td>\n",
       "      <td>...</td>\n",
       "      <td>...</td>\n",
       "      <td>...</td>\n",
       "      <td>...</td>\n",
       "      <td>...</td>\n",
       "    </tr>\n",
       "    <tr>\n",
       "      <th>238889</th>\n",
       "      <td>0.0</td>\n",
       "      <td>0.0</td>\n",
       "      <td>0.0</td>\n",
       "      <td>0.0</td>\n",
       "      <td>0.0</td>\n",
       "      <td>0.0</td>\n",
       "      <td>0.0</td>\n",
       "      <td>0.0</td>\n",
       "      <td>0.0</td>\n",
       "      <td>1.0</td>\n",
       "      <td>0.0</td>\n",
       "      <td>0.0</td>\n",
       "    </tr>\n",
       "    <tr>\n",
       "      <th>238890</th>\n",
       "      <td>0.0</td>\n",
       "      <td>0.0</td>\n",
       "      <td>0.0</td>\n",
       "      <td>0.0</td>\n",
       "      <td>0.0</td>\n",
       "      <td>0.0</td>\n",
       "      <td>0.0</td>\n",
       "      <td>0.0</td>\n",
       "      <td>0.0</td>\n",
       "      <td>1.0</td>\n",
       "      <td>0.0</td>\n",
       "      <td>0.0</td>\n",
       "    </tr>\n",
       "    <tr>\n",
       "      <th>238891</th>\n",
       "      <td>0.0</td>\n",
       "      <td>0.0</td>\n",
       "      <td>0.0</td>\n",
       "      <td>0.0</td>\n",
       "      <td>0.0</td>\n",
       "      <td>0.0</td>\n",
       "      <td>0.0</td>\n",
       "      <td>0.0</td>\n",
       "      <td>0.0</td>\n",
       "      <td>1.0</td>\n",
       "      <td>0.0</td>\n",
       "      <td>0.0</td>\n",
       "    </tr>\n",
       "    <tr>\n",
       "      <th>238892</th>\n",
       "      <td>0.0</td>\n",
       "      <td>0.0</td>\n",
       "      <td>0.0</td>\n",
       "      <td>0.0</td>\n",
       "      <td>0.0</td>\n",
       "      <td>0.0</td>\n",
       "      <td>0.0</td>\n",
       "      <td>0.0</td>\n",
       "      <td>0.0</td>\n",
       "      <td>1.0</td>\n",
       "      <td>0.0</td>\n",
       "      <td>0.0</td>\n",
       "    </tr>\n",
       "    <tr>\n",
       "      <th>238893</th>\n",
       "      <td>0.0</td>\n",
       "      <td>0.0</td>\n",
       "      <td>0.0</td>\n",
       "      <td>0.0</td>\n",
       "      <td>0.0</td>\n",
       "      <td>0.0</td>\n",
       "      <td>0.0</td>\n",
       "      <td>0.0</td>\n",
       "      <td>0.0</td>\n",
       "      <td>1.0</td>\n",
       "      <td>0.0</td>\n",
       "      <td>0.0</td>\n",
       "    </tr>\n",
       "  </tbody>\n",
       "</table>\n",
       "<p>238894 rows × 12 columns</p>\n",
       "</div>"
      ],
      "text/plain": [
       "       American Express travel vouchers auto parts court appointed attorneys  \\\n",
       "0                                   0.0        0.0                       0.0   \n",
       "1                                   0.0        0.0                       0.0   \n",
       "2                                   0.0        0.0                       0.0   \n",
       "3                                   0.0        0.0                       0.0   \n",
       "4                                   0.0        0.0                       0.0   \n",
       "...                                 ...        ...                       ...   \n",
       "238889                              0.0        0.0                       0.0   \n",
       "238890                              0.0        0.0                       0.0   \n",
       "238891                              0.0        0.0                       0.0   \n",
       "238892                              0.0        0.0                       0.0   \n",
       "238893                              0.0        0.0                       0.0   \n",
       "\n",
       "       funeral directors library books monthly rent and quarterly MH/MR  \\\n",
       "0                    0.0           0.0                              0.0   \n",
       "1                    0.0           0.0                              0.0   \n",
       "2                    0.0           0.0                              0.0   \n",
       "3                    0.0           0.0                              0.0   \n",
       "4                    0.0           0.0                              0.0   \n",
       "...                  ...           ...                              ...   \n",
       "238889               0.0           0.0                              0.0   \n",
       "238890               0.0           0.0                              0.0   \n",
       "238891               0.0           0.0                              0.0   \n",
       "238892               0.0           0.0                              0.0   \n",
       "238893               0.0           0.0                              0.0   \n",
       "\n",
       "       payment voucher petty cash procurement professional services  \\\n",
       "0                  1.0        0.0         0.0                   0.0   \n",
       "1                  1.0        0.0         0.0                   0.0   \n",
       "2                  1.0        0.0         0.0                   0.0   \n",
       "3                  0.0        0.0         1.0                   0.0   \n",
       "4                  0.0        1.0         0.0                   0.0   \n",
       "...                ...        ...         ...                   ...   \n",
       "238889             0.0        0.0         0.0                   1.0   \n",
       "238890             0.0        0.0         0.0                   1.0   \n",
       "238891             0.0        0.0         0.0                   1.0   \n",
       "238892             0.0        0.0         0.0                   1.0   \n",
       "238893             0.0        0.0         0.0                   1.0   \n",
       "\n",
       "       reimbursable expense vouchers for City employees  NaN  \n",
       "0                                                   0.0  0.0  \n",
       "1                                                   0.0  0.0  \n",
       "2                                                   0.0  0.0  \n",
       "3                                                   0.0  0.0  \n",
       "4                                                   0.0  0.0  \n",
       "...                                                 ...  ...  \n",
       "238889                                              0.0  0.0  \n",
       "238890                                              0.0  0.0  \n",
       "238891                                              0.0  0.0  \n",
       "238892                                              0.0  0.0  \n",
       "238893                                              0.0  0.0  \n",
       "\n",
       "[238894 rows x 12 columns]"
      ]
     },
     "execution_count": 95,
     "metadata": {},
     "output_type": "execute_result"
    }
   ],
   "source": [
    "pd.DataFrame(feature_arry, columns=feature_labels)"
   ]
  },
  {
   "cell_type": "code",
   "execution_count": null,
   "id": "c877a8e8-720f-484f-9513-2f258c005267",
   "metadata": {},
   "outputs": [],
   "source": []
  },
  {
   "cell_type": "markdown",
   "id": "c83ed2db-f629-46a8-9588-780a42db7801",
   "metadata": {},
   "source": [
    "## Die Zweite Data set für Philadelphia Data wurde \n"
   ]
  },
  {
   "cell_type": "code",
   "execution_count": null,
   "id": "e5e91d7c-c907-4d3d-9966-46dc115a24c0",
   "metadata": {},
   "outputs": [],
   "source": []
  },
  {
   "cell_type": "code",
   "execution_count": null,
   "id": "045fcd14-c879-4d25-9664-002995352e89",
   "metadata": {},
   "outputs": [],
   "source": []
  },
  {
   "cell_type": "code",
   "execution_count": null,
   "id": "5d47591d-827a-46a5-81ed-bed839ba2f6c",
   "metadata": {},
   "outputs": [],
   "source": [
    "\n"
   ]
  },
  {
   "cell_type": "code",
   "execution_count": null,
   "id": "ec4a3bff-daa2-44f4-875e-eb798cbeb23a",
   "metadata": {},
   "outputs": [],
   "source": []
  },
  {
   "cell_type": "code",
   "execution_count": null,
   "id": "708ad480-9aec-440f-a3b3-ef6da8315b01",
   "metadata": {},
   "outputs": [],
   "source": []
  },
  {
   "cell_type": "code",
   "execution_count": null,
   "id": "886b39b0-2418-4b14-bceb-1452d7652818",
   "metadata": {},
   "outputs": [],
   "source": []
  },
  {
   "cell_type": "code",
   "execution_count": null,
   "id": "2eda1789-597b-49d9-8f0c-f9611fac33a5",
   "metadata": {},
   "outputs": [],
   "source": []
  },
  {
   "cell_type": "code",
   "execution_count": null,
   "id": "fe192caa-a0dc-4427-811c-0fa90340f934",
   "metadata": {},
   "outputs": [],
   "source": []
  },
  {
   "cell_type": "code",
   "execution_count": null,
   "id": "48d86e02-bdfd-42dc-a9e5-bf0ff6ad5440",
   "metadata": {},
   "outputs": [],
   "source": []
  },
  {
   "cell_type": "code",
   "execution_count": null,
   "id": "29b201a6-7323-429b-a20c-3bdcbe9a5846",
   "metadata": {},
   "outputs": [],
   "source": []
  },
  {
   "cell_type": "code",
   "execution_count": null,
   "id": "4b5536e6-7f1b-431f-b258-6ae052c73baa",
   "metadata": {},
   "outputs": [],
   "source": []
  },
  {
   "cell_type": "code",
   "execution_count": null,
   "id": "a24abd5c-8711-4b65-a3ec-f44eedc07c74",
   "metadata": {},
   "outputs": [],
   "source": []
  },
  {
   "cell_type": "code",
   "execution_count": null,
   "id": "c6009f69-4a29-4827-9ba7-d32e66715fff",
   "metadata": {},
   "outputs": [],
   "source": []
  },
  {
   "cell_type": "code",
   "execution_count": null,
   "id": "41b844ce-bc78-4fb7-a963-6d56bda32892",
   "metadata": {},
   "outputs": [],
   "source": []
  },
  {
   "cell_type": "code",
   "execution_count": null,
   "id": "6fba8411-4ced-4409-abb6-7a6a1e8eed5c",
   "metadata": {},
   "outputs": [],
   "source": []
  },
  {
   "cell_type": "code",
   "execution_count": null,
   "id": "6d11c496-66f7-4313-988f-d863c8df3652",
   "metadata": {},
   "outputs": [],
   "source": []
  },
  {
   "cell_type": "code",
   "execution_count": null,
   "id": "18489120-7456-4a03-a6bf-6b04a0109053",
   "metadata": {},
   "outputs": [],
   "source": []
  },
  {
   "cell_type": "code",
   "execution_count": null,
   "id": "5be9824e-f479-4f9a-a4b6-e19593b8faa4",
   "metadata": {},
   "outputs": [],
   "source": []
  },
  {
   "cell_type": "code",
   "execution_count": null,
   "id": "fafb06c9-ffda-4d87-b4b0-ca89cba24c56",
   "metadata": {},
   "outputs": [],
   "source": []
  },
  {
   "cell_type": "code",
   "execution_count": null,
   "id": "74909fed-f40c-4ce8-82c5-0109c05da985",
   "metadata": {},
   "outputs": [],
   "source": []
  },
  {
   "cell_type": "code",
   "execution_count": null,
   "id": "2f1d8965-a985-451c-95d1-c6653d4a3343",
   "metadata": {},
   "outputs": [],
   "source": []
  },
  {
   "cell_type": "code",
   "execution_count": null,
   "id": "5d218ef9-48bc-4a54-b174-6fa7802de249",
   "metadata": {},
   "outputs": [],
   "source": []
  },
  {
   "cell_type": "code",
   "execution_count": null,
   "id": "4a0d0706-de22-4da5-ae97-4364ed6c56f4",
   "metadata": {},
   "outputs": [],
   "source": []
  }
 ],
 "metadata": {
  "kernelspec": {
   "display_name": "Python 3 (ipykernel)",
   "language": "python",
   "name": "python3"
  },
  "language_info": {
   "codemirror_mode": {
    "name": "ipython",
    "version": 3
   },
   "file_extension": ".py",
   "mimetype": "text/x-python",
   "name": "python",
   "nbconvert_exporter": "python",
   "pygments_lexer": "ipython3",
   "version": "3.12.4"
  }
 },
 "nbformat": 4,
 "nbformat_minor": 5
}
